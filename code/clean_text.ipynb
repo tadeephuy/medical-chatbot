{
 "cells": [
  {
   "cell_type": "code",
   "execution_count": 1,
   "metadata": {},
   "outputs": [],
   "source": [
    "%load_ext autoreload\n",
    "%autoreload 2\n",
    "import os\n",
    "import torch\n",
    "import json\n",
    "from helper.utils import clear_special,check_null"
   ]
  },
  {
   "cell_type": "code",
   "execution_count": 2,
   "metadata": {},
   "outputs": [],
   "source": [
    "_RESOURCE_PATH = '../resource'"
   ]
  },
  {
   "cell_type": "code",
   "execution_count": 3,
   "metadata": {},
   "outputs": [],
   "source": [
    "open_structure = open(os.path.join(_RESOURCE_PATH,'structure.json'),'r').readlines()"
   ]
  },
  {
   "cell_type": "code",
   "execution_count": 4,
   "metadata": {},
   "outputs": [],
   "source": [
    "full_structure = []\n",
    "for line in open_structure:\n",
    "    full_structure.append(json.loads(line))"
   ]
  },
  {
   "cell_type": "code",
   "execution_count": 9,
   "metadata": {},
   "outputs": [
    {
     "data": {
      "text/plain": [
       "{'part_num': 6,\n",
       " 'part_title': 'The Part of Tens\\n',\n",
       " 'idx_part_text': 7087,\n",
       " 'capacity': [7088, 7095],\n",
       " 'chapter': [{'chapter_num': 18,\n",
       "   'chapter_title': 'Ten Ways to Help Your Community\\n',\n",
       "   'idx_chap_text': 7096,\n",
       "   'capacity': [7097, 7110],\n",
       "   'section': [{'section_title': 'Join a Group for a More Powerful Voice\\n',\n",
       "     'idx_sec_text': 7111,\n",
       "     'capacity': [7112, 7113],\n",
       "     'subsection': [{'subsection_title': 'Local stroke clubs and support groups\\n',\n",
       "       'capacity': [7115, 7123],\n",
       "       'idx_subsec_text': 7114},\n",
       "      {'subsection_title': 'Regional, state, and national organizations\\n',\n",
       "       'capacity': [7125, 7154],\n",
       "       'idx_subsec_text': 7124}]},\n",
       "    {'section_title': 'Share Knowledge with \\nFriends and Family\\n',\n",
       "     'idx_sec_text': 7155,\n",
       "     'capacity': [7156, 7158],\n",
       "     'subsection': []},\n",
       "    {'section_title': 'Work with Local Hospitals\\n',\n",
       "     'idx_sec_text': 7159,\n",
       "     'capacity': [7160, 7184],\n",
       "     'subsection': []},\n",
       "    {'section_title': 'Check into Emergency Medical Services\\n',\n",
       "     'idx_sec_text': 7185,\n",
       "     'capacity': [7186, 7204],\n",
       "     'subsection': []},\n",
       "    {'section_title': 'Educate Schoolchildren About Stroke\\n',\n",
       "     'idx_sec_text': 7205,\n",
       "     'capacity': [7206, 7209],\n",
       "     'subsection': []},\n",
       "    {'section_title': 'Start Your Own Stroke Recovery Group\\n',\n",
       "     'idx_sec_text': 7210,\n",
       "     'capacity': [7211, 7227],\n",
       "     'subsection': []},\n",
       "    {'section_title': 'Suggest News Stories About \\nStroke Champions\\n',\n",
       "     'idx_sec_text': 7228,\n",
       "     'capacity': [7229, 7230],\n",
       "     'subsection': []},\n",
       "    {'section_title': 'Get Your Community to Participate \\nin Stroke Research\\n',\n",
       "     'idx_sec_text': 7231,\n",
       "     'capacity': [7232, 7242],\n",
       "     'subsection': []},\n",
       "    {'section_title': 'Volunteer for Stroke Research\\n',\n",
       "     'idx_sec_text': 7243,\n",
       "     'capacity': [7244, 7247],\n",
       "     'subsection': []},\n",
       "    {'section_title': 'Make Sense of Health Policy\\n',\n",
       "     'idx_sec_text': 7248,\n",
       "     'capacity': [7249, 7258],\n",
       "     'subsection': []}]},\n",
       "  {'chapter_num': 19,\n",
       "   'chapter_title': 'Five Remarkable Stroke\\n',\n",
       "   'idx_chap_text': 7259,\n",
       "   'capacity': [7260, 7281],\n",
       "   'section': [{'section_title': 'President Woodrow Wilson Overcomes\\nStroke and Leads a Country\\n',\n",
       "     'idx_sec_text': 7282,\n",
       "     'capacity': [7283, 7300],\n",
       "     'subsection': []},\n",
       "    {'section_title': 'Miss America Jacqueline Mayer\\nDiscovers a Different Kind of Beauty\\n',\n",
       "     'idx_sec_text': 7301,\n",
       "     'capacity': [7302, 7310],\n",
       "     'subsection': []},\n",
       "    {'section_title': 'Composer  George Frideric Handel \\nWrites “Messiah” After Stroke\\n',\n",
       "     'idx_sec_text': 7311,\n",
       "     'capacity': [7312, 7323],\n",
       "     'subsection': []},\n",
       "    {'section_title': 'Writer Ken Kesey Found TPA the \\nDrug of Choice After Stroke\\n',\n",
       "     'idx_sec_text': 7324,\n",
       "     'capacity': [7325, 7338],\n",
       "     'subsection': []},\n",
       "    {'section_title': 'Actress Patricia Neal Recovers \\nto Earn an Oscar Nomination\\n',\n",
       "     'idx_sec_text': 7339,\n",
       "     'capacity': [7340, 7348],\n",
       "     'subsection': []},\n",
       "    {'section_title': 'Your Remarkable Stroke Recovery\\n',\n",
       "     'idx_sec_text': 7349,\n",
       "     'capacity': [7350, 7356],\n",
       "     'subsection': []}]},\n",
       "  {'chapter_num': 20,\n",
       "   'chapter_title': 'Ten Opportunities \\nto Prevent Stroke\\n',\n",
       "   'idx_chap_text': 7357,\n",
       "   'capacity': [7358, 7367],\n",
       "   'section': [{'section_title': 'Gathering Information\\n',\n",
       "     'idx_sec_text': 7368,\n",
       "     'capacity': [7369, 7400],\n",
       "     'subsection': []},\n",
       "    {'section_title': 'Treating High Blood Pressure\\n',\n",
       "     'idx_sec_text': 7401,\n",
       "     'capacity': [7402, 7409],\n",
       "     'subsection': []},\n",
       "    {'section_title': 'Preventing Blood Clot Formation\\n',\n",
       "     'idx_sec_text': 7410,\n",
       "     'capacity': [7411, 7414],\n",
       "     'subsection': []},\n",
       "    {'section_title': 'Reducing Cholesterol in Your Blood\\n',\n",
       "     'idx_sec_text': 7415,\n",
       "     'capacity': [7416, 7428],\n",
       "     'subsection': []},\n",
       "    {'section_title': 'Treating Atrial Fibrillation\\n',\n",
       "     'idx_sec_text': 7429,\n",
       "     'capacity': [7430, 7435],\n",
       "     'subsection': []},\n",
       "    {'section_title': 'Checking Out Your Carotid Arteries\\n',\n",
       "     'idx_sec_text': 7436,\n",
       "     'capacity': [7437, 7449],\n",
       "     'subsection': []},\n",
       "    {'section_title': 'Eating Right and Staying Hydrated\\n',\n",
       "     'idx_sec_text': 7450,\n",
       "     'capacity': [7451, 7451],\n",
       "     'subsection': []},\n",
       "    {'section_title': 'Stopping Smoking\\n',\n",
       "     'idx_sec_text': 7452,\n",
       "     'capacity': [7453, 7454],\n",
       "     'subsection': []},\n",
       "    {'section_title': 'Exercising Your Muscles and Your Brain\\n',\n",
       "     'idx_sec_text': 7455,\n",
       "     'capacity': [7456, 7463],\n",
       "     'subsection': []},\n",
       "    {'section_title': 'Writing Up a Maintenance Plan\\n',\n",
       "     'idx_sec_text': 7464,\n",
       "     'capacity': [7465, 7472],\n",
       "     'subsection': []}]}]}"
      ]
     },
     "execution_count": 9,
     "metadata": {},
     "output_type": "execute_result"
    }
   ],
   "source": [
    "full_structure[-1]"
   ]
  },
  {
   "cell_type": "code",
   "execution_count": 7,
   "metadata": {},
   "outputs": [],
   "source": [
    "list_text = torch.load(os.path.join(_RESOURCE_PATH,'text.h5'))"
   ]
  },
  {
   "cell_type": "code",
   "execution_count": 11,
   "metadata": {},
   "outputs": [
    {
     "data": {
      "text/plain": [
       "7"
      ]
     },
     "execution_count": 11,
     "metadata": {},
     "output_type": "execute_result"
    }
   ],
   "source": [
    "7472-7465"
   ]
  },
  {
   "cell_type": "code",
   "execution_count": 10,
   "metadata": {},
   "outputs": [
    {
     "data": {
      "text/plain": [
       "['Of course, you plan to follow some new guidelines to protect your health and\\nprevent stroke — but such a stroke-prevention plan will work much better if\\nyou write it down and have it to refer to as you progress. It will work even\\nbetter if you share your plan with your family and others who live with you.\\nYour maintenance plan should be developed with the involvement of your\\nstroke physician. By working together to create a written outline, you’ll\\nensure mutual understanding of what steps must be followed to protect you\\nfrom future stroke problems.\\n',\n",
       " 'Of course, writing down the plan is only the first part of the process — you’ll\\nhave to ',\n",
       " 'follow ',\n",
       " 'the plan diligently to enjoy the results. Consistently taking\\nmedications, getting blood tests when you need them, and having check-ups\\nin time to catch problems early can take considerable effort. Evidence\\n',\n",
       " 'strongly supports that the effort is worthwhile.\\n',\n",
       " 'After a stroke, you are at great risk of having another stroke, not to mention\\nsome kind of heart disease. Although you can’t change your stroke history,\\nyou can proactively work to stave off future and possibly more disabling\\nstrokes. Plenty of research supports that taking certain steps — eliminating\\nsmoking from your life, lowering your blood pressure, reducing your choles-\\nterol level, to name a few — increases your chances to prevent stroke and\\nprolong your life. These opportunities have as much to offer you as seat belts\\nin your car or looking both ways when you cross the street. It’s your choice.\\n',\n",
       " '31_572016_gloss.qxd  8/3/05  7:05 PM  Page 329\\n']"
      ]
     },
     "execution_count": 10,
     "metadata": {},
     "output_type": "execute_result"
    }
   ],
   "source": [
    "list_text[7465:7472]"
   ]
  },
  {
   "cell_type": "code",
   "execution_count": 191,
   "metadata": {},
   "outputs": [
    {
     "data": {
      "text/plain": [
       "['Dizzy spells are extremely difficult to figure out — especially when they clear\\nup in a few minutes. There can be an episode of “wooziness” when the brain\\njust doesn’t feel right. There can be bouts of spinning vertigo with nausea\\nand vomiting. A spell of lightheadedness, or vertigo, is usually not a stroke.\\nThere are many causes of vertigo: viral infection, an unusual form of\\nmigraine, even a benign condition that results in vertigo when you rise up\\nfrom bed or move your head in certain ways.\\n',\n",
       " 'But stroke is one of the causes of room-spinning vertigo, too. How do you\\nknow if that dizzy spell you just had is a sign of a transient stroke? Stroke-\\ncaused vertigo is often associated with other symptoms, including numbness\\nor weakness on the side of the face, a droopy eyelid, or double vision.\\n',\n",
       " '09_572016_ch04.qxd  8/3/05  6:48 PM  Page 76\\n',\n",
       " '76 ',\n",
       " 'Part II: Types of Stroke \\n',\n",
       " 'Sometimes dizziness caused by a stroke can be associated with clumsiness\\nor weakness of the hand. Likewise, you might have difficulty with balance\\nwhile you are walking — or staggering, as the case may be — supporting\\nyourself against tables and chairs.\\n',\n",
       " 'Age is another indicator of whether your dizziness is likely to be stroke-related.\\nA dizzy episode when you are 33 is probably not a stroke in progress. (It’s not\\n',\n",
       " 'impossible, ',\n",
       " 'though, especially if you are taking birth-control pills and smok-\\ning cigarettes.) If you are 67, stroke is a more likely culprit — particularly if\\nyou also have high blood pressure, diabetes, and a history of heart trouble.\\n']"
      ]
     },
     "execution_count": 191,
     "metadata": {},
     "output_type": "execute_result"
    }
   ],
   "source": [
    "sample = list_text[1935:1944]\n",
    "sample"
   ]
  },
  {
   "cell_type": "code",
   "execution_count": 192,
   "metadata": {
    "scrolled": true
   },
   "outputs": [],
   "source": [
    "\n",
    "sample = check_null([clear_special(item) for item in sample])"
   ]
  },
  {
   "cell_type": "code",
   "execution_count": 193,
   "metadata": {
    "scrolled": true
   },
   "outputs": [
    {
     "data": {
      "text/plain": [
       "['Dizzy spells are extremely difficult to figure out especially when they clear up in a few minutes. There can be an episode of wooziness when the brain just doesn t feel right. There can be bouts of spinning vertigo with nausea and vomiting. A spell of lightheadedness, or vertigo, is usually not a stroke. There are many causes of vertigo: viral infection, an unusual form of migraine, even a benign condition that results in vertigo when you rise up from bed or move your head in certain ways.',\n",
       " 'But stroke is one of the causes of room spinning vertigo, too. How do you know if that dizzy spell you just had is a sign of a transient stroke? Strokecaused vertigo is often associated with other symptoms, including numbness or weakness on the side of the face, a droopy eyelid, or double vision.',\n",
       " '09 572016 ch04.qxd 8/3/05 6:48 PM Page 76',\n",
       " '76',\n",
       " 'Part II: Types of Stroke',\n",
       " 'Sometimes dizziness caused by a stroke can be associated with clumsiness or weakness of the hand. Likewise, you might have difficulty with balance while you are walking or staggering, as the case may be supporting yourself against tables and chairs.',\n",
       " 'Age is another indicator of whether your dizziness is likely to be stroke related. A dizzy episode when you are 33 is probably not a stroke in progress. (It s not',\n",
       " 'impossible,',\n",
       " 'though, especially if you are taking birth control pills and smoking cigarettes.) If you are 67, stroke is a more likely culprit particularly if you also have high blood pressure, diabetes, and a history of heart trouble.']"
      ]
     },
     "execution_count": 193,
     "metadata": {},
     "output_type": "execute_result"
    }
   ],
   "source": [
    "sample"
   ]
  },
  {
   "cell_type": "code",
   "execution_count": 194,
   "metadata": {},
   "outputs": [],
   "source": [
    "def reshape_paragraph(raw_text):\n",
    "    list_reshape = []\n",
    "    list_phrase = []\n",
    "    for idx, phrase in enumerate(raw_text):\n",
    "        try:\n",
    "            if idx < len(raw_text) - 1:\n",
    "                ## check capitalize\n",
    "                curr_phrase = str(phrase.split(' ')[-1])[0]\n",
    "                next_phrase = raw_text[idx+1].split(' ')[0][0]\n",
    "                \"\"\"\n",
    "                l | l | join\n",
    "                l | u | discr\n",
    "                u | l | join\n",
    "                u | u | join\n",
    "                \"\"\"\n",
    "                if curr_phrase.islower() and next_phrase.isupper():\n",
    "                    if phrase not in list_phrase:\n",
    "                        list_phrase.append(phrase)\n",
    "                    list_reshape.append(list_phrase)\n",
    "                    list_phrase = []\n",
    "                else:\n",
    "                    if phrase not in list_phrase:\n",
    "                        list_phrase.append(phrase)\n",
    "\n",
    "                    list_phrase.append(raw_text[idx+1])\n",
    "\n",
    "            else:\n",
    "                if phrase not in list_phrase:\n",
    "                    list_phrase.append(phrase)\n",
    "                list_reshape.append(list_phrase)\n",
    "    \n",
    "\n",
    "        except Exception as e:\n",
    "            print('Fail module {0} at index {1} because {2}'.format(str('join_paragraph'),str(idx),str(e)))\n",
    "            \n",
    "    return list_reshape"
   ]
  },
  {
   "cell_type": "code",
   "execution_count": 195,
   "metadata": {},
   "outputs": [],
   "source": [
    "def join_paragraph(list_phrase):\n",
    "    list_paragraph = []\n",
    "    for item in list_phrase:\n",
    "        list_paragraph.append(' '.join(item))\n",
    "    return list_paragraph"
   ]
  },
  {
   "cell_type": "code",
   "execution_count": 196,
   "metadata": {},
   "outputs": [
    {
     "data": {
      "text/plain": [
       "[['Dizzy spells are extremely difficult to figure out especially when they clear up in a few minutes. There can be an episode of wooziness when the brain just doesn t feel right. There can be bouts of spinning vertigo with nausea and vomiting. A spell of lightheadedness, or vertigo, is usually not a stroke. There are many causes of vertigo: viral infection, an unusual form of migraine, even a benign condition that results in vertigo when you rise up from bed or move your head in certain ways.'],\n",
       " ['But stroke is one of the causes of room spinning vertigo, too. How do you know if that dizzy spell you just had is a sign of a transient stroke? Strokecaused vertigo is often associated with other symptoms, including numbness or weakness on the side of the face, a droopy eyelid, or double vision.',\n",
       "  '09 572016 ch04.qxd 8/3/05 6:48 PM Page 76',\n",
       "  '76',\n",
       "  'Part II: Types of Stroke',\n",
       "  'Sometimes dizziness caused by a stroke can be associated with clumsiness or weakness of the hand. Likewise, you might have difficulty with balance while you are walking or staggering, as the case may be supporting yourself against tables and chairs.'],\n",
       " ['Age is another indicator of whether your dizziness is likely to be stroke related. A dizzy episode when you are 33 is probably not a stroke in progress. (It s not',\n",
       "  'impossible,',\n",
       "  'though, especially if you are taking birth control pills and smoking cigarettes.) If you are 67, stroke is a more likely culprit particularly if you also have high blood pressure, diabetes, and a history of heart trouble.']]"
      ]
     },
     "execution_count": 196,
     "metadata": {},
     "output_type": "execute_result"
    }
   ],
   "source": [
    "reshape_paragraph(sample)"
   ]
  },
  {
   "cell_type": "code",
   "execution_count": 197,
   "metadata": {},
   "outputs": [
    {
     "data": {
      "text/plain": [
       "['Dizzy spells are extremely difficult to figure out especially when they clear up in a few minutes. There can be an episode of wooziness when the brain just doesn t feel right. There can be bouts of spinning vertigo with nausea and vomiting. A spell of lightheadedness, or vertigo, is usually not a stroke. There are many causes of vertigo: viral infection, an unusual form of migraine, even a benign condition that results in vertigo when you rise up from bed or move your head in certain ways.',\n",
       " 'But stroke is one of the causes of room spinning vertigo, too. How do you know if that dizzy spell you just had is a sign of a transient stroke? Strokecaused vertigo is often associated with other symptoms, including numbness or weakness on the side of the face, a droopy eyelid, or double vision. 09 572016 ch04.qxd 8/3/05 6:48 PM Page 76 76 Part II: Types of Stroke Sometimes dizziness caused by a stroke can be associated with clumsiness or weakness of the hand. Likewise, you might have difficulty with balance while you are walking or staggering, as the case may be supporting yourself against tables and chairs.',\n",
       " 'Age is another indicator of whether your dizziness is likely to be stroke related. A dizzy episode when you are 33 is probably not a stroke in progress. (It s not impossible, though, especially if you are taking birth control pills and smoking cigarettes.) If you are 67, stroke is a more likely culprit particularly if you also have high blood pressure, diabetes, and a history of heart trouble.']"
      ]
     },
     "execution_count": 197,
     "metadata": {},
     "output_type": "execute_result"
    }
   ],
   "source": [
    "list_reshape = join_paragraph(reshape_paragraph(sample))\n",
    "list_reshape"
   ]
  }
 ],
 "metadata": {
  "kernelspec": {
   "display_name": "nlp",
   "language": "python",
   "name": "nlp"
  },
  "language_info": {
   "codemirror_mode": {
    "name": "ipython",
    "version": 3
   },
   "file_extension": ".py",
   "mimetype": "text/x-python",
   "name": "python",
   "nbconvert_exporter": "python",
   "pygments_lexer": "ipython3",
   "version": "3.6.12"
  }
 },
 "nbformat": 4,
 "nbformat_minor": 4
}
