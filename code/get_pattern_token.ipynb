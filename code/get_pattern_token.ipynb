{
 "cells": [
  {
   "cell_type": "code",
   "execution_count": 22,
   "metadata": {},
   "outputs": [],
   "source": [
    "import pandas as pd\n",
    "import os\n",
    "from google_trans_new import google_translator  \n",
    "import json\n",
    "import random"
   ]
  },
  {
   "cell_type": "code",
   "execution_count": 34,
   "metadata": {},
   "outputs": [
    {
     "data": {
      "text/plain": [
       "0.7"
      ]
     },
     "execution_count": 34,
     "metadata": {},
     "output_type": "execute_result"
    }
   ],
   "source": [
    "random.randint(0,10)/10"
   ]
  },
  {
   "cell_type": "code",
   "execution_count": 2,
   "metadata": {},
   "outputs": [],
   "source": [
    "kb_path = '/home/taindp/MEDICAL_BOT/data/medical_knowledge_base.csv'"
   ]
  },
  {
   "cell_type": "code",
   "execution_count": 5,
   "metadata": {},
   "outputs": [],
   "source": [
    "# df_kb_medical = pd.read_csv(kb_path)\n",
    "# df_kb_medical.head()"
   ]
  },
  {
   "cell_type": "code",
   "execution_count": 6,
   "metadata": {},
   "outputs": [],
   "source": [
    "## name: is desease\n",
    "## desc: is overview\n",
    "## cure: treatment\n",
    "intent_old_path = '/home/taindp/MEDICAL_BOT/data/intent.json'"
   ]
  },
  {
   "cell_type": "code",
   "execution_count": 14,
   "metadata": {},
   "outputs": [],
   "source": [
    "def translate_vi2en(origin_text,dest_lang='en'):\n",
    "    translator = google_translator()  \n",
    "    translate_text = translator.translate(origin_text,lang_tgt=dest_lang)  \n",
    "    return translate_text"
   ]
  },
  {
   "cell_type": "code",
   "execution_count": 15,
   "metadata": {},
   "outputs": [],
   "source": [
    "dict_token_intent = json.load(open(intent_old_path,'r'))"
   ]
  },
  {
   "cell_type": "code",
   "execution_count": 21,
   "metadata": {},
   "outputs": [
    {
     "name": "stdout",
     "output_type": "stream",
     "text": [
      "overview\n",
      "['information ', 'TT. ', 'infor ', 'define ']\n",
      "symptoms\n",
      "['symptom ', 'expression ', 'signal ', 'symptoms ', 'dau hieu ', 'symptom ', 'see ', 'look ']\n",
      "main_type\n",
      "['variant ', 'Category ', 'species ', 'include ', 'including ', 'types ', 'type ', 'including ', 'types ']\n",
      "risk_factor\n",
      "['risk ', 'have susceptible ', 'element ', 'risk ', 'potential ', 'easy to meet ', 'susceptible ']\n",
      "severe\n",
      "['danger ', 'serious ', 'level ', 'affect ', 'severity ', 'injury ', 'damages ']\n",
      "prevention\n",
      "['prevent ', 'avoid ', 'prevent ', 'prevent ', 'neither ', 'prevent ', 'anti- ', 'for ', 'prevention method ', 'Preventing methods ']\n",
      "diag\n",
      "['diagnose ', 'Diagnostic ', 'check ', 'guess ', 'determined ', 'test ', 'accreditation ', 'diag ', 'screening ', 'screening ', 'filter ']\n",
      "treatment\n",
      "['treatment ', 'rule ', 'off ', 'treatment ', 'cure ', 'over ', 'cure ', 'treatment ', 'prick ']\n"
     ]
    }
   ],
   "source": [
    "for item in list(dict_token_intent.keys()):\n",
    "    field = dict_token_intent[item]\n",
    "    tokens_rule = field['key']\n",
    "    \n",
    "    print(item)\n",
    "#     [print(t) for t in tokens_rule]\n",
    "\n",
    "    tokens_rule_trans = [translate_vi2en(t) for t in tokens_rule]\n",
    "    print(tokens_rule_trans)"
   ]
  }
 ],
 "metadata": {
  "kernelspec": {
   "display_name": "disease",
   "language": "python",
   "name": "disease"
  },
  "language_info": {
   "codemirror_mode": {
    "name": "ipython",
    "version": 3
   },
   "file_extension": ".py",
   "mimetype": "text/x-python",
   "name": "python",
   "nbconvert_exporter": "python",
   "pygments_lexer": "ipython3",
   "version": "3.6.13"
  }
 },
 "nbformat": 4,
 "nbformat_minor": 4
}
