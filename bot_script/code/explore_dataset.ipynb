{
 "cells": [
  {
   "cell_type": "code",
   "execution_count": 1,
   "metadata": {},
   "outputs": [],
   "source": [
    "import pandas as pd\n",
    "import os\n",
    "from glob import glob"
   ]
  },
  {
   "cell_type": "code",
   "execution_count": 2,
   "metadata": {},
   "outputs": [],
   "source": [
    "_DATASET_PATH = '/home/taindp/VINBRAIN_INTERNSHIP/bot_script/data'"
   ]
  },
  {
   "cell_type": "code",
   "execution_count": 3,
   "metadata": {},
   "outputs": [
    {
     "data": {
      "text/plain": [
       "['/home/taindp/VINBRAIN_INTERNSHIP/bot_script/data/thalas.csv',\n",
       " '/home/taindp/VINBRAIN_INTERNSHIP/bot_script/data/liver_cancer.csv',\n",
       " '/home/taindp/VINBRAIN_INTERNSHIP/bot_script/data/rectal_cancer.csv']"
      ]
     },
     "execution_count": 3,
     "metadata": {},
     "output_type": "execute_result"
    }
   ],
   "source": [
    "list_dataset = glob(os.path.join(_DATASET_PATH,'*.csv'))\n",
    "list_dataset"
   ]
  },
  {
   "cell_type": "markdown",
   "metadata": {},
   "source": [
    "## THALAS"
   ]
  },
  {
   "cell_type": "code",
   "execution_count": 4,
   "metadata": {},
   "outputs": [
    {
     "data": {
      "text/html": [
       "<div>\n",
       "<style scoped>\n",
       "    .dataframe tbody tr th:only-of-type {\n",
       "        vertical-align: middle;\n",
       "    }\n",
       "\n",
       "    .dataframe tbody tr th {\n",
       "        vertical-align: top;\n",
       "    }\n",
       "\n",
       "    .dataframe thead th {\n",
       "        text-align: right;\n",
       "    }\n",
       "</style>\n",
       "<table border=\"1\" class=\"dataframe\">\n",
       "  <thead>\n",
       "    <tr style=\"text-align: right;\">\n",
       "      <th></th>\n",
       "      <th>ID</th>\n",
       "      <th>Overview</th>\n",
       "      <th>Symptom</th>\n",
       "      <th>Cause and Risk factors</th>\n",
       "      <th>Diagnosis</th>\n",
       "      <th>treatment</th>\n",
       "      <th>link</th>\n",
       "    </tr>\n",
       "  </thead>\n",
       "  <tbody>\n",
       "    <tr>\n",
       "      <th>0</th>\n",
       "      <td>1</td>\n",
       "      <td>Thalassemia (thal-uh-SEE-me-uh) is an inherite...</td>\n",
       "      <td>There are several types of thalassemia. The si...</td>\n",
       "      <td>Thalassemia is caused by mutations in the DNA ...</td>\n",
       "      <td>Most children with moderate to severe thalasse...</td>\n",
       "      <td>Mild forms of thalassemia trait don't need tre...</td>\n",
       "      <td>https://www.mayoclinic.org/diseases-conditions...</td>\n",
       "    </tr>\n",
       "    <tr>\n",
       "      <th>1</th>\n",
       "      <td>2</td>\n",
       "      <td>Thalassemia is an inherited blood disorder in ...</td>\n",
       "      <td>The symptoms of thalassemia can vary. Some of ...</td>\n",
       "      <td>Thalassemia occurs when there’s an abnormality...</td>\n",
       "      <td>If your doctor is trying to diagnose thalassem...</td>\n",
       "      <td>The treatment for thalassemia depends on the t...</td>\n",
       "      <td>https://www.healthline.com/health/thalassemia#...</td>\n",
       "    </tr>\n",
       "    <tr>\n",
       "      <th>2</th>\n",
       "      <td>3</td>\n",
       "      <td>Thalassemia is an inherited blood condition. I...</td>\n",
       "      <td>These can include:\\n\\nSlow growth in children\\...</td>\n",
       "      <td>Thalassemia is genetic. It happens when you in...</td>\n",
       "      <td>If you think you may have thalassemia, or if y...</td>\n",
       "      <td>If you have thalassemia, follow these habits t...</td>\n",
       "      <td>https://www.webmd.com/a-to-z-guides/what-is-th...</td>\n",
       "    </tr>\n",
       "    <tr>\n",
       "      <th>3</th>\n",
       "      <td>4</td>\n",
       "      <td>Thalassemia is an inherited blood disorder tha...</td>\n",
       "      <td>The symptoms of thalassemia vary depending on ...</td>\n",
       "      <td>The protein hemoglobin transports oxygen aroun...</td>\n",
       "      <td>Most children with moderate to severe thalasse...</td>\n",
       "      <td>Blood transfusions: These can replenish hemogl...</td>\n",
       "      <td>https://www.medicalnewstoday.com/articles/263489</td>\n",
       "    </tr>\n",
       "    <tr>\n",
       "      <th>4</th>\n",
       "      <td>5</td>\n",
       "      <td>Thalassaemia is the name for a group of inheri...</td>\n",
       "      <td>Most people born with thalassaemia experience ...</td>\n",
       "      <td>Thalassaemia is caused by faulty genes that af...</td>\n",
       "      <td>Thalassaemia is often detected during pregnanc...</td>\n",
       "      <td>People with thalassaemia major or other seriou...</td>\n",
       "      <td>https://www.nhs.uk/conditions/thalassaemia/</td>\n",
       "    </tr>\n",
       "  </tbody>\n",
       "</table>\n",
       "</div>"
      ],
      "text/plain": [
       "   ID                                           Overview  \\\n",
       "0   1  Thalassemia (thal-uh-SEE-me-uh) is an inherite...   \n",
       "1   2  Thalassemia is an inherited blood disorder in ...   \n",
       "2   3  Thalassemia is an inherited blood condition. I...   \n",
       "3   4  Thalassemia is an inherited blood disorder tha...   \n",
       "4   5  Thalassaemia is the name for a group of inheri...   \n",
       "\n",
       "                                             Symptom  \\\n",
       "0  There are several types of thalassemia. The si...   \n",
       "1  The symptoms of thalassemia can vary. Some of ...   \n",
       "2  These can include:\\n\\nSlow growth in children\\...   \n",
       "3  The symptoms of thalassemia vary depending on ...   \n",
       "4  Most people born with thalassaemia experience ...   \n",
       "\n",
       "                              Cause and Risk factors  \\\n",
       "0  Thalassemia is caused by mutations in the DNA ...   \n",
       "1  Thalassemia occurs when there’s an abnormality...   \n",
       "2  Thalassemia is genetic. It happens when you in...   \n",
       "3  The protein hemoglobin transports oxygen aroun...   \n",
       "4  Thalassaemia is caused by faulty genes that af...   \n",
       "\n",
       "                                           Diagnosis  \\\n",
       "0  Most children with moderate to severe thalasse...   \n",
       "1  If your doctor is trying to diagnose thalassem...   \n",
       "2  If you think you may have thalassemia, or if y...   \n",
       "3  Most children with moderate to severe thalasse...   \n",
       "4  Thalassaemia is often detected during pregnanc...   \n",
       "\n",
       "                                           treatment  \\\n",
       "0  Mild forms of thalassemia trait don't need tre...   \n",
       "1  The treatment for thalassemia depends on the t...   \n",
       "2  If you have thalassemia, follow these habits t...   \n",
       "3  Blood transfusions: These can replenish hemogl...   \n",
       "4  People with thalassaemia major or other seriou...   \n",
       "\n",
       "                                                link  \n",
       "0  https://www.mayoclinic.org/diseases-conditions...  \n",
       "1  https://www.healthline.com/health/thalassemia#...  \n",
       "2  https://www.webmd.com/a-to-z-guides/what-is-th...  \n",
       "3   https://www.medicalnewstoday.com/articles/263489  \n",
       "4        https://www.nhs.uk/conditions/thalassaemia/  "
      ]
     },
     "execution_count": 4,
     "metadata": {},
     "output_type": "execute_result"
    }
   ],
   "source": [
    "thalas = pd.read_csv(list_dataset[0])\n",
    "thalas"
   ]
  },
  {
   "cell_type": "code",
   "execution_count": 15,
   "metadata": {},
   "outputs": [
    {
     "data": {
      "text/plain": [
       "\"Thalassemia is caused by mutations in the DNA of cells that make hemoglobin — the substance in red blood cells that carries oxygen throughout your body. The mutations associated with thalassemia are passed from parents to children.\\n\\nHemoglobin molecules are made of chains called alpha and beta chains that can be affected by mutations. In thalassemia, the production of either the alpha or beta chains are reduced, resulting in either alpha-thalassemia or beta-thalassemia.\\n\\nIn alpha-thalassemia, the severity of thalassemia you have depends on the number of gene mutations you inherit from your parents. The more mutated genes, the more severe your thalassemia.\\n\\nIn beta-thalassemia, the severity of thalassemia you have depends on which part of the hemoglobin molecule is affected.\\n\\nAlpha-thalassemia\\nFour genes are involved in making the alpha hemoglobin chain. You get two from each of your parents. If you inherit:\\n\\nOne mutated gene, you'll have no signs or symptoms of thalassemia. But you are a carrier of the disease and can pass it on to your children.\\nTwo mutated genes, your thalassemia signs and symptoms will be mild. This condition might be called alpha-thalassemia trait.\\nThree mutated genes, your signs and symptoms will be moderate to severe.\\nInheriting four mutated genes is rare and usually results in stillbirth. Babies born with this condition often die shortly after birth or require lifelong transfusion therapy. In rare cases, a child born with this condition can be treated with transfusions and a stem cell transplant.\\n\\nBeta-thalassemia\\nTwo genes are involved in making the beta hemoglobin chain. You get one from each of your parents. If you inherit:\\n\\nOne mutated gene, you'll have mild signs and symptoms. This condition is called thalassemia minor or beta-thalassemia.\\nTwo mutated genes, your signs and symptoms will be moderate to severe. This condition is called thalassemia major, or Cooley anemia.\\n\\nBabies born with two defective beta hemoglobin genes usually are healthy at birth but develop signs and symptoms within the first two years of life. A milder form, called thalassemia intermedia, also can result from two mutated genes.Factors that increase your risk of thalassemia include:\\n\\nFamily history of thalassemia. Thalassemia is passed from parents to children through mutated hemoglobin genes.\\nCertain ancestry. Thalassemia occurs most often in African Americans and in people of Mediterranean and Southeast Asian descent.\""
      ]
     },
     "execution_count": 15,
     "metadata": {},
     "output_type": "execute_result"
    }
   ],
   "source": [
    "thalas['Cause and Risk factors'].iloc[0]"
   ]
  },
  {
   "cell_type": "code",
   "execution_count": 6,
   "metadata": {},
   "outputs": [],
   "source": [
    "LIST_DEFINE_INTENT = []"
   ]
  },
  {
   "cell_type": "code",
   "execution_count": 7,
   "metadata": {},
   "outputs": [],
   "source": [
    "sub_dict_intent = {}\n",
    "sub_dict_intent['intent'] = 'overview'\n",
    "sub_dict_intent['pattern_question'] = ['what is the Thalassemia ?']\n",
    "sub_dict_intent['field_response'] = ['Overview']\n",
    "sub_dict_intent['pattern_response'] = ['Thalassemia is an inherited blood disorder']\n",
    "\n",
    "LIST_DEFINE_INTENT.append(sub_dict_intent)"
   ]
  },
  {
   "cell_type": "code",
   "execution_count": null,
   "metadata": {},
   "outputs": [],
   "source": [
    "sub_dict_intent = {}\n",
    "sub_dict_intent['intent'] = 'sign_symptom'\n",
    "sub_dict_intent['pattern_question'] = ['what is the main symptoms of Thalassemia ?']\n",
    "sub_dict_intent['field_response'] = ['Symptom']\n",
    "sub_dict_intent['pattern_response'] = ['Thalassemia signs and symptoms can include:\\n\\nFatigue\\nWeakness\\nPale or yellowish skin\\nFacial bone deformities\\nSlow growth\\nAbdominal swelling\\nDark urine']\n",
    "\n",
    "LIST_DEFINE_INTENT.append(sub_dict_intent)"
   ]
  },
  {
   "cell_type": "code",
   "execution_count": null,
   "metadata": {},
   "outputs": [],
   "source": [
    "sub_dict_intent = {}\n",
    "sub_dict_intent['intent'] = 'object_and_time_show_up' \n",
    "sub_dict_intent['pattern_question'] = 'when I can realize this disease ?'\n",
    "sub_dict_intent['field_response'] = ['Symptom']\n",
    "sub_dict_intent['example'] = ['Signs of the disorder also tend to show up later in childhood or adolescence']\n",
    "\n",
    "LIST_DEFINE_INTENT.append(sub_dict_intent)"
   ]
  },
  {
   "cell_type": "code",
   "execution_count": null,
   "metadata": {},
   "outputs": [],
   "source": [
    "sub_dict_intent = {}\n",
    "sub_dict_intent['intent'] = 'show_up' \n",
    "sub_dict_intent['pattern_question'] = 'when I can realize this disease ?'\n",
    "sub_dict_intent['field_response'] = ['Cause and Risk factors']\n",
    "sub_dict_intent['example'] = ['at birth','couple of years','later','age of 6 months']\n",
    "\n",
    "LIST_DEFINE_INTENT.append(sub_dict_intent)"
   ]
  },
  {
   "cell_type": "code",
   "execution_count": 10,
   "metadata": {},
   "outputs": [
    {
     "data": {
      "text/html": [
       "<div>\n",
       "<style scoped>\n",
       "    .dataframe tbody tr th:only-of-type {\n",
       "        vertical-align: middle;\n",
       "    }\n",
       "\n",
       "    .dataframe tbody tr th {\n",
       "        vertical-align: top;\n",
       "    }\n",
       "\n",
       "    .dataframe thead th {\n",
       "        text-align: right;\n",
       "    }\n",
       "</style>\n",
       "<table border=\"1\" class=\"dataframe\">\n",
       "  <thead>\n",
       "    <tr style=\"text-align: right;\">\n",
       "      <th></th>\n",
       "      <th>intent</th>\n",
       "      <th>pattern_question</th>\n",
       "      <th>field_response</th>\n",
       "      <th>pattern_response</th>\n",
       "    </tr>\n",
       "  </thead>\n",
       "  <tbody>\n",
       "    <tr>\n",
       "      <th>0</th>\n",
       "      <td>overview</td>\n",
       "      <td>[what is the Thalassemia ?]</td>\n",
       "      <td>[Overview]</td>\n",
       "      <td>[Thalassemia is an inherited blood disorder]</td>\n",
       "    </tr>\n",
       "    <tr>\n",
       "      <th>1</th>\n",
       "      <td>sign_symptom</td>\n",
       "      <td>[what is the main symptoms of Thalassemia ?]</td>\n",
       "      <td>[Symptom]</td>\n",
       "      <td>[These include:\\n\\njaundice and pale skin\\ndro...</td>\n",
       "    </tr>\n",
       "    <tr>\n",
       "      <th>2</th>\n",
       "      <td>object_time_show_up</td>\n",
       "      <td>[what is the potential objects of this disease...</td>\n",
       "      <td>[Symptom]</td>\n",
       "      <td>[Signs of the disorder also tend to show up la...</td>\n",
       "    </tr>\n",
       "  </tbody>\n",
       "</table>\n",
       "</div>"
      ],
      "text/plain": [
       "                intent                                   pattern_question  \\\n",
       "0             overview                        [what is the Thalassemia ?]   \n",
       "1         sign_symptom       [what is the main symptoms of Thalassemia ?]   \n",
       "2  object_time_show_up  [what is the potential objects of this disease...   \n",
       "\n",
       "  field_response                                   pattern_response  \n",
       "0     [Overview]       [Thalassemia is an inherited blood disorder]  \n",
       "1      [Symptom]  [These include:\\n\\njaundice and pale skin\\ndro...  \n",
       "2      [Symptom]  [Signs of the disorder also tend to show up la...  "
      ]
     },
     "execution_count": 10,
     "metadata": {},
     "output_type": "execute_result"
    }
   ],
   "source": [
    "pd.DataFrame(LIST_DEFINE_INTENT)"
   ]
  }
 ],
 "metadata": {
  "kernelspec": {
   "display_name": "disease",
   "language": "python",
   "name": "disease"
  },
  "language_info": {
   "codemirror_mode": {
    "name": "ipython",
    "version": 3
   },
   "file_extension": ".py",
   "mimetype": "text/x-python",
   "name": "python",
   "nbconvert_exporter": "python",
   "pygments_lexer": "ipython3",
   "version": "3.6.13"
  }
 },
 "nbformat": 4,
 "nbformat_minor": 4
}
