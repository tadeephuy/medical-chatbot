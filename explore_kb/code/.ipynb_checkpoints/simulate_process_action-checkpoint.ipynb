{
 "cells": [
  {
   "cell_type": "code",
   "execution_count": 1,
   "metadata": {},
   "outputs": [],
   "source": [
    "%load_ext autoreload\n",
    "%autoreload 2\n",
    "\n",
    "import pymongo\n",
    "import os\n",
    "from process_action import update_agent_action, update_user_action\n",
    "from emc import gen_error_user_action\n",
    "from recursion_dm import dialogue_management"
   ]
  },
  {
   "cell_type": "code",
   "execution_count": 2,
   "metadata": {},
   "outputs": [],
   "source": [
    "os.environ[\"MONGOLAB_URI\"] = 'mongodb://localhost:27017'\n",
    "client = pymongo.MongoClient(os.environ.get('MONGOLAB_URI'))\n",
    "database = client.vinbrain\n",
    "col_db = database.disease"
   ]
  },
  {
   "cell_type": "markdown",
   "metadata": {},
   "source": [
    "## Testcase"
   ]
  },
  {
   "cell_type": "code",
   "execution_count": 3,
   "metadata": {},
   "outputs": [],
   "source": [
    "global user_action\n",
    "user_action = {}\n",
    "user_action['intent'] = 'request'\n",
    "user_action['request_slots'] = {'Disease':'unk'}\n",
    "user_action['inform_slots'] = {'Symptom':['muscle']}\n",
    "\n",
    "done = False\n",
    "count = 0\n"
   ]
  },
  {
   "cell_type": "code",
   "execution_count": 4,
   "metadata": {
    "scrolled": false
   },
   "outputs": [
    {
     "ename": "TypeError",
     "evalue": "dialogue_management() missing 1 required positional argument: 'done'",
     "output_type": "error",
     "traceback": [
      "\u001b[0;31m---------------------------------------------------------------------------\u001b[0m",
      "\u001b[0;31mTypeError\u001b[0m                                 Traceback (most recent call last)",
      "\u001b[0;32m<ipython-input-4-3aec40bfe659>\u001b[0m in \u001b[0;36m<module>\u001b[0;34m\u001b[0m\n\u001b[0;32m----> 1\u001b[0;31m \u001b[0mdialogue_management\u001b[0m\u001b[0;34m(\u001b[0m\u001b[0muser_action\u001b[0m\u001b[0;34m,\u001b[0m\u001b[0mcol_db\u001b[0m\u001b[0;34m,\u001b[0m\u001b[0mdone\u001b[0m\u001b[0;34m)\u001b[0m\u001b[0;34m\u001b[0m\u001b[0;34m\u001b[0m\u001b[0m\n\u001b[0m",
      "\u001b[0;31mTypeError\u001b[0m: dialogue_management() missing 1 required positional argument: 'done'"
     ]
    }
   ],
   "source": [
    "dialogue_management(user_action,col_db,count,done)"
   ]
  }
 ],
 "metadata": {
  "kernelspec": {
   "display_name": "disease",
   "language": "python",
   "name": "disease"
  },
  "language_info": {
   "codemirror_mode": {
    "name": "ipython",
    "version": 3
   },
   "file_extension": ".py",
   "mimetype": "text/x-python",
   "name": "python",
   "nbconvert_exporter": "python",
   "pygments_lexer": "ipython3",
   "version": "3.6.13"
  }
 },
 "nbformat": 4,
 "nbformat_minor": 4
}
