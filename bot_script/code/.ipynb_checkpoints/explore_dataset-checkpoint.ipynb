{
 "cells": [
  {
   "cell_type": "code",
   "execution_count": 1,
   "metadata": {},
   "outputs": [],
   "source": [
    "import pandas as pd\n",
    "import os\n",
    "from glob import glob"
   ]
  },
  {
   "cell_type": "code",
   "execution_count": 2,
   "metadata": {},
   "outputs": [],
   "source": [
    "_DATASET_PATH = '/home/taindp/VINBRAIN_INTERNSHIP/bot_script/data'"
   ]
  },
  {
   "cell_type": "code",
   "execution_count": 3,
   "metadata": {},
   "outputs": [
    {
     "data": {
      "text/plain": [
       "['/home/taindp/VINBRAIN_INTERNSHIP/bot_script/data/thalas.csv',\n",
       " '/home/taindp/VINBRAIN_INTERNSHIP/bot_script/data/liver_cancer.csv',\n",
       " '/home/taindp/VINBRAIN_INTERNSHIP/bot_script/data/rectal_cancer.csv']"
      ]
     },
     "execution_count": 3,
     "metadata": {},
     "output_type": "execute_result"
    }
   ],
   "source": [
    "list_dataset = glob(os.path.join(_DATASET_PATH,'*.csv'))\n",
    "list_dataset"
   ]
  },
  {
   "cell_type": "markdown",
   "metadata": {},
   "source": [
    "## THALAS"
   ]
  },
  {
   "cell_type": "code",
   "execution_count": 4,
   "metadata": {},
   "outputs": [
    {
     "data": {
      "text/html": [
       "<div>\n",
       "<style scoped>\n",
       "    .dataframe tbody tr th:only-of-type {\n",
       "        vertical-align: middle;\n",
       "    }\n",
       "\n",
       "    .dataframe tbody tr th {\n",
       "        vertical-align: top;\n",
       "    }\n",
       "\n",
       "    .dataframe thead th {\n",
       "        text-align: right;\n",
       "    }\n",
       "</style>\n",
       "<table border=\"1\" class=\"dataframe\">\n",
       "  <thead>\n",
       "    <tr style=\"text-align: right;\">\n",
       "      <th></th>\n",
       "      <th>ID</th>\n",
       "      <th>Overview</th>\n",
       "      <th>Symptom</th>\n",
       "      <th>Cause and Risk factors</th>\n",
       "      <th>Diagnosis</th>\n",
       "      <th>treatment</th>\n",
       "      <th>link</th>\n",
       "    </tr>\n",
       "  </thead>\n",
       "  <tbody>\n",
       "    <tr>\n",
       "      <th>0</th>\n",
       "      <td>1</td>\n",
       "      <td>Thalassemia (thal-uh-SEE-me-uh) is an inherite...</td>\n",
       "      <td>There are several types of thalassemia. The si...</td>\n",
       "      <td>Thalassemia is caused by mutations in the DNA ...</td>\n",
       "      <td>Most children with moderate to severe thalasse...</td>\n",
       "      <td>Mild forms of thalassemia trait don't need tre...</td>\n",
       "      <td>https://www.mayoclinic.org/diseases-conditions...</td>\n",
       "    </tr>\n",
       "    <tr>\n",
       "      <th>1</th>\n",
       "      <td>2</td>\n",
       "      <td>Thalassemia is an inherited blood disorder in ...</td>\n",
       "      <td>The symptoms of thalassemia can vary. Some of ...</td>\n",
       "      <td>Thalassemia occurs when there’s an abnormality...</td>\n",
       "      <td>If your doctor is trying to diagnose thalassem...</td>\n",
       "      <td>The treatment for thalassemia depends on the t...</td>\n",
       "      <td>https://www.healthline.com/health/thalassemia#...</td>\n",
       "    </tr>\n",
       "    <tr>\n",
       "      <th>2</th>\n",
       "      <td>3</td>\n",
       "      <td>Thalassemia is an inherited blood condition. I...</td>\n",
       "      <td>These can include:\\n\\nSlow growth in children\\...</td>\n",
       "      <td>Thalassemia is genetic. It happens when you in...</td>\n",
       "      <td>If you think you may have thalassemia, or if y...</td>\n",
       "      <td>If you have thalassemia, follow these habits t...</td>\n",
       "      <td>https://www.webmd.com/a-to-z-guides/what-is-th...</td>\n",
       "    </tr>\n",
       "    <tr>\n",
       "      <th>3</th>\n",
       "      <td>4</td>\n",
       "      <td>Thalassemia is an inherited blood disorder tha...</td>\n",
       "      <td>The symptoms of thalassemia vary depending on ...</td>\n",
       "      <td>The protein hemoglobin transports oxygen aroun...</td>\n",
       "      <td>Most children with moderate to severe thalasse...</td>\n",
       "      <td>Blood transfusions: These can replenish hemogl...</td>\n",
       "      <td>https://www.medicalnewstoday.com/articles/263489</td>\n",
       "    </tr>\n",
       "    <tr>\n",
       "      <th>4</th>\n",
       "      <td>5</td>\n",
       "      <td>Thalassaemia is the name for a group of inheri...</td>\n",
       "      <td>Most people born with thalassaemia experience ...</td>\n",
       "      <td>Thalassaemia is caused by faulty genes that af...</td>\n",
       "      <td>Thalassaemia is often detected during pregnanc...</td>\n",
       "      <td>People with thalassaemia major or other seriou...</td>\n",
       "      <td>https://www.nhs.uk/conditions/thalassaemia/</td>\n",
       "    </tr>\n",
       "  </tbody>\n",
       "</table>\n",
       "</div>"
      ],
      "text/plain": [
       "   ID                                           Overview  \\\n",
       "0   1  Thalassemia (thal-uh-SEE-me-uh) is an inherite...   \n",
       "1   2  Thalassemia is an inherited blood disorder in ...   \n",
       "2   3  Thalassemia is an inherited blood condition. I...   \n",
       "3   4  Thalassemia is an inherited blood disorder tha...   \n",
       "4   5  Thalassaemia is the name for a group of inheri...   \n",
       "\n",
       "                                             Symptom  \\\n",
       "0  There are several types of thalassemia. The si...   \n",
       "1  The symptoms of thalassemia can vary. Some of ...   \n",
       "2  These can include:\\n\\nSlow growth in children\\...   \n",
       "3  The symptoms of thalassemia vary depending on ...   \n",
       "4  Most people born with thalassaemia experience ...   \n",
       "\n",
       "                              Cause and Risk factors  \\\n",
       "0  Thalassemia is caused by mutations in the DNA ...   \n",
       "1  Thalassemia occurs when there’s an abnormality...   \n",
       "2  Thalassemia is genetic. It happens when you in...   \n",
       "3  The protein hemoglobin transports oxygen aroun...   \n",
       "4  Thalassaemia is caused by faulty genes that af...   \n",
       "\n",
       "                                           Diagnosis  \\\n",
       "0  Most children with moderate to severe thalasse...   \n",
       "1  If your doctor is trying to diagnose thalassem...   \n",
       "2  If you think you may have thalassemia, or if y...   \n",
       "3  Most children with moderate to severe thalasse...   \n",
       "4  Thalassaemia is often detected during pregnanc...   \n",
       "\n",
       "                                           treatment  \\\n",
       "0  Mild forms of thalassemia trait don't need tre...   \n",
       "1  The treatment for thalassemia depends on the t...   \n",
       "2  If you have thalassemia, follow these habits t...   \n",
       "3  Blood transfusions: These can replenish hemogl...   \n",
       "4  People with thalassaemia major or other seriou...   \n",
       "\n",
       "                                                link  \n",
       "0  https://www.mayoclinic.org/diseases-conditions...  \n",
       "1  https://www.healthline.com/health/thalassemia#...  \n",
       "2  https://www.webmd.com/a-to-z-guides/what-is-th...  \n",
       "3   https://www.medicalnewstoday.com/articles/263489  \n",
       "4        https://www.nhs.uk/conditions/thalassaemia/  "
      ]
     },
     "execution_count": 4,
     "metadata": {},
     "output_type": "execute_result"
    }
   ],
   "source": [
    "thalas = pd.read_csv(list_dataset[0])\n",
    "thalas"
   ]
  },
  {
   "cell_type": "code",
   "execution_count": 29,
   "metadata": {},
   "outputs": [
    {
     "data": {
      "text/html": [
       "<div>\n",
       "<style scoped>\n",
       "    .dataframe tbody tr th:only-of-type {\n",
       "        vertical-align: middle;\n",
       "    }\n",
       "\n",
       "    .dataframe tbody tr th {\n",
       "        vertical-align: top;\n",
       "    }\n",
       "\n",
       "    .dataframe thead th {\n",
       "        text-align: right;\n",
       "    }\n",
       "</style>\n",
       "<table border=\"1\" class=\"dataframe\">\n",
       "  <thead>\n",
       "    <tr style=\"text-align: right;\">\n",
       "      <th></th>\n",
       "      <th>ID</th>\n",
       "      <th>Overview</th>\n",
       "      <th>Symptom</th>\n",
       "      <th>Cause and Risk factors</th>\n",
       "      <th>Diagnosis</th>\n",
       "      <th>treatment</th>\n",
       "      <th>link</th>\n",
       "    </tr>\n",
       "  </thead>\n",
       "  <tbody>\n",
       "    <tr>\n",
       "      <th>0</th>\n",
       "      <td>0</td>\n",
       "      <td>Thalassemia (thal-uh-SEE-me-uh) is an inherite...</td>\n",
       "      <td>There are several types of thalassemia. The si...</td>\n",
       "      <td>Thalassemia is caused by mutations in the DNA ...</td>\n",
       "      <td>Most children with moderate to severe thalasse...</td>\n",
       "      <td>Mild forms of thalassemia trait don't need tre...</td>\n",
       "      <td>https://www.mayoclinic.org/diseases-conditions...</td>\n",
       "    </tr>\n",
       "    <tr>\n",
       "      <th>1</th>\n",
       "      <td>0</td>\n",
       "      <td>Thalassemia is an inherited blood disorder in ...</td>\n",
       "      <td>The symptoms of thalassemia can vary. Some of ...</td>\n",
       "      <td>Thalassemia occurs when there’s an abnormality...</td>\n",
       "      <td>If your doctor is trying to diagnose thalassem...</td>\n",
       "      <td>The treatment for thalassemia depends on the t...</td>\n",
       "      <td>https://www.healthline.com/health/thalassemia#...</td>\n",
       "    </tr>\n",
       "    <tr>\n",
       "      <th>2</th>\n",
       "      <td>0</td>\n",
       "      <td>Thalassemia is an inherited blood condition. I...</td>\n",
       "      <td>These can include:\\n\\nSlow growth in children\\...</td>\n",
       "      <td>Thalassemia is genetic. It happens when you in...</td>\n",
       "      <td>If you think you may have thalassemia, or if y...</td>\n",
       "      <td>If you have thalassemia, follow these habits t...</td>\n",
       "      <td>https://www.webmd.com/a-to-z-guides/what-is-th...</td>\n",
       "    </tr>\n",
       "    <tr>\n",
       "      <th>3</th>\n",
       "      <td>0</td>\n",
       "      <td>Thalassemia is an inherited blood disorder tha...</td>\n",
       "      <td>The symptoms of thalassemia vary depending on ...</td>\n",
       "      <td>The protein hemoglobin transports oxygen aroun...</td>\n",
       "      <td>Most children with moderate to severe thalasse...</td>\n",
       "      <td>Blood transfusions: These can replenish hemogl...</td>\n",
       "      <td>https://www.medicalnewstoday.com/articles/263489</td>\n",
       "    </tr>\n",
       "    <tr>\n",
       "      <th>4</th>\n",
       "      <td>0</td>\n",
       "      <td>Thalassaemia is the name for a group of inheri...</td>\n",
       "      <td>Most people born with thalassaemia experience ...</td>\n",
       "      <td>Thalassaemia is caused by faulty genes that af...</td>\n",
       "      <td>Thalassaemia is often detected during pregnanc...</td>\n",
       "      <td>People with thalassaemia major or other seriou...</td>\n",
       "      <td>https://www.nhs.uk/conditions/thalassaemia/</td>\n",
       "    </tr>\n",
       "  </tbody>\n",
       "</table>\n",
       "</div>"
      ],
      "text/plain": [
       "   ID                                           Overview  \\\n",
       "0   0  Thalassemia (thal-uh-SEE-me-uh) is an inherite...   \n",
       "1   0  Thalassemia is an inherited blood disorder in ...   \n",
       "2   0  Thalassemia is an inherited blood condition. I...   \n",
       "3   0  Thalassemia is an inherited blood disorder tha...   \n",
       "4   0  Thalassaemia is the name for a group of inheri...   \n",
       "\n",
       "                                             Symptom  \\\n",
       "0  There are several types of thalassemia. The si...   \n",
       "1  The symptoms of thalassemia can vary. Some of ...   \n",
       "2  These can include:\\n\\nSlow growth in children\\...   \n",
       "3  The symptoms of thalassemia vary depending on ...   \n",
       "4  Most people born with thalassaemia experience ...   \n",
       "\n",
       "                              Cause and Risk factors  \\\n",
       "0  Thalassemia is caused by mutations in the DNA ...   \n",
       "1  Thalassemia occurs when there’s an abnormality...   \n",
       "2  Thalassemia is genetic. It happens when you in...   \n",
       "3  The protein hemoglobin transports oxygen aroun...   \n",
       "4  Thalassaemia is caused by faulty genes that af...   \n",
       "\n",
       "                                           Diagnosis  \\\n",
       "0  Most children with moderate to severe thalasse...   \n",
       "1  If your doctor is trying to diagnose thalassem...   \n",
       "2  If you think you may have thalassemia, or if y...   \n",
       "3  Most children with moderate to severe thalasse...   \n",
       "4  Thalassaemia is often detected during pregnanc...   \n",
       "\n",
       "                                           treatment  \\\n",
       "0  Mild forms of thalassemia trait don't need tre...   \n",
       "1  The treatment for thalassemia depends on the t...   \n",
       "2  If you have thalassemia, follow these habits t...   \n",
       "3  Blood transfusions: These can replenish hemogl...   \n",
       "4  People with thalassaemia major or other seriou...   \n",
       "\n",
       "                                                link  \n",
       "0  https://www.mayoclinic.org/diseases-conditions...  \n",
       "1  https://www.healthline.com/health/thalassemia#...  \n",
       "2  https://www.webmd.com/a-to-z-guides/what-is-th...  \n",
       "3   https://www.medicalnewstoday.com/articles/263489  \n",
       "4        https://www.nhs.uk/conditions/thalassaemia/  "
      ]
     },
     "execution_count": 29,
     "metadata": {},
     "output_type": "execute_result"
    }
   ],
   "source": [
    "thalas['ID'] = [0]*len(thalas)\n",
    "thalas"
   ]
  },
  {
   "cell_type": "code",
   "execution_count": 35,
   "metadata": {},
   "outputs": [],
   "source": [
    "thalas_groupby_id = thalas.groupby('ID')['Overview'].apply(list).reset_index(name='Overview')\n",
    "\n",
    "thalas_groupby_symptom = thalas.groupby('ID')['Symptom'].apply(list).reset_index(name='Symptom')\n",
    "\n",
    "thalas_groupby_cause = thalas.groupby('ID')['Cause and Risk factors'].apply(list).reset_index(name='Cause and Risk factors')\n",
    "\n",
    "thalas_groupby_diagnosis = thalas.groupby('ID')['Diagnosis'].apply(list).reset_index(name='Diagnosis')\n",
    "\n",
    "thalas_groupby_treatment = thalas.groupby('ID')['treatment'].apply(list).reset_index(name='treatment')\n",
    "\n",
    "thalas_groupby_link = thalas.groupby('ID')['link'].apply(list).reset_index(name='link')"
   ]
  },
  {
   "cell_type": "code",
   "execution_count": 37,
   "metadata": {},
   "outputs": [],
   "source": [
    "thalas_groupby = pd.concat([\n",
    "    thalas_groupby_id,\n",
    "    thalas_groupby_symptom['Symptom'],\n",
    "    thalas_groupby_cause['Cause and Risk factors'],\n",
    "    thalas_groupby_diagnosis['Diagnosis'],\n",
    "    thalas_groupby_treatment['treatment'],\n",
    "    thalas_groupby_link['link']\n",
    "],axis = 1)"
   ]
  },
  {
   "cell_type": "code",
   "execution_count": 38,
   "metadata": {},
   "outputs": [
    {
     "data": {
      "text/html": [
       "<div>\n",
       "<style scoped>\n",
       "    .dataframe tbody tr th:only-of-type {\n",
       "        vertical-align: middle;\n",
       "    }\n",
       "\n",
       "    .dataframe tbody tr th {\n",
       "        vertical-align: top;\n",
       "    }\n",
       "\n",
       "    .dataframe thead th {\n",
       "        text-align: right;\n",
       "    }\n",
       "</style>\n",
       "<table border=\"1\" class=\"dataframe\">\n",
       "  <thead>\n",
       "    <tr style=\"text-align: right;\">\n",
       "      <th></th>\n",
       "      <th>ID</th>\n",
       "      <th>Overview</th>\n",
       "      <th>Symptom</th>\n",
       "      <th>Cause and Risk factors</th>\n",
       "      <th>Diagnosis</th>\n",
       "      <th>treatment</th>\n",
       "      <th>link</th>\n",
       "    </tr>\n",
       "  </thead>\n",
       "  <tbody>\n",
       "    <tr>\n",
       "      <th>0</th>\n",
       "      <td>0</td>\n",
       "      <td>[Thalassemia (thal-uh-SEE-me-uh) is an inherit...</td>\n",
       "      <td>[There are several types of thalassemia. The s...</td>\n",
       "      <td>[Thalassemia is caused by mutations in the DNA...</td>\n",
       "      <td>[Most children with moderate to severe thalass...</td>\n",
       "      <td>[Mild forms of thalassemia trait don't need tr...</td>\n",
       "      <td>[https://www.mayoclinic.org/diseases-condition...</td>\n",
       "    </tr>\n",
       "  </tbody>\n",
       "</table>\n",
       "</div>"
      ],
      "text/plain": [
       "   ID                                           Overview  \\\n",
       "0   0  [Thalassemia (thal-uh-SEE-me-uh) is an inherit...   \n",
       "\n",
       "                                             Symptom  \\\n",
       "0  [There are several types of thalassemia. The s...   \n",
       "\n",
       "                              Cause and Risk factors  \\\n",
       "0  [Thalassemia is caused by mutations in the DNA...   \n",
       "\n",
       "                                           Diagnosis  \\\n",
       "0  [Most children with moderate to severe thalass...   \n",
       "\n",
       "                                           treatment  \\\n",
       "0  [Mild forms of thalassemia trait don't need tr...   \n",
       "\n",
       "                                                link  \n",
       "0  [https://www.mayoclinic.org/diseases-condition...  "
      ]
     },
     "execution_count": 38,
     "metadata": {},
     "output_type": "execute_result"
    }
   ],
   "source": [
    "thalas_groupby"
   ]
  },
  {
   "cell_type": "code",
   "execution_count": 41,
   "metadata": {},
   "outputs": [
    {
     "data": {
      "text/plain": [
       "[\"Thalassemia is caused by mutations in the DNA of cells that make hemoglobin — the substance in red blood cells that carries oxygen throughout your body. The mutations associated with thalassemia are passed from parents to children.\\n\\nHemoglobin molecules are made of chains called alpha and beta chains that can be affected by mutations. In thalassemia, the production of either the alpha or beta chains are reduced, resulting in either alpha-thalassemia or beta-thalassemia.\\n\\nIn alpha-thalassemia, the severity of thalassemia you have depends on the number of gene mutations you inherit from your parents. The more mutated genes, the more severe your thalassemia.\\n\\nIn beta-thalassemia, the severity of thalassemia you have depends on which part of the hemoglobin molecule is affected.\\n\\nAlpha-thalassemia\\nFour genes are involved in making the alpha hemoglobin chain. You get two from each of your parents. If you inherit:\\n\\nOne mutated gene, you'll have no signs or symptoms of thalassemia. But you are a carrier of the disease and can pass it on to your children.\\nTwo mutated genes, your thalassemia signs and symptoms will be mild. This condition might be called alpha-thalassemia trait.\\nThree mutated genes, your signs and symptoms will be moderate to severe.\\nInheriting four mutated genes is rare and usually results in stillbirth. Babies born with this condition often die shortly after birth or require lifelong transfusion therapy. In rare cases, a child born with this condition can be treated with transfusions and a stem cell transplant.\\n\\nBeta-thalassemia\\nTwo genes are involved in making the beta hemoglobin chain. You get one from each of your parents. If you inherit:\\n\\nOne mutated gene, you'll have mild signs and symptoms. This condition is called thalassemia minor or beta-thalassemia.\\nTwo mutated genes, your signs and symptoms will be moderate to severe. This condition is called thalassemia major, or Cooley anemia.\\n\\nBabies born with two defective beta hemoglobin genes usually are healthy at birth but develop signs and symptoms within the first two years of life. A milder form, called thalassemia intermedia, also can result from two mutated genes.Factors that increase your risk of thalassemia include:\\n\\nFamily history of thalassemia. Thalassemia is passed from parents to children through mutated hemoglobin genes.\\nCertain ancestry. Thalassemia occurs most often in African Americans and in people of Mediterranean and Southeast Asian descent.\",\n",
       " 'Thalassemia occurs when there’s an abnormality or mutation in one of the genes involved in hemoglobin production. You inherit this genetic abnormality from your parents.\\n\\nIf only one of your parents is a carrier for thalassemia, you may develop a form of the disease known as thalassemia minor. If this occurs, you probably won’t have symptoms, but you’ll be a carrier. Some people with thalassemia minor do develop minor symptoms.\\n\\nIf both of your parents are carriers of thalassemia, you have a greater chance of inheriting a more serious form of the disease.\\n\\nThalassemia is most commonTrusted Source in people from Asia, the Middle East, Africa, and Mediterranean countries such as Greece and Turkey',\n",
       " 'Thalassemia is genetic. It happens when you inherit mutated genes from your parents that change your hemoglobin. You have it from birth. You can’t catch thalassemia the way you catch a cold or the flu.\\n\\nIf both of your parents carry thalassemia, you might get it. If you inherit two or more copies of abnormal genes from your parents, you may get mild to severe thalassemia, depending on what type of protein is affected. It’s more common in people from Asia, Africa, the Middle East, and Mediterranean countries like Greece or Turkey',\n",
       " 'The protein hemoglobin transports oxygen around the body in blood cells. Bone marrow uses the iron we get from food to make hemoglobin.\\n\\nIn people with thalassemia, the bone marrow does not produce enough healthy hemoglobin or red blood cells. In some types this leads to a lack of oxygen, resulting in anemia and fatigue.\\n\\nPeople with mild thalassemia may not require any treatment, but more severe forms will necessitate regular blood transfusions.',\n",
       " \"Thalassaemia is caused by faulty genes that affect the production of haemoglobin.\\n\\nA child can only be born with thalassaemia if they inherit these faulty genes from both parents.\\n\\nFor example, if both parents have the faulty gene that causes beta thalassaemia major, there's a 1 in 4 chance of each child they have being born with the condition.\\n\\nThe parents of a child with thalassaemia are usually carriers. This means they only have 1 of the faulty genes.\"]"
      ]
     },
     "execution_count": 41,
     "metadata": {},
     "output_type": "execute_result"
    }
   ],
   "source": [
    "thalas_groupby['Diagnosis'].iloc[0]"
   ]
  },
  {
   "cell_type": "code",
   "execution_count": 27,
   "metadata": {},
   "outputs": [
    {
     "data": {
      "text/plain": [
       "'Thalassemia (thal-uh-SEE-me-uh) is an inherited blood disorder that causes your body to have less hemoglobin than normal. Hemoglobin enables red blood cells to carry oxygen. Thalassemia can cause anemia, leaving you fatigued.\\n\\nIf you have mild thalassemia, you might not need treatment. But more severe forms might require regular blood transfusions. You can take steps to cope with fatigue, such as choosing a healthy diet and exercising regularly'"
      ]
     },
     "execution_count": 27,
     "metadata": {},
     "output_type": "execute_result"
    }
   ],
   "source": [
    "thalas['Overview'].iloc[0]"
   ]
  },
  {
   "cell_type": "code",
   "execution_count": 6,
   "metadata": {},
   "outputs": [],
   "source": [
    "LIST_DEFINE_INTENT = []"
   ]
  },
  {
   "cell_type": "code",
   "execution_count": 7,
   "metadata": {},
   "outputs": [],
   "source": [
    "sub_dict_intent = {}\n",
    "sub_dict_intent['intent'] = 'overview'\n",
    "sub_dict_intent['pattern_question'] = ['what is Thalassemia ?']\n",
    "sub_dict_intent['field_response'] = ['Overview']\n",
    "sub_dict_intent['pattern_response'] = ['Thalassemia is an inherited blood disorder']\n",
    "\n",
    "LIST_DEFINE_INTENT.append(sub_dict_intent)"
   ]
  },
  {
   "cell_type": "code",
   "execution_count": 8,
   "metadata": {},
   "outputs": [],
   "source": [
    "sub_dict_intent = {}\n",
    "sub_dict_intent['intent'] = 'sign_symptom'\n",
    "sub_dict_intent['pattern_question'] = ['what is the main symptoms of Thalassemia ?','what are the symptoms of alpha thalassemia ?']\n",
    "sub_dict_intent['field_response'] = ['Symptom']\n",
    "sub_dict_intent['pattern_response'] = ['Thalassemia signs and symptoms can include:\\n\\nFatigue\\nWeakness\\nPale or yellowish skin\\nFacial bone deformities\\nSlow growth\\nAbdominal swelling\\nDark urine']\n",
    "\n",
    "LIST_DEFINE_INTENT.append(sub_dict_intent)"
   ]
  },
  {
   "cell_type": "code",
   "execution_count": 9,
   "metadata": {},
   "outputs": [],
   "source": [
    "sub_dict_intent = {}\n",
    "sub_dict_intent['intent'] = 'time_show_up' \n",
    "sub_dict_intent['pattern_question'] = ['when I can realize this disease ?','how are thalassemias diagnosed ?']\n",
    "sub_dict_intent['field_response'] = ['Symptom']\n",
    "sub_dict_intent['pattern_response'] = ['Signs of the disorder also tend to show up later in childhood or adolescence']\n",
    "\n",
    "LIST_DEFINE_INTENT.append(sub_dict_intent)"
   ]
  },
  {
   "cell_type": "code",
   "execution_count": 10,
   "metadata": {},
   "outputs": [],
   "source": [
    "sub_dict_intent = {}\n",
    "sub_dict_intent['intent'] = 'cause' \n",
    "sub_dict_intent['pattern_question'] = ['when this disease occurs ?']\n",
    "sub_dict_intent['field_response'] = ['Cause and Risk factors']\n",
    "sub_dict_intent['pattern_response'] = ['The mutations associated with thalassemia are passed from parents to children']\n",
    "\n",
    "LIST_DEFINE_INTENT.append(sub_dict_intent)"
   ]
  },
  {
   "cell_type": "code",
   "execution_count": 11,
   "metadata": {},
   "outputs": [],
   "source": [
    "sub_dict_intent = {}\n",
    "sub_dict_intent['intent'] = 'main_types' \n",
    "sub_dict_intent['pattern_question'] = ['what are the types of thalassemia ?','how can I distinguish the types of thalassemia ?']\n",
    "sub_dict_intent['field_response'] = ['Cause and Risk factors']\n",
    "sub_dict_intent['pattern_response'] = ['In thalassemia, the production of either the alpha or beta chains are reduced, resulting in either alpha-thalassemia or beta-thalassemia']\n",
    "\n",
    "LIST_DEFINE_INTENT.append(sub_dict_intent)"
   ]
  },
  {
   "cell_type": "code",
   "execution_count": 12,
   "metadata": {},
   "outputs": [],
   "source": [
    "sub_dict_intent = {}\n",
    "sub_dict_intent['intent'] = 'severity' \n",
    "sub_dict_intent['pattern_question'] = ['Is beta thalassemia serious ?']\n",
    "sub_dict_intent['field_response'] = ['Cause and Risk factors']\n",
    "sub_dict_intent['pattern_response'] = ['the severity of thalassemia you have depends on the number of gene mutations you inherit from your parents']\n",
    "\n",
    "LIST_DEFINE_INTENT.append(sub_dict_intent)"
   ]
  },
  {
   "cell_type": "code",
   "execution_count": 13,
   "metadata": {},
   "outputs": [],
   "source": [
    "sub_dict_intent = {}\n",
    "sub_dict_intent['intent'] = 'risk_factors' \n",
    "sub_dict_intent['pattern_question'] = ['who is at risk for thalassemia ?']\n",
    "sub_dict_intent['field_response'] = ['Cause and Risk factors']\n",
    "sub_dict_intent['pattern_response'] = ['Thalassemia occurs most often in African Americans and in people of Mediterranean and Southeast Asian descent.']\n",
    "\n",
    "LIST_DEFINE_INTENT.append(sub_dict_intent)"
   ]
  },
  {
   "cell_type": "code",
   "execution_count": 14,
   "metadata": {},
   "outputs": [],
   "source": [
    "sub_dict_intent = {}\n",
    "sub_dict_intent['intent'] = 'diagnosis' \n",
    "sub_dict_intent['pattern_question'] = ['what kind of methods to diagnosis this disease ?']\n",
    "sub_dict_intent['field_response'] = ['Diagnosis']\n",
    "sub_dict_intent['pattern_response'] = ['blood tests','Prenatal testing','blood sample','Genetic testing']\n",
    "\n",
    "LIST_DEFINE_INTENT.append(sub_dict_intent)"
   ]
  },
  {
   "cell_type": "code",
   "execution_count": 15,
   "metadata": {},
   "outputs": [],
   "source": [
    "sub_dict_intent = {}\n",
    "sub_dict_intent['intent'] = 'treatment' \n",
    "sub_dict_intent['pattern_question'] = ['How is thalassemia treated ?']\n",
    "\"\"\"\n",
    "treament follow:\n",
    "    + type\n",
    "    + object\n",
    "\"\"\"\n",
    "sub_dict_intent['field_response'] = ['treatment']\n",
    "sub_dict_intent['pattern_response'] = ['do not need treatment','blood transfusions','Chelation therapy']\n",
    "\n",
    "LIST_DEFINE_INTENT.append(sub_dict_intent)"
   ]
  },
  {
   "cell_type": "code",
   "execution_count": 17,
   "metadata": {},
   "outputs": [],
   "source": [
    "df_thalas = pd.DataFrame(LIST_DEFINE_INTENT)"
   ]
  },
  {
   "cell_type": "code",
   "execution_count": 19,
   "metadata": {},
   "outputs": [],
   "source": [
    "name_categories = []\n",
    "for _ in range(len(df_thalas)):\n",
    "    name_categories.append('thalass')\n",
    "    \n",
    "df_thalas['disease'] = name_categories"
   ]
  },
  {
   "cell_type": "code",
   "execution_count": 20,
   "metadata": {},
   "outputs": [
    {
     "data": {
      "text/html": [
       "<div>\n",
       "<style scoped>\n",
       "    .dataframe tbody tr th:only-of-type {\n",
       "        vertical-align: middle;\n",
       "    }\n",
       "\n",
       "    .dataframe tbody tr th {\n",
       "        vertical-align: top;\n",
       "    }\n",
       "\n",
       "    .dataframe thead th {\n",
       "        text-align: right;\n",
       "    }\n",
       "</style>\n",
       "<table border=\"1\" class=\"dataframe\">\n",
       "  <thead>\n",
       "    <tr style=\"text-align: right;\">\n",
       "      <th></th>\n",
       "      <th>intent</th>\n",
       "      <th>pattern_question</th>\n",
       "      <th>field_response</th>\n",
       "      <th>pattern_response</th>\n",
       "      <th>disease</th>\n",
       "    </tr>\n",
       "  </thead>\n",
       "  <tbody>\n",
       "    <tr>\n",
       "      <th>0</th>\n",
       "      <td>overview</td>\n",
       "      <td>[what is Thalassemia ?]</td>\n",
       "      <td>[Overview]</td>\n",
       "      <td>[Thalassemia is an inherited blood disorder]</td>\n",
       "      <td>thalass</td>\n",
       "    </tr>\n",
       "    <tr>\n",
       "      <th>1</th>\n",
       "      <td>sign_symptom</td>\n",
       "      <td>[what is the main symptoms of Thalassemia ?, w...</td>\n",
       "      <td>[Symptom]</td>\n",
       "      <td>[Thalassemia signs and symptoms can include:\\n...</td>\n",
       "      <td>thalass</td>\n",
       "    </tr>\n",
       "    <tr>\n",
       "      <th>2</th>\n",
       "      <td>time_show_up</td>\n",
       "      <td>[when I can realize this disease ?, how are th...</td>\n",
       "      <td>[Symptom]</td>\n",
       "      <td>[Signs of the disorder also tend to show up la...</td>\n",
       "      <td>thalass</td>\n",
       "    </tr>\n",
       "    <tr>\n",
       "      <th>3</th>\n",
       "      <td>cause</td>\n",
       "      <td>[when this disease occurs ?]</td>\n",
       "      <td>[Cause and Risk factors]</td>\n",
       "      <td>[The mutations associated with thalassemia are...</td>\n",
       "      <td>thalass</td>\n",
       "    </tr>\n",
       "    <tr>\n",
       "      <th>4</th>\n",
       "      <td>main_types</td>\n",
       "      <td>[what are the types of thalassemia ?, how can ...</td>\n",
       "      <td>[Cause and Risk factors]</td>\n",
       "      <td>[In thalassemia, the production of either the ...</td>\n",
       "      <td>thalass</td>\n",
       "    </tr>\n",
       "    <tr>\n",
       "      <th>5</th>\n",
       "      <td>severity</td>\n",
       "      <td>[Is beta thalassemia serious ?]</td>\n",
       "      <td>[Cause and Risk factors]</td>\n",
       "      <td>[the severity of thalassemia you have depends ...</td>\n",
       "      <td>thalass</td>\n",
       "    </tr>\n",
       "    <tr>\n",
       "      <th>6</th>\n",
       "      <td>risk_factors</td>\n",
       "      <td>[who is at risk for thalassemia ?]</td>\n",
       "      <td>[Cause and Risk factors]</td>\n",
       "      <td>[Thalassemia occurs most often in African Amer...</td>\n",
       "      <td>thalass</td>\n",
       "    </tr>\n",
       "    <tr>\n",
       "      <th>7</th>\n",
       "      <td>diagnosis</td>\n",
       "      <td>[what kind of methods to diagnosis this diseas...</td>\n",
       "      <td>[Diagnosis]</td>\n",
       "      <td>[blood tests, Prenatal testing, blood sample, ...</td>\n",
       "      <td>thalass</td>\n",
       "    </tr>\n",
       "    <tr>\n",
       "      <th>8</th>\n",
       "      <td>treatment</td>\n",
       "      <td>[How is thalassemia treated ?]</td>\n",
       "      <td>[treatment]</td>\n",
       "      <td>[do not need treatment, blood transfusions, Ch...</td>\n",
       "      <td>thalass</td>\n",
       "    </tr>\n",
       "  </tbody>\n",
       "</table>\n",
       "</div>"
      ],
      "text/plain": [
       "         intent                                   pattern_question  \\\n",
       "0      overview                            [what is Thalassemia ?]   \n",
       "1  sign_symptom  [what is the main symptoms of Thalassemia ?, w...   \n",
       "2  time_show_up  [when I can realize this disease ?, how are th...   \n",
       "3         cause                       [when this disease occurs ?]   \n",
       "4    main_types  [what are the types of thalassemia ?, how can ...   \n",
       "5      severity                    [Is beta thalassemia serious ?]   \n",
       "6  risk_factors                 [who is at risk for thalassemia ?]   \n",
       "7     diagnosis  [what kind of methods to diagnosis this diseas...   \n",
       "8     treatment                     [How is thalassemia treated ?]   \n",
       "\n",
       "             field_response  \\\n",
       "0                [Overview]   \n",
       "1                 [Symptom]   \n",
       "2                 [Symptom]   \n",
       "3  [Cause and Risk factors]   \n",
       "4  [Cause and Risk factors]   \n",
       "5  [Cause and Risk factors]   \n",
       "6  [Cause and Risk factors]   \n",
       "7               [Diagnosis]   \n",
       "8               [treatment]   \n",
       "\n",
       "                                    pattern_response  disease  \n",
       "0       [Thalassemia is an inherited blood disorder]  thalass  \n",
       "1  [Thalassemia signs and symptoms can include:\\n...  thalass  \n",
       "2  [Signs of the disorder also tend to show up la...  thalass  \n",
       "3  [The mutations associated with thalassemia are...  thalass  \n",
       "4  [In thalassemia, the production of either the ...  thalass  \n",
       "5  [the severity of thalassemia you have depends ...  thalass  \n",
       "6  [Thalassemia occurs most often in African Amer...  thalass  \n",
       "7  [blood tests, Prenatal testing, blood sample, ...  thalass  \n",
       "8  [do not need treatment, blood transfusions, Ch...  thalass  "
      ]
     },
     "execution_count": 20,
     "metadata": {},
     "output_type": "execute_result"
    }
   ],
   "source": [
    "df_thalas"
   ]
  },
  {
   "cell_type": "markdown",
   "metadata": {},
   "source": [
    "## LIVER CANCER"
   ]
  },
  {
   "cell_type": "code",
   "execution_count": 22,
   "metadata": {},
   "outputs": [
    {
     "data": {
      "text/html": [
       "<div>\n",
       "<style scoped>\n",
       "    .dataframe tbody tr th:only-of-type {\n",
       "        vertical-align: middle;\n",
       "    }\n",
       "\n",
       "    .dataframe tbody tr th {\n",
       "        vertical-align: top;\n",
       "    }\n",
       "\n",
       "    .dataframe thead th {\n",
       "        text-align: right;\n",
       "    }\n",
       "</style>\n",
       "<table border=\"1\" class=\"dataframe\">\n",
       "  <thead>\n",
       "    <tr style=\"text-align: right;\">\n",
       "      <th></th>\n",
       "      <th>ID</th>\n",
       "      <th>Overview</th>\n",
       "      <th>Symptom</th>\n",
       "      <th>Cause and risk factors</th>\n",
       "      <th>Diagnosis</th>\n",
       "      <th>treatment</th>\n",
       "      <th>link</th>\n",
       "    </tr>\n",
       "  </thead>\n",
       "  <tbody>\n",
       "    <tr>\n",
       "      <th>0</th>\n",
       "      <td>1</td>\n",
       "      <td>Liver cancer is cancer that begins in the cell...</td>\n",
       "      <td>Most people don't have signs and symptoms in t...</td>\n",
       "      <td>Liver cancer happens when liver cells develop ...</td>\n",
       "      <td>Tests and procedures used to diagnose liver ca...</td>\n",
       "      <td>Treatments for primary liver cancer depend on ...</td>\n",
       "      <td>https://www.mayoclinic.org/diseases-conditions...</td>\n",
       "    </tr>\n",
       "    <tr>\n",
       "      <th>1</th>\n",
       "      <td>2</td>\n",
       "      <td>Liver cancer is a cancer that's found anywhere...</td>\n",
       "      <td>Liver cancer may not have any symptoms, or the...</td>\n",
       "      <td>Anyone can get primary liver cancer. It's not ...</td>\n",
       "      <td>You will need more tests and scans to check fo...</td>\n",
       "      <td>Liver cancer is often treatable, but it can be...</td>\n",
       "      <td>https://www.nhs.uk/conditions/liver-cancer/tre...</td>\n",
       "    </tr>\n",
       "    <tr>\n",
       "      <th>2</th>\n",
       "      <td>3</td>\n",
       "      <td>Liver cancer is cancer that occurs in the live...</td>\n",
       "      <td>Many people don’t experience symptoms in the e...</td>\n",
       "      <td>Liver cancer is more common in people over age...</td>\n",
       "      <td>The diagnosis of liver cancer begins with a me...</td>\n",
       "      <td>Treatment for liver cancer varies. It depends ...</td>\n",
       "      <td>https://www.healthline.com/health/liver-cancer</td>\n",
       "    </tr>\n",
       "    <tr>\n",
       "      <th>3</th>\n",
       "      <td>4</td>\n",
       "      <td>The liver is located on the upper right side o...</td>\n",
       "      <td>In its early stages, liver cancer may not have...</td>\n",
       "      <td>Behaviors and conditions that increase risk fo...</td>\n",
       "      <td>NaN</td>\n",
       "      <td>NaN</td>\n",
       "      <td>https://www.cdc.gov/cancer/liver/index.htm</td>\n",
       "    </tr>\n",
       "    <tr>\n",
       "      <th>4</th>\n",
       "      <td>5</td>\n",
       "      <td>Liver disease is a progression that follows st...</td>\n",
       "      <td>People may not feel ill in the earliest stages...</td>\n",
       "      <td>A risk factor is something that increases the ...</td>\n",
       "      <td>Liver cancer is diagnosed through a physical e...</td>\n",
       "      <td>Liver cancer treatment depends on:\\n\\nThe live...</td>\n",
       "      <td>NaN</td>\n",
       "    </tr>\n",
       "  </tbody>\n",
       "</table>\n",
       "</div>"
      ],
      "text/plain": [
       "   ID                                           Overview  \\\n",
       "0   1  Liver cancer is cancer that begins in the cell...   \n",
       "1   2  Liver cancer is a cancer that's found anywhere...   \n",
       "2   3  Liver cancer is cancer that occurs in the live...   \n",
       "3   4  The liver is located on the upper right side o...   \n",
       "4   5  Liver disease is a progression that follows st...   \n",
       "\n",
       "                                             Symptom  \\\n",
       "0  Most people don't have signs and symptoms in t...   \n",
       "1  Liver cancer may not have any symptoms, or the...   \n",
       "2  Many people don’t experience symptoms in the e...   \n",
       "3  In its early stages, liver cancer may not have...   \n",
       "4  People may not feel ill in the earliest stages...   \n",
       "\n",
       "                              Cause and risk factors  \\\n",
       "0  Liver cancer happens when liver cells develop ...   \n",
       "1  Anyone can get primary liver cancer. It's not ...   \n",
       "2  Liver cancer is more common in people over age...   \n",
       "3  Behaviors and conditions that increase risk fo...   \n",
       "4  A risk factor is something that increases the ...   \n",
       "\n",
       "                                           Diagnosis  \\\n",
       "0  Tests and procedures used to diagnose liver ca...   \n",
       "1  You will need more tests and scans to check fo...   \n",
       "2  The diagnosis of liver cancer begins with a me...   \n",
       "3                                                NaN   \n",
       "4  Liver cancer is diagnosed through a physical e...   \n",
       "\n",
       "                                           treatment  \\\n",
       "0  Treatments for primary liver cancer depend on ...   \n",
       "1  Liver cancer is often treatable, but it can be...   \n",
       "2  Treatment for liver cancer varies. It depends ...   \n",
       "3                                                NaN   \n",
       "4  Liver cancer treatment depends on:\\n\\nThe live...   \n",
       "\n",
       "                                                link  \n",
       "0  https://www.mayoclinic.org/diseases-conditions...  \n",
       "1  https://www.nhs.uk/conditions/liver-cancer/tre...  \n",
       "2     https://www.healthline.com/health/liver-cancer  \n",
       "3         https://www.cdc.gov/cancer/liver/index.htm  \n",
       "4                                                NaN  "
      ]
     },
     "execution_count": 22,
     "metadata": {},
     "output_type": "execute_result"
    }
   ],
   "source": [
    "liver_cancer = pd.read_csv(list_dataset[1])\n",
    "liver_cancer"
   ]
  },
  {
   "cell_type": "code",
   "execution_count": 23,
   "metadata": {},
   "outputs": [
    {
     "data": {
      "text/plain": [
       "'Liver cancer is cancer that begins in the cells of your liver. Your liver is a football-sized organ that sits in the upper right portion of your abdomen, beneath your diaphragm and above your stomach.\\n\\nSeveral types of cancer can form in the liver. The most common type of liver cancer is hepatocellular carcinoma, which begins in the main type of liver cell (hepatocyte). Other types of liver cancer, such as intrahepatic cholangiocarcinoma and hepatoblastoma, are much less common.\\n\\nCancer that spreads to the liver is more common than cancer that begins in the liver cells. Cancer that begins in another area of the body — such as the colon, lung or breast — and then spreads to the liver is called metastatic cancer rather than liver cancer. This type of cancer is named after the organ in which it began — such as metastatic colon cancer to describe cancer that begins in the colon and spreads to the liver.'"
      ]
     },
     "execution_count": 23,
     "metadata": {},
     "output_type": "execute_result"
    }
   ],
   "source": [
    "liver_cancer['Overview'].iloc[0]"
   ]
  },
  {
   "cell_type": "code",
   "execution_count": 24,
   "metadata": {},
   "outputs": [],
   "source": [
    "LIST_DEFINE_INTENT = []"
   ]
  },
  {
   "cell_type": "code",
   "execution_count": 25,
   "metadata": {},
   "outputs": [],
   "source": [
    "sub_dict_intent = {}\n",
    "sub_dict_intent['intent'] = 'overview' \n",
    "sub_dict_intent['pattern_question'] = ['what is liver cancer ?']\n",
    "\n",
    "sub_dict_intent['field_response'] = ['Overview']\n",
    "sub_dict_intent['pattern_response'] = ['Liver cancer is cancer that begins in the cells of your liver']\n",
    "\n",
    "LIST_DEFINE_INTENT.append(sub_dict_intent)"
   ]
  }
 ],
 "metadata": {
  "kernelspec": {
   "display_name": "disease",
   "language": "python",
   "name": "disease"
  },
  "language_info": {
   "codemirror_mode": {
    "name": "ipython",
    "version": 3
   },
   "file_extension": ".py",
   "mimetype": "text/x-python",
   "name": "python",
   "nbconvert_exporter": "python",
   "pygments_lexer": "ipython3",
   "version": "3.6.13"
  }
 },
 "nbformat": 4,
 "nbformat_minor": 4
}
