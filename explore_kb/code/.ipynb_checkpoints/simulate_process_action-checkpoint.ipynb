{
 "cells": [
  {
   "cell_type": "code",
   "execution_count": 9,
   "metadata": {},
   "outputs": [
    {
     "name": "stdout",
     "output_type": "stream",
     "text": [
      "The autoreload extension is already loaded. To reload it, use:\n",
      "  %reload_ext autoreload\n"
     ]
    }
   ],
   "source": [
    "%load_ext autoreload\n",
    "%autoreload 2\n",
    "\n",
    "import pymongo\n",
    "import os\n",
    "from process_action import update_agent_action, update_user_action\n",
    "from emc import gen_error_user_action\n",
    "from recursion_dm import dialogue_management\n",
    "import random\n",
    "from state_tracker import StateTracker"
   ]
  },
  {
   "cell_type": "code",
   "execution_count": 2,
   "metadata": {},
   "outputs": [],
   "source": [
    "os.environ[\"MONGOLAB_URI\"] = 'mongodb://localhost:27017'\n",
    "client = pymongo.MongoClient(os.environ.get('MONGOLAB_URI'))\n",
    "database = client.vinbrain\n",
    "col_db = database.disease"
   ]
  },
  {
   "cell_type": "code",
   "execution_count": 59,
   "metadata": {},
   "outputs": [],
   "source": [
    "tracker = StateTracker(col_db)"
   ]
  },
  {
   "cell_type": "code",
   "execution_count": 60,
   "metadata": {},
   "outputs": [],
   "source": [
    "## init user's action\n",
    "user_action = {'inform_slots': {'Symptom': ['fatigue']}, 'intent': 'request', 'request_slots': {'Disease': 'unk'}}"
   ]
  },
  {
   "cell_type": "code",
   "execution_count": 61,
   "metadata": {},
   "outputs": [],
   "source": [
    "## update user's action\n",
    "tracker.update_user_action(user_action)"
   ]
  },
  {
   "cell_type": "code",
   "execution_count": 62,
   "metadata": {},
   "outputs": [
    {
     "data": {
      "text/plain": [
       "{'inform_slots': {'Symptom': ['fatigue']}, 'request_slots': {'Disease': 'unk'}}"
      ]
     },
     "execution_count": 62,
     "metadata": {},
     "output_type": "execute_result"
    }
   ],
   "source": [
    "tracker.tracker_user_action"
   ]
  },
  {
   "cell_type": "code",
   "execution_count": 63,
   "metadata": {},
   "outputs": [],
   "source": [
    "tracker.update_user_action(user_action)"
   ]
  },
  {
   "cell_type": "code",
   "execution_count": 64,
   "metadata": {},
   "outputs": [
    {
     "data": {
      "text/plain": [
       "{'inform_slots': {'Symptom': ['fatigue']}, 'request_slots': {'Disease': 'unk'}}"
      ]
     },
     "execution_count": 64,
     "metadata": {},
     "output_type": "execute_result"
    }
   ],
   "source": [
    "tracker.tracker_user_action"
   ]
  },
  {
   "cell_type": "code",
   "execution_count": 66,
   "metadata": {},
   "outputs": [],
   "source": [
    "## update agent's action\n",
    "agent_action,amount_record_match = tracker.update_agent_action()"
   ]
  },
  {
   "cell_type": "code",
   "execution_count": 67,
   "metadata": {},
   "outputs": [
    {
     "data": {
      "text/plain": [
       "17"
      ]
     },
     "execution_count": 67,
     "metadata": {},
     "output_type": "execute_result"
    }
   ],
   "source": [
    "amount_record_match"
   ]
  },
  {
   "cell_type": "code",
   "execution_count": 68,
   "metadata": {},
   "outputs": [
    {
     "data": {
      "text/plain": [
       "{'intent': 'inform',\n",
       " 'inform_slots': {'Symptom': ['high_fever']},\n",
       " 'request_slots': {}}"
      ]
     },
     "execution_count": 68,
     "metadata": {},
     "output_type": "execute_result"
    }
   ],
   "source": [
    "agent_action"
   ]
  },
  {
   "cell_type": "code",
   "execution_count": 69,
   "metadata": {},
   "outputs": [],
   "source": [
    "user_action = {'inform_slots': {'Symptom': ['high_fever']}, 'intent': 'inform', 'request_slots': {}}"
   ]
  },
  {
   "cell_type": "code",
   "execution_count": 70,
   "metadata": {},
   "outputs": [],
   "source": [
    "tracker.update_user_action(user_action)"
   ]
  },
  {
   "cell_type": "code",
   "execution_count": 71,
   "metadata": {},
   "outputs": [
    {
     "data": {
      "text/plain": [
       "{'inform_slots': {'Symptom': ['fatigue', 'high_fever']},\n",
       " 'request_slots': {'Disease': 'unk'}}"
      ]
     },
     "execution_count": 71,
     "metadata": {},
     "output_type": "execute_result"
    }
   ],
   "source": [
    "tracker.tracker_user_action"
   ]
  },
  {
   "cell_type": "code",
   "execution_count": 72,
   "metadata": {},
   "outputs": [],
   "source": [
    "agent_action,amount_record_match = tracker.update_agent_action()"
   ]
  },
  {
   "cell_type": "code",
   "execution_count": 73,
   "metadata": {},
   "outputs": [
    {
     "data": {
      "text/plain": [
       "9"
      ]
     },
     "execution_count": 73,
     "metadata": {},
     "output_type": "execute_result"
    }
   ],
   "source": [
    "amount_record_match"
   ]
  },
  {
   "cell_type": "code",
   "execution_count": 74,
   "metadata": {},
   "outputs": [
    {
     "data": {
      "text/plain": [
       "{'intent': 'inform',\n",
       " 'inform_slots': {'Symptom': ['vomiting']},\n",
       " 'request_slots': {}}"
      ]
     },
     "execution_count": 74,
     "metadata": {},
     "output_type": "execute_result"
    }
   ],
   "source": [
    "agent_action"
   ]
  },
  {
   "cell_type": "code",
   "execution_count": 75,
   "metadata": {},
   "outputs": [],
   "source": [
    "user_action = {'inform_slots': {'Symptom': ['cough']}, 'intent': 'inform', 'request_slots': {}}\n",
    "tracker.update_user_action(user_action)"
   ]
  },
  {
   "cell_type": "code",
   "execution_count": 76,
   "metadata": {},
   "outputs": [
    {
     "data": {
      "text/plain": [
       "{'inform_slots': {'Symptom': ['fatigue', 'high_fever', 'vomiting']},\n",
       " 'request_slots': {'Disease': 'unk'}}"
      ]
     },
     "execution_count": 76,
     "metadata": {},
     "output_type": "execute_result"
    }
   ],
   "source": [
    "tracker.tracker_user_action"
   ]
  },
  {
   "cell_type": "code",
   "execution_count": 77,
   "metadata": {},
   "outputs": [],
   "source": [
    "agent_action,amount_record_match = tracker.update_agent_action()"
   ]
  },
  {
   "cell_type": "code",
   "execution_count": 78,
   "metadata": {},
   "outputs": [
    {
     "data": {
      "text/plain": [
       "5"
      ]
     },
     "execution_count": 78,
     "metadata": {},
     "output_type": "execute_result"
    }
   ],
   "source": [
    "amount_record_match"
   ]
  },
  {
   "cell_type": "code",
   "execution_count": 79,
   "metadata": {},
   "outputs": [
    {
     "data": {
      "text/plain": [
       "{'intent': 'inform',\n",
       " 'inform_slots': {'Symptom': ['nausea']},\n",
       " 'request_slots': {}}"
      ]
     },
     "execution_count": 79,
     "metadata": {},
     "output_type": "execute_result"
    }
   ],
   "source": [
    "agent_action"
   ]
  },
  {
   "cell_type": "code",
   "execution_count": 80,
   "metadata": {},
   "outputs": [],
   "source": [
    "user_action = {'inform_slots': {'Symptom': ['nausea']}, 'intent': 'inform', 'request_slots': {}}\n",
    "tracker.update_user_action(user_action)"
   ]
  },
  {
   "cell_type": "code",
   "execution_count": 81,
   "metadata": {},
   "outputs": [
    {
     "data": {
      "text/plain": [
       "{'inform_slots': {'Symptom': ['fatigue', 'high_fever', 'vomiting', 'nausea']},\n",
       " 'request_slots': {'Disease': 'unk'}}"
      ]
     },
     "execution_count": 81,
     "metadata": {},
     "output_type": "execute_result"
    }
   ],
   "source": [
    "tracker.tracker_user_action"
   ]
  },
  {
   "cell_type": "code",
   "execution_count": 82,
   "metadata": {},
   "outputs": [],
   "source": [
    "agent_action,amount_record_match = tracker.update_agent_action()"
   ]
  },
  {
   "cell_type": "code",
   "execution_count": 83,
   "metadata": {},
   "outputs": [
    {
     "data": {
      "text/plain": [
       "3"
      ]
     },
     "execution_count": 83,
     "metadata": {},
     "output_type": "execute_result"
    }
   ],
   "source": [
    "amount_record_match"
   ]
  },
  {
   "cell_type": "code",
   "execution_count": 84,
   "metadata": {},
   "outputs": [
    {
     "data": {
      "text/plain": [
       "{'intent': 'inform',\n",
       " 'inform_slots': {'Symptom': ['headache']},\n",
       " 'request_slots': {}}"
      ]
     },
     "execution_count": 84,
     "metadata": {},
     "output_type": "execute_result"
    }
   ],
   "source": [
    "agent_action"
   ]
  },
  {
   "cell_type": "code",
   "execution_count": 85,
   "metadata": {},
   "outputs": [],
   "source": [
    "user_action = {'inform_slots': {'Symptom': ['headache']}, 'intent': 'inform', 'request_slots': {}}\n",
    "tracker.update_user_action(user_action)"
   ]
  },
  {
   "cell_type": "code",
   "execution_count": 86,
   "metadata": {},
   "outputs": [
    {
     "data": {
      "text/plain": [
       "{'inform_slots': {'Symptom': ['fatigue',\n",
       "   'high_fever',\n",
       "   'vomiting',\n",
       "   'nausea',\n",
       "   'headache']},\n",
       " 'request_slots': {'Disease': 'unk'}}"
      ]
     },
     "execution_count": 86,
     "metadata": {},
     "output_type": "execute_result"
    }
   ],
   "source": [
    "tracker.tracker_user_action"
   ]
  },
  {
   "cell_type": "code",
   "execution_count": 87,
   "metadata": {},
   "outputs": [],
   "source": [
    "agent_action,amount_record_match = tracker.update_agent_action()"
   ]
  },
  {
   "cell_type": "code",
   "execution_count": 88,
   "metadata": {},
   "outputs": [
    {
     "data": {
      "text/plain": [
       "2"
      ]
     },
     "execution_count": 88,
     "metadata": {},
     "output_type": "execute_result"
    }
   ],
   "source": [
    "amount_record_match"
   ]
  },
  {
   "cell_type": "markdown",
   "metadata": {},
   "source": [
    "## Testcase"
   ]
  },
  {
   "cell_type": "code",
   "execution_count": 3,
   "metadata": {},
   "outputs": [],
   "source": [
    "target_symptom =[ \n",
    "        \"mucoid_sputum\", \n",
    "        \"fatigue\", \n",
    "        \"breathlessness\", \n",
    "        \"high_fever\", \n",
    "        \"cough\", \n",
    "        \"family_history\"\n",
    "    ]"
   ]
  },
  {
   "cell_type": "code",
   "execution_count": 4,
   "metadata": {},
   "outputs": [],
   "source": [
    "# list_sympt_tracker = []"
   ]
  },
  {
   "cell_type": "code",
   "execution_count": 5,
   "metadata": {},
   "outputs": [],
   "source": [
    "# idx_init_sympt = random.randint(0,len(target_symptom)-1)"
   ]
  },
  {
   "cell_type": "code",
   "execution_count": 6,
   "metadata": {},
   "outputs": [],
   "source": [
    "# global user_action\n",
    "# user_action = {}\n",
    "# user_action['intent'] = 'request'\n",
    "# user_action['request_slots'] = {'Disease':'unk'}\n",
    "\n",
    "# user_action['inform_slots'] = {'Symptom':[target_symptom.pop(idx_init_sympt)]}\n",
    "\n",
    "done = False\n",
    "count = 0\n"
   ]
  },
  {
   "cell_type": "code",
   "execution_count": 7,
   "metadata": {},
   "outputs": [],
   "source": [
    "# user_action\n"
   ]
  },
  {
   "cell_type": "code",
   "execution_count": 8,
   "metadata": {
    "scrolled": false
   },
   "outputs": [
    {
     "name": "stdout",
     "output_type": "stream",
     "text": [
      "Current slot: 1\n",
      "User: {'inform_slots': {'Symptom': ['fatigue']}, 'intent': 'request', 'request_slots': {'Disease': 'unk'}}\n",
      "Agent: {'intent': 'inform', 'inform_slots': {'Symptom': ['high_fever']}, 'request_slots': {}}\n",
      "Record found: 17\n",
      "==================================================\n",
      "Current slot: 2\n",
      "User: {'inform_slots': {'Symptom': ['fatigue', 'high_fever', 'cough']}, 'intent': 'request', 'request_slots': {'Disease': 'unk'}}\n",
      "Agent: {'intent': 'inform', 'inform_slots': {'Symptom': ['breathlessness']}, 'request_slots': {}}\n",
      "Record found: 4\n",
      "==================================================\n",
      "Current slot: 3\n",
      "User: {'inform_slots': {'Symptom': ['fatigue', 'high_fever', 'cough', 'breathlessness', 'mucoid_sputum']}, 'intent': 'request', 'request_slots': {'Disease': 'unk'}}\n",
      "Agent: {'intent': 'match_found', 'inform_slots': {'Disease': ['Bronchial Asthma']}, 'request_slots': {}}\n",
      "Record found: 1\n",
      "==================================================\n"
     ]
    }
   ],
   "source": [
    "dialogue_management(target_symptom,col_db,count,done)"
   ]
  }
 ],
 "metadata": {
  "kernelspec": {
   "display_name": "disease",
   "language": "python",
   "name": "disease"
  },
  "language_info": {
   "codemirror_mode": {
    "name": "ipython",
    "version": 3
   },
   "file_extension": ".py",
   "mimetype": "text/x-python",
   "name": "python",
   "nbconvert_exporter": "python",
   "pygments_lexer": "ipython3",
   "version": "3.6.13"
  }
 },
 "nbformat": 4,
 "nbformat_minor": 4
}
