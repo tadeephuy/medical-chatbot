{
 "cells": [
  {
   "cell_type": "code",
   "execution_count": 1,
   "metadata": {},
   "outputs": [],
   "source": [
    "import json\n",
    "import pandas as pd\n",
    "import os\n",
    "\n",
    "from google_trans_new import google_translator  "
   ]
  },
  {
   "cell_type": "code",
   "execution_count": 2,
   "metadata": {},
   "outputs": [],
   "source": [
    "translator = google_translator()  "
   ]
  },
  {
   "cell_type": "code",
   "execution_count": 3,
   "metadata": {},
   "outputs": [],
   "source": [
    "_DATA_PATH = '/home/taindp/VINBRAIN_INTERNSHIP/knowledge_base/data'\n",
    "_THALAS = os.path.join(_DATA_PATH,'synthesize_diseases.json')"
   ]
  },
  {
   "cell_type": "code",
   "execution_count": 4,
   "metadata": {},
   "outputs": [],
   "source": [
    "diseases = json.load(open(_THALAS,'r'))\n",
    "# thalas"
   ]
  },
  {
   "cell_type": "code",
   "execution_count": 5,
   "metadata": {},
   "outputs": [
    {
     "data": {
      "text/plain": [
       "'\\n{\\n     \"source\":,\\n     \"relation:\", #intent\\n     \"target\":,\\n     \"original_text\":,   \\n}\\n'"
      ]
     },
     "execution_count": 5,
     "metadata": {},
     "output_type": "execute_result"
    }
   ],
   "source": [
    "\"\"\"\n",
    "{\n",
    "     \"source\":,\n",
    "     \"relation:\", #intent\n",
    "     \"target\":,\n",
    "     \"original_text\":,   \n",
    "}\n",
    "\"\"\""
   ]
  },
  {
   "cell_type": "code",
   "execution_count": 6,
   "metadata": {},
   "outputs": [],
   "source": [
    "thalas = diseases['thalassemia']"
   ]
  },
  {
   "cell_type": "code",
   "execution_count": 7,
   "metadata": {
    "scrolled": true
   },
   "outputs": [],
   "source": [
    "# thalas"
   ]
  },
  {
   "cell_type": "code",
   "execution_count": 8,
   "metadata": {
    "scrolled": true
   },
   "outputs": [],
   "source": [
    "list_kb = []\n",
    "for key in list(thalas.keys()):\n",
    "    \n",
    "    \n",
    "    obj = thalas[key]\n",
    "    list_sub_obj = list(obj.keys()) \n",
    "    \n",
    "    list_entities = obj[list_sub_obj[0]]\n",
    "    list_ori_text = obj['original_text']\n",
    "    for idx, e in enumerate(list_entities): \n",
    "        subdict_kb = {}\n",
    "        subdict_kb['source'] = 'thalassemia'\n",
    "#         print(list_sub_obj)\n",
    "#         print(e)\n",
    "        if len(list_sub_obj) == 2:\n",
    "            subdict_kb['relation'] = list_sub_obj[0]\n",
    "        else:\n",
    "            subdict_kb['relation'] = list_sub_obj[1]\n",
    "        subdict_kb['target'] = translator.translate(e,lang_tgt='vi')\n",
    "        subdict_kb['original_text'] = translator.translate(list_ori_text[idx],lang_tgt='vi')\n",
    "        \n",
    "        ## swap\n",
    "        subdict_kb_swap = {}\n",
    "        subdict_kb_swap['source'] = translator.translate(e,lang_tgt='vi')\n",
    "        if len(list_sub_obj) == 2:\n",
    "            subdict_kb_swap['relation'] = list_sub_obj[0]\n",
    "        else:\n",
    "            subdict_kb_swap['relation'] = list_sub_obj[1]\n",
    "        subdict_kb_swap['target'] = 'thalassemia'\n",
    "                                    \n",
    "        subdict_kb_swap['original_text'] = translator.translate(list_ori_text[idx],lang_tgt='vi')\n",
    "\n",
    "        \n",
    "#         print('='*50)\n",
    "#         print(subdict_kb)\n",
    "#         print(list_sub_obj)\n",
    "        list_kb.append(subdict_kb)\n",
    "        list_kb.append(subdict_kb_swap)\n",
    "#     print(obj)"
   ]
  },
  {
   "cell_type": "code",
   "execution_count": 9,
   "metadata": {},
   "outputs": [
    {
     "data": {
      "text/plain": [
       "['minor']"
      ]
     },
     "execution_count": 9,
     "metadata": {},
     "output_type": "execute_result"
    }
   ],
   "source": [
    "list_entities"
   ]
  },
  {
   "cell_type": "code",
   "execution_count": 13,
   "metadata": {},
   "outputs": [],
   "source": [
    "# list_kb"
   ]
  },
  {
   "cell_type": "code",
   "execution_count": 14,
   "metadata": {},
   "outputs": [],
   "source": [
    "# list_kb[40]"
   ]
  },
  {
   "cell_type": "code",
   "execution_count": 22,
   "metadata": {},
   "outputs": [],
   "source": [
    "\n",
    "file_out = open('../data/thalas_kb.json','w')\n",
    "for item in list_kb:\n",
    "    item_str = str(item).replace(\"'s \",'').replace(\"' \",'').replace(r\"'\",r'\"')\n",
    "    file_out.write(item_str)\n",
    "    file_out.write('\\n')"
   ]
  }
 ],
 "metadata": {
  "kernelspec": {
   "display_name": "disease",
   "language": "python",
   "name": "disease"
  },
  "language_info": {
   "codemirror_mode": {
    "name": "ipython",
    "version": 3
   },
   "file_extension": ".py",
   "mimetype": "text/x-python",
   "name": "python",
   "nbconvert_exporter": "python",
   "pygments_lexer": "ipython3",
   "version": "3.6.13"
  }
 },
 "nbformat": 4,
 "nbformat_minor": 4
}
