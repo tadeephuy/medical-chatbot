{
 "cells": [
  {
   "cell_type": "code",
   "execution_count": 1,
   "metadata": {},
   "outputs": [],
   "source": [
    "import pandas as pd\n",
    "import matplotlib.pyplot as plt\n",
    "import seaborn as sb\n",
    "import re\n",
    "from utils import flatten_lol,remove_multi_space\n",
    "import os\n",
    "import pymongo"
   ]
  },
  {
   "cell_type": "markdown",
   "metadata": {},
   "source": [
    "## CONNECT DATABASE"
   ]
  },
  {
   "cell_type": "code",
   "execution_count": 2,
   "metadata": {},
   "outputs": [],
   "source": [
    "os.environ[\"MONGOLAB_URI\"] = 'mongodb://localhost:27017'\n",
    "client = pymongo.MongoClient(os.environ.get('MONGOLAB_URI'))\n",
    "database = client.vinbrain\n",
    "collection = database.disease"
   ]
  },
  {
   "cell_type": "markdown",
   "metadata": {},
   "source": [
    "## CHECK QUERY"
   ]
  },
  {
   "cell_type": "code",
   "execution_count": 3,
   "metadata": {},
   "outputs": [
    {
     "name": "stdout",
     "output_type": "stream",
     "text": [
      "{'_id': ObjectId('606c0a179dadc241387f6792'), 'Disease': 'AIDS', 'Symptom': ['muscle_wasting', 'extra_marital_contacts', 'high_fever', 'patches_in_throat']}\n"
     ]
    }
   ],
   "source": [
    "query = collection.find({\"Disease\" : \"AIDS\"})\n",
    "for item in query:\n",
    "    print(item)"
   ]
  },
  {
   "cell_type": "markdown",
   "metadata": {},
   "source": [
    "## CONVERT CONSTRAINT TO QUERY STRING\n",
    "\n",
    "assumpt we have semantic frame from user action <br/>\n",
    "\n",
    "semantic of user action as a dictionary: <br/>\n",
    "{\n",
    "\"intent\":<>,\n",
    "\"inform_slots\": <>,\n",
    "\"request_slots\": <>\n",
    "} <br/>\n",
    "type of \"intent\" field is string <br/>\n",
    "type of \"inform_slots\" field is list of string <br/>\n",
    "type of \"request_slots\" field is list of string\n"
   ]
  },
  {
   "cell_type": "code",
   "execution_count": 4,
   "metadata": {},
   "outputs": [],
   "source": [
    "user_action = {}\n",
    "user_action['intent'] = 'inform'\n",
    "user_action['request_slots'] = {}\n",
    "user_action['inform_slots'] = {'Symptom':['muscle']}"
   ]
  },
  {
   "cell_type": "code",
   "execution_count": 5,
   "metadata": {},
   "outputs": [],
   "source": [
    "def convert_constraint(constraints):\n",
    "    \"\"\"\n",
    "    input dict các thực thể theo từng slot {entity_slot:[entity_mess]}\n",
    "    return câu query mongodb\n",
    "    form của câu query: { \"$and\": [{entity_slot:{\"$all\":[re.compile(\"entity_mess\")]}},{},{}] }\n",
    "    \"\"\"\n",
    "\n",
    "    list_and_out = []\n",
    "    list_and_in = []\n",
    "    regex_constraint_dict = {}\n",
    "\n",
    "    for keys,values in constraints.items():\n",
    "#         print(values)\n",
    "        if not type(values) is list:\n",
    "            values = []\n",
    "        for value in values:\n",
    "            list_and_in.append({\n",
    "                    \"$or\" : [\n",
    "                                {\n",
    "                                    keys: {\n",
    "                                        \"$all\": [re.compile(\".*{0}.*\".format(value))]\n",
    "                                    }\n",
    "                                }\n",
    "                        ]\n",
    "            })\n",
    "\n",
    "    if list_and_in:\n",
    "        list_and_out.append({\"$and\": list_and_in})\n",
    "    if list_and_out:\n",
    "        regex_constraint_dict = {\"$and\":list_and_out}\n",
    "\n",
    "    return regex_constraint_dict"
   ]
  },
  {
   "cell_type": "code",
   "execution_count": 6,
   "metadata": {},
   "outputs": [],
   "source": [
    "constraints = user_action['inform_slots']\n",
    "query_string = convert_constraint(constraints)\n",
    "\n",
    "query_result = collection.find(query_string)\n",
    "list_record_query = []\n",
    "for item in query_result:\n",
    "    list_record_query.append(item)"
   ]
  },
  {
   "cell_type": "code",
   "execution_count": 7,
   "metadata": {},
   "outputs": [
    {
     "name": "stdout",
     "output_type": "stream",
     "text": [
      "Amount records match: 7\n"
     ]
    }
   ],
   "source": [
    "print('Amount records match: {}'.format(len(list_record_query)))"
   ]
  },
  {
   "cell_type": "markdown",
   "metadata": {},
   "source": [
    "## LOGIC SUGGEST\n",
    "\n",
    "have 2 logic suggest: <br/>\n",
    "    + correct symptom's name <br/>\n",
    "    + count sympt max-time appear <br/>\n",
    "\n",
    "get sympt if sympt not in list sympt inform from user"
   ]
  },
  {
   "cell_type": "code",
   "execution_count": 8,
   "metadata": {},
   "outputs": [],
   "source": [
    "def check_pattern(dis_list,inp):\n",
    "    pred_list=[]\n",
    "    patt = \"^\" + inp + \"$\"\n",
    "    regexp = re.compile(inp)\n",
    "    for item in dis_list:\n",
    "        if regexp.search(item):\n",
    "            pred_list.append(item)\n",
    "    return pred_list"
   ]
  },
  {
   "cell_type": "code",
   "execution_count": 9,
   "metadata": {},
   "outputs": [
    {
     "data": {
      "text/plain": [
       "[' muscle_pain', ' muscle_wasting']"
      ]
     },
     "execution_count": 9,
     "metadata": {},
     "output_type": "execute_result"
    }
   ],
   "source": [
    "inp = 'muscle'\n",
    "dis_list = [' high_fever', ' muscle_pain', ' chills', ' headache', ' fatigue', ' vomiting', ' malaise', ' nausea', ' chest_pain', ' swelled_lymph_nodes', ' runny_nose', ' continuous_sneezing', ' back_pain', ' red_spots_over_body', ' loss_of_appetite', ' pain_behind_the_eyes', ' skin_rash', ' diarrhoea', ' sinus_pressure', ' redness_of_eyes', ' throat_irritation', ' loss_of_smell', ' sweating', ' joint_pain', ' cough', ' extra_marital_contacts', ' muscle_wasting', ' congestion', ' phlegm', ' patches_in_throat']\n",
    "check_pattern(dis_list,inp)"
   ]
  },
  {
   "cell_type": "code",
   "execution_count": 10,
   "metadata": {},
   "outputs": [
    {
     "data": {
      "text/plain": [
       "{'intent': 'inform',\n",
       " 'request_slots': {},\n",
       " 'inform_slots': {'Symptom': ['muscle']}}"
      ]
     },
     "execution_count": 10,
     "metadata": {},
     "output_type": "execute_result"
    }
   ],
   "source": [
    "user_action"
   ]
  },
  {
   "cell_type": "code",
   "execution_count": 11,
   "metadata": {},
   "outputs": [],
   "source": [
    "# last_sympt_user_inform"
   ]
  },
  {
   "cell_type": "code",
   "execution_count": 21,
   "metadata": {},
   "outputs": [],
   "source": [
    "list_statistic_sympt = []\n",
    "for record in list_record_query:\n",
    "    for k,v in record.items():\n",
    "        if k == 'Symptom':\n",
    "            list_statistic_sympt += v\n",
    "            \n",
    "## logic correct sympt's name\n",
    "last_sympt_user_inform = user_action['inform_slots']['Symptom'][-1]\n",
    "list_unique_sympt_query = list(set(list_statistic_sympt))\n",
    "\n",
    "list_correct_sympt_name = check_pattern(list_unique_sympt_query,last_sympt_user_inform)\n",
    "\n",
    "## logic max appear\n",
    "\n",
    "def freq_sympt_appear(list_statistic_sympt,list_unique_sympt_query):\n",
    "    dict_count_sympt = {}\n",
    "\n",
    "    for sympt in list_unique_sympt_query:\n",
    "        dict_count_sympt[sympt] = list_statistic_sympt.count(sympt)\n",
    "\n",
    "    dict_sort_sympt = dict(sorted(dict_count_sympt.items(), key=lambda item: item[1],reverse=True))\n",
    "    return dict_sort_sympt"
   ]
  },
  {
   "cell_type": "code",
   "execution_count": 22,
   "metadata": {},
   "outputs": [],
   "source": [
    "dict_sympt_correct_name_appear = freq_sympt_appear(list_statistic_sympt,list_correct_sympt_name)\n",
    "\n",
    "dict_all_sympt_appear = freq_sympt_appear(list_statistic_sympt,list_unique_sympt_query)"
   ]
  },
  {
   "cell_type": "code",
   "execution_count": 25,
   "metadata": {},
   "outputs": [
    {
     "data": {
      "text/plain": [
       "{'muscle_pain': 4, 'muscle_weakness': 2, 'muscle_wasting': 1}"
      ]
     },
     "execution_count": 25,
     "metadata": {},
     "output_type": "execute_result"
    }
   ],
   "source": [
    "dict_sympt_correct_name_appear"
   ]
  },
  {
   "cell_type": "code",
   "execution_count": 28,
   "metadata": {
    "scrolled": true
   },
   "outputs": [
    {
     "data": {
      "text/plain": [
       "{'high_fever': 4,\n",
       " 'muscle_pain': 4,\n",
       " 'headache': 3,\n",
       " 'chills': 3,\n",
       " 'fatigue': 3,\n",
       " 'nausea': 3,\n",
       " 'diarrhoea': 3,\n",
       " 'vomiting': 3,\n",
       " 'sweating': 2,\n",
       " 'muscle_weakness': 2,\n",
       " 'loss_of_appetite': 2,\n",
       " 'joint_pain': 2,\n",
       " 'malaise': 2,\n",
       " 'back_pain': 1,\n",
       " 'mild_fever': 1,\n",
       " 'restlessness': 1,\n",
       " 'swelling_joints': 1,\n",
       " 'stiff_neck': 1,\n",
       " 'congestion': 1,\n",
       " 'dark_urine': 1,\n",
       " 'excessive_hunger': 1,\n",
       " 'patches_in_throat': 1,\n",
       " 'phlegm': 1,\n",
       " 'extra_marital_contacts': 1,\n",
       " 'yellowish_skin': 1,\n",
       " 'red_spots_over_body': 1,\n",
       " 'sinus_pressure': 1,\n",
       " 'painful_walking': 1,\n",
       " 'weight_loss': 1,\n",
       " 'redness_of_eyes': 1,\n",
       " 'loss_of_smell': 1,\n",
       " 'abdominal_pain': 1,\n",
       " 'muscle_wasting': 1,\n",
       " 'continuous_sneezing': 1,\n",
       " 'runny_nose': 1,\n",
       " 'abnormal_menstruation': 1,\n",
       " 'throat_irritation': 1,\n",
       " 'skin_rash': 1,\n",
       " 'cough': 1,\n",
       " 'fast_heart_rate': 1,\n",
       " 'mood_swings': 1,\n",
       " 'swelled_lymph_nodes': 1,\n",
       " 'pain_behind_the_eyes': 1,\n",
       " 'yellowing_of_eyes': 1,\n",
       " 'irritability': 1,\n",
       " 'movement_stiffness': 1,\n",
       " 'chest_pain': 1}"
      ]
     },
     "execution_count": 28,
     "metadata": {},
     "output_type": "execute_result"
    }
   ],
   "source": [
    "dict_all_sympt_appear"
   ]
  },
  {
   "cell_type": "code",
   "execution_count": 10,
   "metadata": {},
   "outputs": [],
   "source": [
    "# list_sympt_suggest = []\n",
    "\n",
    "# for k in dict_sort_sympt.keys():\n",
    "#     for v in list(user_action['inform_slots'].values())[0]:\n",
    "#         if v not in k:\n",
    "#             list_sympt_suggest.append(k)"
   ]
  },
  {
   "cell_type": "code",
   "execution_count": 11,
   "metadata": {},
   "outputs": [],
   "source": [
    "list_sympt_suggest_backup = list_sympt_suggest.copy()"
   ]
  },
  {
   "cell_type": "markdown",
   "metadata": {},
   "source": [
    "## GEN AGENT ACTION\n",
    "\n",
    "\n",
    "semantic of agent action as a dictionary: <br/>\n",
    "{\n",
    "\"intent\":<>,\n",
    "\"inform_slots\": <>,\n",
    "\"request_slots\": <>\n",
    "} <br/>\n",
    "type of \"intent\" field is string <br/>\n",
    "type of \"inform_slots\" field is list of string <br/>\n",
    "type of \"request_slots\" field is list of string"
   ]
  },
  {
   "cell_type": "code",
   "execution_count": 12,
   "metadata": {},
   "outputs": [],
   "source": [
    "agent_action = {}\n",
    "## investigate\n",
    "agent_action['intent'] = 'inform'\n",
    "\n",
    "if agent_action['intent'] == 'inform':\n",
    "    \n",
    "    _PLACE_HOLDER = list_sympt_suggest.pop(0)\n",
    "    \n",
    "    agent_action['inform_slots'] = {'Symptom' : [_PLACE_HOLDER]}\n",
    "    agent_action['request_slots'] = {}\n",
    "else:\n",
    "    \n",
    "    _UNK = 'unknown'\n",
    "\n",
    "    agent_action['inform_slots'] = {}\n",
    "    agent_action['request_slots'] = {'Symptom' : [_UNK]}"
   ]
  },
  {
   "cell_type": "code",
   "execution_count": 13,
   "metadata": {},
   "outputs": [
    {
     "data": {
      "text/plain": [
       "{'intent': 'inform',\n",
       " 'inform_slots': {'Symptom': ['high_fever']},\n",
       " 'request_slots': {}}"
      ]
     },
     "execution_count": 13,
     "metadata": {},
     "output_type": "execute_result"
    }
   ],
   "source": [
    "agent_action"
   ]
  },
  {
   "cell_type": "markdown",
   "metadata": {},
   "source": [
    "## CHATBOT SCRIPT\n",
    "\n",
    "assumpt that when agent ask/suggest anything, user willing confirm/answer this slot <br/>\n",
    "\n",
    "so, update user action from agent action"
   ]
  },
  {
   "cell_type": "code",
   "execution_count": 14,
   "metadata": {},
   "outputs": [],
   "source": [
    "if agent_action['inform_slots']:\n",
    "    current_slot = list(agent_action['inform_slots'].values())[0][0]\n",
    "    \n",
    "if agent_action['request_slots']:\n",
    "    current_slot = list(agent_action['request_slots'].values())[0][0]\n",
    "    "
   ]
  },
  {
   "cell_type": "code",
   "execution_count": 15,
   "metadata": {},
   "outputs": [
    {
     "data": {
      "text/plain": [
       "{'intent': 'inform',\n",
       " 'request_slots': {},\n",
       " 'inform_slots': {'Symptom': ['muscle']}}"
      ]
     },
     "execution_count": 15,
     "metadata": {},
     "output_type": "execute_result"
    }
   ],
   "source": [
    "user_action"
   ]
  },
  {
   "cell_type": "code",
   "execution_count": 16,
   "metadata": {},
   "outputs": [],
   "source": [
    "if current_slot not in user_action['inform_slots']['Symptom']:\n",
    "    user_action['inform_slots']['Symptom'].append(current_slot)"
   ]
  },
  {
   "cell_type": "code",
   "execution_count": 17,
   "metadata": {},
   "outputs": [
    {
     "data": {
      "text/plain": [
       "{'intent': 'inform',\n",
       " 'request_slots': {},\n",
       " 'inform_slots': {'Symptom': ['muscle', 'high_fever']}}"
      ]
     },
     "execution_count": 17,
     "metadata": {},
     "output_type": "execute_result"
    }
   ],
   "source": [
    "user_action"
   ]
  },
  {
   "cell_type": "code",
   "execution_count": 18,
   "metadata": {},
   "outputs": [],
   "source": [
    "constraints = user_action['inform_slots']\n",
    "query_string = convert_constraint(constraints)\n",
    "\n",
    "query_result = collection.find(query_string)\n",
    "list_record_query = []\n",
    "for item in query_result:\n",
    "    list_record_query.append(item)"
   ]
  },
  {
   "cell_type": "code",
   "execution_count": 19,
   "metadata": {},
   "outputs": [
    {
     "data": {
      "text/plain": [
       "[{'_id': ObjectId('606c0a179dadc241387f6792'),\n",
       "  'Disease': 'AIDS',\n",
       "  'Symptom': ['muscle_wasting',\n",
       "   'extra_marital_contacts',\n",
       "   'high_fever',\n",
       "   'patches_in_throat']},\n",
       " {'_id': ObjectId('606c0a179dadc241387f679b'),\n",
       "  'Disease': 'Dengue',\n",
       "  'Symptom': ['headache',\n",
       "   'chills',\n",
       "   'fatigue',\n",
       "   'loss_of_appetite',\n",
       "   'high_fever',\n",
       "   'muscle_pain',\n",
       "   'red_spots_over_body',\n",
       "   'pain_behind_the_eyes',\n",
       "   'malaise',\n",
       "   'joint_pain',\n",
       "   'back_pain',\n",
       "   'vomiting',\n",
       "   'skin_rash',\n",
       "   'nausea']},\n",
       " {'_id': ObjectId('606c0a179dadc241387f679c'),\n",
       "  'Disease': 'Common Cold',\n",
       "  'Symptom': ['runny_nose',\n",
       "   'continuous_sneezing',\n",
       "   'fatigue',\n",
       "   'chills',\n",
       "   'throat_irritation',\n",
       "   'chest_pain',\n",
       "   'high_fever',\n",
       "   'malaise',\n",
       "   'sinus_pressure',\n",
       "   'congestion',\n",
       "   'muscle_pain',\n",
       "   'redness_of_eyes',\n",
       "   'swelled_lymph_nodes',\n",
       "   'loss_of_smell',\n",
       "   'cough',\n",
       "   'headache',\n",
       "   'phlegm']},\n",
       " {'_id': ObjectId('606c0a179dadc241387f67a9'),\n",
       "  'Disease': 'Malaria',\n",
       "  'Symptom': ['chills',\n",
       "   'sweating',\n",
       "   'high_fever',\n",
       "   'muscle_pain',\n",
       "   'vomiting',\n",
       "   'headache',\n",
       "   'diarrhoea',\n",
       "   'nausea']}]"
      ]
     },
     "execution_count": 19,
     "metadata": {},
     "output_type": "execute_result"
    }
   ],
   "source": [
    "list_record_query"
   ]
  },
  {
   "cell_type": "code",
   "execution_count": 20,
   "metadata": {},
   "outputs": [
    {
     "name": "stdout",
     "output_type": "stream",
     "text": [
      "Amount records match: 4\n"
     ]
    }
   ],
   "source": [
    "print('Amount records match: {}'.format(len(list_record_query)))"
   ]
  },
  {
   "cell_type": "code",
   "execution_count": 21,
   "metadata": {},
   "outputs": [],
   "source": [
    "# def check_pattern(dis_list,inp):\n",
    "#     pred_list=[]\n",
    "#     patt = \"^\" + inp + \"$\"\n",
    "#     regexp = re.compile(inp)\n",
    "#     for item in dis_list:\n",
    "#         if regexp.search(item):\n",
    "#             pred_list.append(item)"
   ]
  },
  {
   "cell_type": "code",
   "execution_count": 22,
   "metadata": {},
   "outputs": [],
   "source": [
    "def check_available(list_sympt_query,list_user_inform):\n",
    "    for item in list_sympt_query:\n",
    "        \n",
    "        for inform in list_user_inform:\n",
    "            if len(item) < len(inform):\n",
    "                print('a')\n",
    "                regexp = re.compile(item)\n",
    "                if not regexp.search(inform):\n",
    "                    return item\n",
    "            else:\n",
    "                \n",
    "                regexp = re.compile(inform)\n",
    "                if not regexp.search(item):\n",
    "                    print('b',item,inform)\n",
    "                    return item\n",
    "            "
   ]
  },
  {
   "cell_type": "code",
   "execution_count": 23,
   "metadata": {},
   "outputs": [],
   "source": [
    "list_user_inform = ['muscle', ' high_fever']\n",
    "list_sympt_query = [' high_fever', ' muscle_pain', ' chills', ' headache', ' fatigue', ' vomiting', ' malaise', ' nausea', ' chest_pain', ' swelled_lymph_nodes', ' runny_nose', ' continuous_sneezing', ' back_pain', ' red_spots_over_body', ' loss_of_appetite', ' pain_behind_the_eyes', ' skin_rash', ' diarrhoea', ' sinus_pressure', ' redness_of_eyes', ' throat_irritation', ' loss_of_smell', ' sweating', ' joint_pain', ' cough', ' extra_marital_contacts', ' muscle_wasting', ' congestion', ' phlegm', ' patches_in_throat']"
   ]
  },
  {
   "cell_type": "code",
   "execution_count": 29,
   "metadata": {},
   "outputs": [],
   "source": [
    "# check_available(list_sympt_query,list_user_inform)"
   ]
  }
 ],
 "metadata": {
  "kernelspec": {
   "display_name": "disease",
   "language": "python",
   "name": "disease"
  },
  "language_info": {
   "codemirror_mode": {
    "name": "ipython",
    "version": 3
   },
   "file_extension": ".py",
   "mimetype": "text/x-python",
   "name": "python",
   "nbconvert_exporter": "python",
   "pygments_lexer": "ipython3",
   "version": "3.6.13"
  }
 },
 "nbformat": 4,
 "nbformat_minor": 4
}
