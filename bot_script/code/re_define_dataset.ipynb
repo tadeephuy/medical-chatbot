{
 "cells": [
  {
   "cell_type": "code",
   "execution_count": 1,
   "metadata": {},
   "outputs": [],
   "source": [
    "import pandas as pd"
   ]
  },
  {
   "cell_type": "code",
   "execution_count": 2,
   "metadata": {},
   "outputs": [
    {
     "data": {
      "text/html": [
       "<div>\n",
       "<style scoped>\n",
       "    .dataframe tbody tr th:only-of-type {\n",
       "        vertical-align: middle;\n",
       "    }\n",
       "\n",
       "    .dataframe tbody tr th {\n",
       "        vertical-align: top;\n",
       "    }\n",
       "\n",
       "    .dataframe thead th {\n",
       "        text-align: right;\n",
       "    }\n",
       "</style>\n",
       "<table border=\"1\" class=\"dataframe\">\n",
       "  <thead>\n",
       "    <tr style=\"text-align: right;\">\n",
       "      <th></th>\n",
       "      <th>_id</th>\n",
       "      <th>disease</th>\n",
       "      <th>overview</th>\n",
       "      <th>symptom</th>\n",
       "      <th>main_type</th>\n",
       "      <th>risk_factor</th>\n",
       "      <th>cause</th>\n",
       "      <th>severe</th>\n",
       "      <th>method_diagnosis</th>\n",
       "      <th>treatment</th>\n",
       "    </tr>\n",
       "  </thead>\n",
       "  <tbody>\n",
       "  </tbody>\n",
       "</table>\n",
       "</div>"
      ],
      "text/plain": [
       "Empty DataFrame\n",
       "Columns: [_id, disease, overview, symptom, main_type, risk_factor, cause, severe, method_diagnosis, treatment]\n",
       "Index: []"
      ]
     },
     "execution_count": 2,
     "metadata": {},
     "output_type": "execute_result"
    }
   ],
   "source": [
    "DF_PATTERN = pd.DataFrame(columns=['_id','disease','overview','symptom','main_type','risk_factor','cause','severe','method_diagnosis','treatment'])\n",
    "DF_PATTERN"
   ]
  },
  {
   "cell_type": "code",
   "execution_count": 3,
   "metadata": {},
   "outputs": [],
   "source": [
    "# DF_PATTERN['_id'] = [0]\n",
    "# DF_PATTERN['disease'] = ['thalass']\n",
    "# DF_PATTERN['overview'] = [['Thalassemia is an inherited blood disorder']]\n",
    "# DF_PATTERN['symptom'] = [['Fatigue','Weakness','Pale']]\n",
    "# DF_PATTERN['main_type'] = [['alpha-thalass','beta-thalass']]\n",
    "# DF_PATTERN['risk_factor'] = [['African Americans', 'people of Mediterranean']]\n",
    "# DF_PATTERN['cause'] = [['from parent']]\n",
    "# DF_PATTERN['severe'] = [['depend on type']]\n",
    "# DF_PATTERN['method_diagnosis'] = [['blood testing']]\n",
    "# DF_PATTERN['treatment'] = [['blood transfusions']]"
   ]
  },
  {
   "cell_type": "markdown",
   "metadata": {},
   "source": [
    "## Object overview"
   ]
  },
  {
   "cell_type": "code",
   "execution_count": 4,
   "metadata": {},
   "outputs": [],
   "source": [
    "object_overview = {}\n",
    "\n",
    "object_overview['overview'] = [\n",
    "    'inherited blood disorder',\n",
    "    'hemoglobin',\n",
    "    'Constant Spring, Cooley’s anemia, or hemoglobin Bart’s hydrops'\n",
    "    'hemoglobin'\n",
    "    \n",
    "]\n",
    "\n",
    "object_overview['original_text'] = [\n",
    "    'Thalassemia (thal-uh-SEE-me-uh) is an inherited blood disorder',\n",
    "    'Hemoglobin is the protein molecule in red blood cells that carries oxygen',\n",
    "    'You may hear it called things like Constant Spring, Cooley’s anemia, or hemoglobin Bart’s hydrops fetalis. These are common names for different forms of it',\n",
    "    'Thalassaemia is the name for a group of inherited conditions that affect a substance in the blood called hemoglobins'\n",
    "    \n",
    "]\n",
    "\n"
   ]
  },
  {
   "cell_type": "markdown",
   "metadata": {},
   "source": [
    "## Object symptom"
   ]
  },
  {
   "cell_type": "code",
   "execution_count": 5,
   "metadata": {},
   "outputs": [],
   "source": [
    "object_symptom = {}\n",
    "\n",
    "object_symptom['symptom'] = [\n",
    "    'fatigued',\n",
    "    'not have symptoms or only mild ones',\n",
    "    'tired, short of breath and pale',\n",
    "    'Fatigue,Weakness,Pale or yellowish skin,Facial bone deformities,Slow growth,Abdominal swelling,Dark urine',\n",
    "    'bone deformities, especially in the face,dark urine,delayed growth and development,excessive tiredness and fatigue,yellow or pale skin',\n",
    "    'show up later',\n",
    "    'Slow growth in children,Wide or brittle bones,Enlarged spleen (an organ in your abdomen that filters blood and fights disease),Fatigue,Weakness,Pale or yellow skin,Dark urine,Poor appetite,Heart problems',\n",
    "    'no signs',\n",
    "    'not show',\n",
    "    'jaundice and pale skin,drowsiness and fatigue,chest pain,cold hands and feet,shortness of breath,leg cramps,rapid heart beat,poor feeding,delayed growth,headaches,dizziness and faintness,greater susceptibility to infections,Skeletal deformities may result as the body tries to produce more bone marrow',\n",
    "    'growth, weak and fragile bones (osteoporosis), and reduced fertility.'\n",
    "]\n",
    "\n",
    "object_symptom['original_text'] = [\n",
    "    'leaving you fatigued',\n",
    "    'A person with a trait or minor form may not have symptoms or only mild ones',\n",
    "    'This can make them very anaemic (tired, short of breath and pale)',\n",
    "    'Thalassemia signs and symptoms can include:Fatigue,Weakness,Pale or yellowish skin,Facial bone deformities,Slow growth,Abdominal swelling,Dark urine',\n",
    "    'Some of the most common ones include:bone deformities, especially in the face,dark urine,delayed growth and development,excessive tiredness and fatigue,yellow or pale skin',\n",
    "    'Signs of the disorder also tend to show up later in childhood or adolescence',\n",
    "    'These can include:,,Slow growth in children,Wide or brittle bones,Enlarged spleen (an organ in your abdomen that filters blood and fights disease),Fatigue,Weakness,Pale or yellow skin,Dark urine,Poor appetite,Heart problems',\n",
    "    'Some people who have thalassemia will show no signs at all',\n",
    "    'Symptoms will not show until the age of 6 months in most infants with beta thalassemia and some types of alpha thalassemia',\n",
    "    'These include:,,jaundice and pale skin,drowsiness and fatigue,chest pain,cold hands and feet,shortness of breath,leg cramps,rapid heart beat,poor feeding,delayed growth,headaches,dizziness and faintness,greater susceptibility to infections,Skeletal deformities may result as the body tries to produce more bone marrow.',\n",
    "    'Some people may also have delayed growth, weak and fragile bones (osteoporosis), and reduced fertility.'\n",
    "]\n",
    "\n"
   ]
  },
  {
   "cell_type": "markdown",
   "metadata": {},
   "source": [
    "## Object main_type"
   ]
  },
  {
   "cell_type": "code",
   "execution_count": 6,
   "metadata": {},
   "outputs": [],
   "source": [
    "object_main_type = {}\n",
    "\n",
    "object_main_type['main_type'] = [\n",
    "    'mild thalassemia',\n",
    "    'alpha thalassemia',\n",
    "    'beta thalassemia',\n",
    "    'Beta thalassaemia major',\n",
    "    'beta thalassaemia intermedia, alpha thalassaemia major and haemoglobin H'\n",
    "]\n",
    "\n",
    "object_main_type['original_text'] = [\n",
    "    'mild thalassemia',\n",
    "    'In alpha thalassemia, at least one of the alpha globin genes has a mutation or abnormality',\n",
    "    'In beta thalassemia, the beta globin genes are affected',\n",
    "    'Beta thalassaemia major is the most severe type',\n",
    "    'Other types include beta thalassaemia intermedia, alpha thalassaemia major and haemoglobin H disease'\n",
    "]\n",
    "\n"
   ]
  },
  {
   "cell_type": "markdown",
   "metadata": {},
   "source": [
    "## Object risk_factor"
   ]
  },
  {
   "cell_type": "code",
   "execution_count": 7,
   "metadata": {},
   "outputs": [],
   "source": [
    "object_risk_factor = {}\n",
    "\n",
    "object_risk_factor['risk_factor'] = [\n",
    "    'Mediterranean, South Asian, and African',\n",
    "    'Mediterranean, south Asian, southeast Asian and Middle Eastern origins'    \n",
    "]\n",
    "\n",
    "object_risk_factor['original_text'] = [\n",
    "    'It is most common with Mediterranean, South Asian, and African ancestry',\n",
    "    'It mainly affects people of Mediterranean, south Asian, southeast Asian and Middle Eastern origins'\n",
    "]\n",
    "\n"
   ]
  },
  {
   "cell_type": "markdown",
   "metadata": {},
   "source": [
    "## Object cause"
   ]
  },
  {
   "cell_type": "code",
   "execution_count": 8,
   "metadata": {},
   "outputs": [],
   "source": [
    "object_cause = {}\n",
    "\n",
    "object_cause['cause'] = [\n",
    "    'less hemoglobin than normal',\n",
    "    'anemia',\n",
    "    'inherited',\n",
    "    'genetic mutation or a deletion of certain key gene fragments',\n",
    "    'mutations in the DNA of cells'\n",
    "]\n",
    "\n",
    "object_cause['original_text'] = [\n",
    "    'your body to have less hemoglobin than normal',\n",
    "    'Anemia is a condition in which your body doesn’t have enough normal, healthy red blood cells',\n",
    "    'Thalassemia is inherited, meaning that at least one of your parents must be a carrier of the disorder',\n",
    "    'It’s caused by either a genetic mutation or a deletion of certain key gene fragments',\n",
    "    'Thalassemia is caused by mutations in the DNA of cells that make hemoglobin — the substance in red blood cells that carries oxygen throughout your body'\n",
    "]\n",
    "\n"
   ]
  },
  {
   "cell_type": "markdown",
   "metadata": {},
   "source": [
    "## Object severe"
   ]
  },
  {
   "cell_type": "code",
   "execution_count": 9,
   "metadata": {},
   "outputs": [],
   "source": [
    "object_severe = []"
   ]
  },
  {
   "cell_type": "code",
   "execution_count": 10,
   "metadata": {},
   "outputs": [],
   "source": [
    "# object_severe = {}\n",
    "\n",
    "# object_severe['severe'] = [\n",
    "#     'inherited blood disorder'\n",
    "# ]\n",
    "\n",
    "# object_severe['severe'] = [\n",
    "#     'Thalassemia (thal-uh-SEE-me-uh) is an inherited blood disorder that causes your body to have less hemoglobin than normal',\n",
    "    \n",
    "# ]\n",
    "\n",
    "\n",
    "### -0-\n",
    "sub_object_severe = {}\n",
    "sub_object_severe['type'] = [\n",
    "    'minor'\n",
    "]\n",
    "sub_object_severe['severe'] = [\n",
    "    'less serious'\n",
    "]\n",
    "sub_object_severe['original_text'] = [\n",
    "    'Thalassemia minor is a less serious form of the disorder'\n",
    "]\n",
    "object_severe.append(sub_object_severe)\n",
    "\n",
    "\n"
   ]
  },
  {
   "cell_type": "markdown",
   "metadata": {},
   "source": [
    "## Object method_diagnosis"
   ]
  },
  {
   "cell_type": "code",
   "execution_count": 11,
   "metadata": {},
   "outputs": [],
   "source": [
    "object_method_diagnosis = {}\n",
    "\n",
    "object_method_diagnosis['method_diagnosis'] = [\n",
    "    'inherited blood disorder'\n",
    "]\n",
    "\n",
    "object_method_diagnosis['method_diagnosis'] = [\n",
    "    'Thalassemia (thal-uh-SEE-me-uh) is an inherited blood disorder that causes your body to have less hemoglobin than normal',\n",
    "    \n",
    "]\n",
    "\n"
   ]
  },
  {
   "cell_type": "markdown",
   "metadata": {},
   "source": [
    "## Object treatment"
   ]
  },
  {
   "cell_type": "code",
   "execution_count": 12,
   "metadata": {},
   "outputs": [],
   "source": [
    "object_treatment = []"
   ]
  },
  {
   "cell_type": "code",
   "execution_count": 13,
   "metadata": {},
   "outputs": [],
   "source": [
    "# object_treatment = {}\n",
    "\n",
    "# object_treatment['treatment'] = [\n",
    "#     'inherited blood disorder'\n",
    "# ]\n",
    "\n",
    "# object_treatment['treatment'] = [\n",
    "#     'Thalassemia (thal-uh-SEE-me-uh) is an inherited blood disorder that causes your body to have less hemoglobin than normal',\n",
    "    \n",
    "# ]\n",
    "\n",
    "### -0-\n",
    "\n",
    "sub_object_treatment = {}\n",
    "\n",
    "sub_object_treatment['type'] = [\n",
    "    'mild'\n",
    "]\n",
    "\n",
    "sub_object_treatment['treatment'] = [\n",
    "    'not need treatment'\n",
    "]\n",
    "\n",
    "sub_object_treatment['original_text'] = [\n",
    "    'If you have mild thalassemia, you might not need treatment'\n",
    "]\n",
    "\n",
    "object_treatment.append(sub_object_treatment)\n",
    "\n",
    "### -1-\n",
    "\n",
    "sub_object_treatment = {}\n",
    "\n",
    "sub_object_treatment['type'] = [\n",
    "    'more severe forms'\n",
    "]\n",
    "\n",
    "sub_object_treatment['treatment'] = [\n",
    "    'regular blood transfusions'\n",
    "]\n",
    "\n",
    "sub_object_treatment['original_text'] = [\n",
    "    'more severe forms might require regular blood transfusions'\n",
    "]\n",
    "\n",
    "object_treatment.append(sub_object_treatment)\n",
    "\n",
    "\n",
    "\n"
   ]
  },
  {
   "cell_type": "code",
   "execution_count": 14,
   "metadata": {},
   "outputs": [],
   "source": [
    "object_thalas = {}\n",
    "object_thalas['overview'] = object_overview\n",
    "object_thalas['symptom'] = object_symptom\n",
    "object_thalas['main_type'] = object_main_type\n",
    "object_thalas['risk_factor'] = object_risk_factor\n",
    "object_thalas['cause'] = object_cause\n",
    "object_thalas['severe'] = object_severe\n",
    "object_thalas['method_diagnosis'] = object_method_diagnosis\n",
    "object_thalas['treatment'] = object_treatment"
   ]
  },
  {
   "cell_type": "code",
   "execution_count": 15,
   "metadata": {},
   "outputs": [
    {
     "data": {
      "text/plain": [
       "{'overview': {'overview': ['inherited blood disorder',\n",
       "   'hemoglobin',\n",
       "   'Constant Spring, Cooley’s anemia, or hemoglobin Bart’s hydropshemoglobin'],\n",
       "  'original_text': ['Thalassemia (thal-uh-SEE-me-uh) is an inherited blood disorder',\n",
       "   'Hemoglobin is the protein molecule in red blood cells that carries oxygen',\n",
       "   'You may hear it called things like Constant Spring, Cooley’s anemia, or hemoglobin Bart’s hydrops fetalis. These are common names for different forms of it',\n",
       "   'Thalassaemia is the name for a group of inherited conditions that affect a substance in the blood called hemoglobins']},\n",
       " 'symptom': {'symptom': ['fatigued',\n",
       "   'not have symptoms or only mild ones',\n",
       "   'tired, short of breath and pale',\n",
       "   'Fatigue,Weakness,Pale or yellowish skin,Facial bone deformities,Slow growth,Abdominal swelling,Dark urine',\n",
       "   'bone deformities, especially in the face,dark urine,delayed growth and development,excessive tiredness and fatigue,yellow or pale skin',\n",
       "   'show up later',\n",
       "   'Slow growth in children,Wide or brittle bones,Enlarged spleen (an organ in your abdomen that filters blood and fights disease),Fatigue,Weakness,Pale or yellow skin,Dark urine,Poor appetite,Heart problems',\n",
       "   'no signs',\n",
       "   'not show',\n",
       "   'jaundice and pale skin,drowsiness and fatigue,chest pain,cold hands and feet,shortness of breath,leg cramps,rapid heart beat,poor feeding,delayed growth,headaches,dizziness and faintness,greater susceptibility to infections,Skeletal deformities may result as the body tries to produce more bone marrow',\n",
       "   'growth, weak and fragile bones (osteoporosis), and reduced fertility.'],\n",
       "  'original_text': ['leaving you fatigued',\n",
       "   'A person with a trait or minor form may not have symptoms or only mild ones',\n",
       "   'This can make them very anaemic (tired, short of breath and pale)',\n",
       "   'Thalassemia signs and symptoms can include:Fatigue,Weakness,Pale or yellowish skin,Facial bone deformities,Slow growth,Abdominal swelling,Dark urine',\n",
       "   'Some of the most common ones include:bone deformities, especially in the face,dark urine,delayed growth and development,excessive tiredness and fatigue,yellow or pale skin',\n",
       "   'Signs of the disorder also tend to show up later in childhood or adolescence',\n",
       "   'These can include:,,Slow growth in children,Wide or brittle bones,Enlarged spleen (an organ in your abdomen that filters blood and fights disease),Fatigue,Weakness,Pale or yellow skin,Dark urine,Poor appetite,Heart problems',\n",
       "   'Some people who have thalassemia will show no signs at all',\n",
       "   'Symptoms will not show until the age of 6 months in most infants with beta thalassemia and some types of alpha thalassemia',\n",
       "   'These include:,,jaundice and pale skin,drowsiness and fatigue,chest pain,cold hands and feet,shortness of breath,leg cramps,rapid heart beat,poor feeding,delayed growth,headaches,dizziness and faintness,greater susceptibility to infections,Skeletal deformities may result as the body tries to produce more bone marrow.',\n",
       "   'Some people may also have delayed growth, weak and fragile bones (osteoporosis), and reduced fertility.']},\n",
       " 'main_type': {'main_type': ['mild thalassemia',\n",
       "   'alpha thalassemia',\n",
       "   'beta thalassemia',\n",
       "   'Beta thalassaemia major',\n",
       "   'beta thalassaemia intermedia, alpha thalassaemia major and haemoglobin H'],\n",
       "  'original_text': ['mild thalassemia',\n",
       "   'In alpha thalassemia, at least one of the alpha globin genes has a mutation or abnormality',\n",
       "   'In beta thalassemia, the beta globin genes are affected',\n",
       "   'Beta thalassaemia major is the most severe type',\n",
       "   'Other types include beta thalassaemia intermedia, alpha thalassaemia major and haemoglobin H disease']},\n",
       " 'risk_factor': {'risk_factor': ['Mediterranean, South Asian, and African',\n",
       "   'Mediterranean, south Asian, southeast Asian and Middle Eastern origins'],\n",
       "  'original_text': ['It is most common with Mediterranean, South Asian, and African ancestry',\n",
       "   'It mainly affects people of Mediterranean, south Asian, southeast Asian and Middle Eastern origins']},\n",
       " 'cause': {'cause': ['less hemoglobin than normal',\n",
       "   'anemia',\n",
       "   'inherited',\n",
       "   'genetic mutation or a deletion of certain key gene fragments',\n",
       "   'mutations in the DNA of cells'],\n",
       "  'original_text': ['your body to have less hemoglobin than normal',\n",
       "   'Anemia is a condition in which your body doesn’t have enough normal, healthy red blood cells',\n",
       "   'Thalassemia is inherited, meaning that at least one of your parents must be a carrier of the disorder',\n",
       "   'It’s caused by either a genetic mutation or a deletion of certain key gene fragments',\n",
       "   'Thalassemia is caused by mutations in the DNA of cells that make hemoglobin — the substance in red blood cells that carries oxygen throughout your body']},\n",
       " 'severe': [{'type': ['minor'],\n",
       "   'severe': ['less serious'],\n",
       "   'original_text': ['Thalassemia minor is a less serious form of the disorder']}],\n",
       " 'method_diagnosis': {'method_diagnosis': ['Thalassemia (thal-uh-SEE-me-uh) is an inherited blood disorder that causes your body to have less hemoglobin than normal']},\n",
       " 'treatment': [{'type': ['mild'],\n",
       "   'treatment': ['not need treatment'],\n",
       "   'original_text': ['If you have mild thalassemia, you might not need treatment']},\n",
       "  {'type': ['more severe forms'],\n",
       "   'treatment': ['regular blood transfusions'],\n",
       "   'original_text': ['more severe forms might require regular blood transfusions']}]}"
      ]
     },
     "execution_count": 15,
     "metadata": {},
     "output_type": "execute_result"
    }
   ],
   "source": [
    "object_thalas"
   ]
  }
 ],
 "metadata": {
  "kernelspec": {
   "display_name": "disease",
   "language": "python",
   "name": "disease"
  },
  "language_info": {
   "codemirror_mode": {
    "name": "ipython",
    "version": 3
   },
   "file_extension": ".py",
   "mimetype": "text/x-python",
   "name": "python",
   "nbconvert_exporter": "python",
   "pygments_lexer": "ipython3",
   "version": "3.6.13"
  }
 },
 "nbformat": 4,
 "nbformat_minor": 4
}
