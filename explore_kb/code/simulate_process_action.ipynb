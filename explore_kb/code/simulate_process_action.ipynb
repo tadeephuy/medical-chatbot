{
 "cells": [
  {
   "cell_type": "code",
   "execution_count": 1,
   "metadata": {},
   "outputs": [],
   "source": [
    "%load_ext autoreload\n",
    "%autoreload 2\n",
    "\n",
    "import pymongo\n",
    "import os\n",
    "from process_action import update_agent_action, update_user_action\n",
    "from emc import gen_error_user_action\n",
    "from recursion_dm import dialogue_management"
   ]
  },
  {
   "cell_type": "code",
   "execution_count": 2,
   "metadata": {},
   "outputs": [],
   "source": [
    "os.environ[\"MONGOLAB_URI\"] = 'mongodb://localhost:27017'\n",
    "client = pymongo.MongoClient(os.environ.get('MONGOLAB_URI'))\n",
    "database = client.vinbrain\n",
    "col_db = database.disease"
   ]
  },
  {
   "cell_type": "markdown",
   "metadata": {},
   "source": [
    "## Testcase"
   ]
  },
  {
   "cell_type": "code",
   "execution_count": 3,
   "metadata": {},
   "outputs": [],
   "source": [
    "global user_action\n",
    "user_action = {}\n",
    "user_action['intent'] = 'request'\n",
    "user_action['request_slots'] = {'Disease':'unk'}\n",
    "user_action['inform_slots'] = {'Symptom':['muscle']}\n",
    "\n",
    "done = False\n",
    "count = 0\n"
   ]
  },
  {
   "cell_type": "code",
   "execution_count": 4,
   "metadata": {
    "scrolled": false
   },
   "outputs": [
    {
     "name": "stdout",
     "output_type": "stream",
     "text": [
      "Current slot: 1\n",
      "User: {'intent': 'request', 'request_slots': {'Disease': 'unk'}, 'inform_slots': {'Symptom': ['muscle']}}\n",
      "Agent: {'intent': 'inform', 'inform_slots': {'Symptom': ['muscle_pain']}, 'request_slots': {}}\n",
      "Record found: 7\n",
      "==================================================\n",
      "Current slot: 2\n",
      "User: {'intent': 'request', 'request_slots': {'Disease': 'unk'}, 'inform_slots': {'Symptom': ['muscle_pain']}}\n",
      "vote appear {'muscle_pain': 4, 'chills': 3, 'headache': 3, 'nausea': 3, 'high_fever': 3, 'vomiting': 3, 'diarrhoea': 2, 'malaise': 2, 'loss_of_appetite': 2, 'fatigue': 2, 'joint_pain': 2, 'phlegm': 1, 'chest_pain': 1, 'cough': 1, 'back_pain': 1, 'pain_behind_the_eyes': 1, 'yellowish_skin': 1, 'runny_nose': 1, 'throat_irritation': 1, 'continuous_sneezing': 1, 'loss_of_smell': 1, 'sweating': 1, 'redness_of_eyes': 1, 'mild_fever': 1, 'dark_urine': 1, 'skin_rash': 1, 'swelled_lymph_nodes': 1, 'yellowing_of_eyes': 1, 'abdominal_pain': 1, 'sinus_pressure': 1, 'congestion': 1, 'red_spots_over_body': 1}\n",
      "Agent: {'intent': 'inform', 'inform_slots': {'Symptom': ['chills']}, 'request_slots': {}}\n",
      "Record found: 4\n",
      "==================================================\n",
      "Current slot: 3\n",
      "User: {'intent': 'request', 'request_slots': {'Disease': 'unk'}, 'inform_slots': {'Symptom': ['muscle_pain', 'chills']}}\n",
      "vote appear {'chills': 3, 'headache': 3, 'muscle_pain': 3, 'high_fever': 3, 'malaise': 2, 'fatigue': 2, 'nausea': 2, 'vomiting': 2, 'phlegm': 1, 'diarrhoea': 1, 'chest_pain': 1, 'cough': 1, 'back_pain': 1, 'loss_of_appetite': 1, 'pain_behind_the_eyes': 1, 'runny_nose': 1, 'throat_irritation': 1, 'continuous_sneezing': 1, 'loss_of_smell': 1, 'sweating': 1, 'redness_of_eyes': 1, 'joint_pain': 1, 'skin_rash': 1, 'swelled_lymph_nodes': 1, 'sinus_pressure': 1, 'congestion': 1, 'red_spots_over_body': 1}\n",
      "Agent: {'intent': 'inform', 'inform_slots': {'Symptom': ['headache']}, 'request_slots': {}}\n",
      "Record found: 3\n",
      "==================================================\n",
      "Current slot: 4\n",
      "User: {'intent': 'request', 'request_slots': {'Disease': 'unk'}, 'inform_slots': {'Symptom': ['muscle_pain', 'chills', 'headache']}}\n",
      "vote appear {'chills': 3, 'headache': 3, 'muscle_pain': 3, 'high_fever': 3, 'malaise': 2, 'fatigue': 2, 'nausea': 2, 'vomiting': 2, 'phlegm': 1, 'diarrhoea': 1, 'chest_pain': 1, 'cough': 1, 'back_pain': 1, 'loss_of_appetite': 1, 'pain_behind_the_eyes': 1, 'runny_nose': 1, 'throat_irritation': 1, 'continuous_sneezing': 1, 'loss_of_smell': 1, 'sweating': 1, 'redness_of_eyes': 1, 'joint_pain': 1, 'skin_rash': 1, 'swelled_lymph_nodes': 1, 'sinus_pressure': 1, 'congestion': 1, 'red_spots_over_body': 1}\n",
      "Agent: {'intent': 'inform', 'inform_slots': {'Symptom': ['high_fever']}, 'request_slots': {}}\n",
      "Record found: 3\n",
      "==================================================\n",
      "Current slot: 5\n",
      "User: {'intent': 'request', 'request_slots': {'Disease': 'unk'}, 'inform_slots': {'Symptom': ['muscle_pain', 'chills', 'headache', 'high_fever']}}\n",
      "vote appear {'chills': 3, 'headache': 3, 'muscle_pain': 3, 'high_fever': 3, 'malaise': 2, 'fatigue': 2, 'nausea': 2, 'vomiting': 2, 'phlegm': 1, 'diarrhoea': 1, 'chest_pain': 1, 'cough': 1, 'back_pain': 1, 'loss_of_appetite': 1, 'pain_behind_the_eyes': 1, 'runny_nose': 1, 'throat_irritation': 1, 'continuous_sneezing': 1, 'loss_of_smell': 1, 'sweating': 1, 'redness_of_eyes': 1, 'joint_pain': 1, 'skin_rash': 1, 'swelled_lymph_nodes': 1, 'sinus_pressure': 1, 'congestion': 1, 'red_spots_over_body': 1}\n",
      "Agent: {'intent': 'inform', 'inform_slots': {'Symptom': ['malaise']}, 'request_slots': {}}\n",
      "Record found: 3\n",
      "==================================================\n",
      "Current slot: 6\n",
      "User: {'intent': 'request', 'request_slots': {'Disease': 'unk'}, 'inform_slots': {'Symptom': ['muscle_pain', 'chills', 'headache', 'high_fever', 'malaise']}}\n",
      "vote appear {'malaise': 2, 'chills': 2, 'headache': 2, 'fatigue': 2, 'muscle_pain': 2, 'high_fever': 2, 'phlegm': 1, 'chest_pain': 1, 'cough': 1, 'back_pain': 1, 'loss_of_appetite': 1, 'pain_behind_the_eyes': 1, 'runny_nose': 1, 'throat_irritation': 1, 'continuous_sneezing': 1, 'loss_of_smell': 1, 'redness_of_eyes': 1, 'joint_pain': 1, 'skin_rash': 1, 'nausea': 1, 'swelled_lymph_nodes': 1, 'sinus_pressure': 1, 'congestion': 1, 'red_spots_over_body': 1, 'vomiting': 1}\n",
      "Agent: {'intent': 'inform', 'inform_slots': {'Symptom': ['fatigue']}, 'request_slots': {}}\n",
      "Record found: 2\n",
      "==================================================\n",
      "Current slot: 7\n",
      "User: {'intent': 'request', 'request_slots': {'Disease': 'unk'}, 'inform_slots': {'Symptom': ['muscle_pain', 'chills', 'headache', 'high_fever', 'malaise', 'fatigue']}}\n",
      "vote appear {'malaise': 2, 'chills': 2, 'headache': 2, 'fatigue': 2, 'muscle_pain': 2, 'high_fever': 2, 'phlegm': 1, 'chest_pain': 1, 'cough': 1, 'back_pain': 1, 'loss_of_appetite': 1, 'pain_behind_the_eyes': 1, 'runny_nose': 1, 'throat_irritation': 1, 'continuous_sneezing': 1, 'loss_of_smell': 1, 'redness_of_eyes': 1, 'joint_pain': 1, 'skin_rash': 1, 'nausea': 1, 'swelled_lymph_nodes': 1, 'sinus_pressure': 1, 'congestion': 1, 'red_spots_over_body': 1, 'vomiting': 1}\n",
      "Agent: {'intent': 'inform', 'inform_slots': {'Symptom': ['phlegm']}, 'request_slots': {}}\n",
      "Record found: 2\n",
      "==================================================\n",
      "Current slot: 8\n",
      "User: {'intent': 'request', 'request_slots': {'Disease': 'unk'}, 'inform_slots': {'Symptom': ['muscle_pain', 'chills', 'headache', 'high_fever', 'malaise', 'fatigue', 'phlegm']}}\n",
      "Agent: {'intent': 'match_found', 'inform_slots': {'Disease': ['Common Cold']}, 'request_slots': {}}\n",
      "Record found: 1\n",
      "==================================================\n"
     ]
    }
   ],
   "source": [
    "dialogue_management(user_action,col_db,count,done)"
   ]
  }
 ],
 "metadata": {
  "kernelspec": {
   "display_name": "disease",
   "language": "python",
   "name": "disease"
  },
  "language_info": {
   "codemirror_mode": {
    "name": "ipython",
    "version": 3
   },
   "file_extension": ".py",
   "mimetype": "text/x-python",
   "name": "python",
   "nbconvert_exporter": "python",
   "pygments_lexer": "ipython3",
   "version": "3.6.13"
  }
 },
 "nbformat": 4,
 "nbformat_minor": 4
}
