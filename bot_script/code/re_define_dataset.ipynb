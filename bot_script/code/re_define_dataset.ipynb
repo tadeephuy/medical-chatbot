{
 "cells": [
  {
   "cell_type": "code",
   "execution_count": 1,
   "metadata": {},
   "outputs": [],
   "source": [
    "import pandas as pd"
   ]
  },
  {
   "cell_type": "code",
   "execution_count": 7,
   "metadata": {},
   "outputs": [
    {
     "data": {
      "text/html": [
       "<div>\n",
       "<style scoped>\n",
       "    .dataframe tbody tr th:only-of-type {\n",
       "        vertical-align: middle;\n",
       "    }\n",
       "\n",
       "    .dataframe tbody tr th {\n",
       "        vertical-align: top;\n",
       "    }\n",
       "\n",
       "    .dataframe thead th {\n",
       "        text-align: right;\n",
       "    }\n",
       "</style>\n",
       "<table border=\"1\" class=\"dataframe\">\n",
       "  <thead>\n",
       "    <tr style=\"text-align: right;\">\n",
       "      <th></th>\n",
       "      <th>_id</th>\n",
       "      <th>disease</th>\n",
       "      <th>overview</th>\n",
       "      <th>symptom</th>\n",
       "      <th>main_type</th>\n",
       "      <th>risk_factor</th>\n",
       "      <th>cause</th>\n",
       "      <th>severe</th>\n",
       "      <th>method_diagnosis</th>\n",
       "      <th>treatment</th>\n",
       "    </tr>\n",
       "  </thead>\n",
       "  <tbody>\n",
       "  </tbody>\n",
       "</table>\n",
       "</div>"
      ],
      "text/plain": [
       "Empty DataFrame\n",
       "Columns: [_id, disease, overview, symptom, main_type, risk_factor, cause, severe, method_diagnosis, treatment]\n",
       "Index: []"
      ]
     },
     "execution_count": 7,
     "metadata": {},
     "output_type": "execute_result"
    }
   ],
   "source": [
    "DF_PATTERN = pd.DataFrame(columns=['_id','disease','overview','symptom','main_type','risk_factor','cause','severe','method_diagnosis','treatment'])\n",
    "DF_PATTERN"
   ]
  },
  {
   "cell_type": "code",
   "execution_count": 8,
   "metadata": {},
   "outputs": [],
   "source": [
    "DF_PATTERN['_id'] = [0]\n",
    "DF_PATTERN['disease'] = ['thalass']\n",
    "DF_PATTERN['overview'] = [['Thalassemia is an inherited blood disorder']]\n",
    "DF_PATTERN['symptom'] = [['Fatigue','Weakness','Pale']]\n",
    "DF_PATTERN['main_type'] = [['alpha-thalass','beta-thalass']]\n",
    "DF_PATTERN['risk_factor'] = [['African Americans', 'people of Mediterranean']]\n",
    "DF_PATTERN['cause'] = [['from parent']]\n",
    "DF_PATTERN['severe'] = [['depend on type']]\n",
    "DF_PATTERN['method_diagnosis'] = [['blood testing']]\n",
    "DF_PATTERN['treatment'] = [['blood transfusions']]"
   ]
  },
  {
   "cell_type": "code",
   "execution_count": 9,
   "metadata": {},
   "outputs": [
    {
     "data": {
      "text/html": [
       "<div>\n",
       "<style scoped>\n",
       "    .dataframe tbody tr th:only-of-type {\n",
       "        vertical-align: middle;\n",
       "    }\n",
       "\n",
       "    .dataframe tbody tr th {\n",
       "        vertical-align: top;\n",
       "    }\n",
       "\n",
       "    .dataframe thead th {\n",
       "        text-align: right;\n",
       "    }\n",
       "</style>\n",
       "<table border=\"1\" class=\"dataframe\">\n",
       "  <thead>\n",
       "    <tr style=\"text-align: right;\">\n",
       "      <th></th>\n",
       "      <th>_id</th>\n",
       "      <th>disease</th>\n",
       "      <th>overview</th>\n",
       "      <th>symptom</th>\n",
       "      <th>main_type</th>\n",
       "      <th>risk_factor</th>\n",
       "      <th>cause</th>\n",
       "      <th>severe</th>\n",
       "      <th>method_diagnosis</th>\n",
       "      <th>treatment</th>\n",
       "    </tr>\n",
       "  </thead>\n",
       "  <tbody>\n",
       "    <tr>\n",
       "      <th>0</th>\n",
       "      <td>0</td>\n",
       "      <td>thalass</td>\n",
       "      <td>[Thalassemia is an inherited blood disorder]</td>\n",
       "      <td>[Fatigue, Weakness, Pale]</td>\n",
       "      <td>[alpha-thalass, beta-thalass]</td>\n",
       "      <td>[African Americans, people of Mediterranean]</td>\n",
       "      <td>[from parent]</td>\n",
       "      <td>[depend on type]</td>\n",
       "      <td>[blood testing]</td>\n",
       "      <td>[blood transfusions]</td>\n",
       "    </tr>\n",
       "  </tbody>\n",
       "</table>\n",
       "</div>"
      ],
      "text/plain": [
       "   _id  disease                                      overview  \\\n",
       "0    0  thalass  [Thalassemia is an inherited blood disorder]   \n",
       "\n",
       "                     symptom                      main_type  \\\n",
       "0  [Fatigue, Weakness, Pale]  [alpha-thalass, beta-thalass]   \n",
       "\n",
       "                                    risk_factor          cause  \\\n",
       "0  [African Americans, people of Mediterranean]  [from parent]   \n",
       "\n",
       "             severe method_diagnosis             treatment  \n",
       "0  [depend on type]  [blood testing]  [blood transfusions]  "
      ]
     },
     "execution_count": 9,
     "metadata": {},
     "output_type": "execute_result"
    }
   ],
   "source": [
    "DF_PATTERN"
   ]
  }
 ],
 "metadata": {
  "kernelspec": {
   "display_name": "disease",
   "language": "python",
   "name": "disease"
  },
  "language_info": {
   "codemirror_mode": {
    "name": "ipython",
    "version": 3
   },
   "file_extension": ".py",
   "mimetype": "text/x-python",
   "name": "python",
   "nbconvert_exporter": "python",
   "pygments_lexer": "ipython3",
   "version": "3.6.13"
  }
 },
 "nbformat": 4,
 "nbformat_minor": 4
}
