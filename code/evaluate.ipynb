{
 "cells": [
  {
   "cell_type": "code",
   "execution_count": 1,
   "metadata": {},
   "outputs": [],
   "source": [
    "from intent_matching import matching\n",
    "import pandas as pd\n",
    "import os\n",
    "import json\n",
    "import numpy as np\n",
    "from tqdm import tqdm"
   ]
  },
  {
   "cell_type": "code",
   "execution_count": 2,
   "metadata": {},
   "outputs": [],
   "source": [
    "_PATH_DATA = '../data'\n",
    "_PATH_TEST_B = os.path.join(_PATH_DATA,'test_b.csv')\n",
    "_PATH_TEST_A = os.path.join(_PATH_DATA,'test_a.csv')\n",
    "_PATH_INTENT = os.path.join(_PATH_DATA,'intent.json')"
   ]
  },
  {
   "cell_type": "code",
   "execution_count": 3,
   "metadata": {},
   "outputs": [
    {
     "data": {
      "text/plain": [
       "dict_keys(['overview', 'symptoms', 'main_type', 'risk_factor', 'severe', 'prevention', 'diag', 'treatment'])"
      ]
     },
     "execution_count": 3,
     "metadata": {},
     "output_type": "execute_result"
    }
   ],
   "source": [
    "dict_intent = json.load(open(_PATH_INTENT,'r'))\n",
    "dict_intent.keys()"
   ]
  },
  {
   "cell_type": "code",
   "execution_count": 4,
   "metadata": {},
   "outputs": [
    {
     "data": {
      "text/html": [
       "<div>\n",
       "<style scoped>\n",
       "    .dataframe tbody tr th:only-of-type {\n",
       "        vertical-align: middle;\n",
       "    }\n",
       "\n",
       "    .dataframe tbody tr th {\n",
       "        vertical-align: top;\n",
       "    }\n",
       "\n",
       "    .dataframe thead th {\n",
       "        text-align: right;\n",
       "    }\n",
       "</style>\n",
       "<table border=\"1\" class=\"dataframe\">\n",
       "  <thead>\n",
       "    <tr style=\"text-align: right;\">\n",
       "      <th></th>\n",
       "      <th>question</th>\n",
       "      <th>intent</th>\n",
       "      <th>annotate</th>\n",
       "    </tr>\n",
       "  </thead>\n",
       "  <tbody>\n",
       "    <tr>\n",
       "      <th>0</th>\n",
       "      <td>Chào bác sĩ ạ, gần đây em có đọc được một thôn...</td>\n",
       "      <td>overview</td>\n",
       "      <td>không nên truyền máu nếu có quan hệ huyết thốn...</td>\n",
       "    </tr>\n",
       "    <tr>\n",
       "      <th>1</th>\n",
       "      <td>Thưa bác sĩ, gần đây trên mạng xã hội có truyề...</td>\n",
       "      <td>overview</td>\n",
       "      <td>Vậy bác sĩ cho tôi hỏi nên ăn hoa quả trước ha...</td>\n",
       "    </tr>\n",
       "    <tr>\n",
       "      <th>2</th>\n",
       "      <td>Thưa Bác sỹ, theo tôi được biết hiện tại đang ...</td>\n",
       "      <td>symptom, treatment</td>\n",
       "      <td>Vậy Bác sỹ có thể cho tôi biết các dấu hiệu củ...</td>\n",
       "    </tr>\n",
       "    <tr>\n",
       "      <th>3</th>\n",
       "      <td>Thưa bác sĩ, thời tiết đang chuyển sang mù...</td>\n",
       "      <td>risk_factor, symptom</td>\n",
       "      <td>Vào mùa này, trẻ thường dễ mắc những bện...</td>\n",
       "    </tr>\n",
       "    <tr>\n",
       "      <th>4</th>\n",
       "      <td>Cho E xin tư vấn về vi rút HPV, và có thể điều...</td>\n",
       "      <td>overview, treatment</td>\n",
       "      <td>Cho E xin tư vấn về vi rút HPV, và có thể điều...</td>\n",
       "    </tr>\n",
       "  </tbody>\n",
       "</table>\n",
       "</div>"
      ],
      "text/plain": [
       "                                            question                intent  \\\n",
       "0  Chào bác sĩ ạ, gần đây em có đọc được một thôn...              overview   \n",
       "1  Thưa bác sĩ, gần đây trên mạng xã hội có truyề...              overview   \n",
       "2  Thưa Bác sỹ, theo tôi được biết hiện tại đang ...    symptom, treatment   \n",
       "3  Thưa bác sĩ, thời tiết đang chuyển sang mù...  risk_factor, symptom   \n",
       "4  Cho E xin tư vấn về vi rút HPV, và có thể điều...   overview, treatment   \n",
       "\n",
       "                                            annotate  \n",
       "0  không nên truyền máu nếu có quan hệ huyết thốn...  \n",
       "1  Vậy bác sĩ cho tôi hỏi nên ăn hoa quả trước ha...  \n",
       "2  Vậy Bác sỹ có thể cho tôi biết các dấu hiệu củ...  \n",
       "3   Vào mùa này, trẻ thường dễ mắc những bện...  \n",
       "4  Cho E xin tư vấn về vi rút HPV, và có thể điều...  "
      ]
     },
     "execution_count": 4,
     "metadata": {},
     "output_type": "execute_result"
    }
   ],
   "source": [
    "df_test = pd.read_csv(_PATH_TEST_B)\n",
    "df_test.head()"
   ]
  },
  {
   "cell_type": "code",
   "execution_count": 5,
   "metadata": {},
   "outputs": [],
   "source": [
    "def intersection(lst1, lst2):\n",
    "    lst3 = [value for value in lst1 if value in lst2]\n",
    "    return lst3"
   ]
  },
  {
   "cell_type": "code",
   "execution_count": 6,
   "metadata": {},
   "outputs": [],
   "source": [
    "dict_invest = {}\n",
    "## init dict_invest\n",
    "for k in list(dict_intent.keys()):\n",
    "    dict_invest[k] = 0\n"
   ]
  },
  {
   "cell_type": "code",
   "execution_count": 29,
   "metadata": {},
   "outputs": [
    {
     "name": "stderr",
     "output_type": "stream",
     "text": [
      "100%|██████████| 236/236 [00:07<00:00, 30.25it/s]\n"
     ]
    }
   ],
   "source": [
    "list_sentence = list(df_test['annotate'])\n",
    "list_label = list(df_test['intent'])\n",
    "list_label = [item.split(',') for item in list_label]\n",
    "list_matching = []\n",
    "count = 0\n",
    "list_investigate = []\n",
    "list_precision = []\n",
    "for idx, sent in tqdm(enumerate(list_sentence), total = len(list_sentence)):\n",
    "#     try:\n",
    "    dict_matching = matching(str(sent))\n",
    "    list_res_match = dict_matching['intent']\n",
    "    list_investigate.append(dict_matching)\n",
    "    res_match = [item[0] for item in list_res_match]\n",
    "#         print('res_match',res_match)\n",
    "#         list_matching.append(res_match)\n",
    "\n",
    "    list_labeling = [l.replace(':','') for l in list_label[idx]]\n",
    "#         print('label',list_labeling)\n",
    "\n",
    "    ## fetch intersection\n",
    "\n",
    "    intersect = intersection(res_match,list_labeling)\n",
    "    \n",
    "    ## define TP,FP,FN\n",
    "    TP = len(intersect)\n",
    "    FP = len(list(set(res_match) - set(list_labeling)))\n",
    "    if TP+FP != 0:\n",
    "        precision = TP/(TP+FP)\n",
    "        list_precision.append(precision)\n",
    "    else:\n",
    "        list_precision.append(0)\n",
    "#     FN = \n",
    "#         print('intersect',intersect)\n",
    "    for i in intersect:\n",
    "        dict_invest[i] += 1\n",
    "    if intersect:\n",
    "#             print('##'*50)\n",
    "        count += 1\n",
    "#     except Exception as e:\n",
    "#         print(str(e))"
   ]
  },
  {
   "cell_type": "code",
   "execution_count": 30,
   "metadata": {},
   "outputs": [
    {
     "data": {
      "text/html": [
       "<div>\n",
       "<style scoped>\n",
       "    .dataframe tbody tr th:only-of-type {\n",
       "        vertical-align: middle;\n",
       "    }\n",
       "\n",
       "    .dataframe tbody tr th {\n",
       "        vertical-align: top;\n",
       "    }\n",
       "\n",
       "    .dataframe thead th {\n",
       "        text-align: right;\n",
       "    }\n",
       "</style>\n",
       "<table border=\"1\" class=\"dataframe\">\n",
       "  <thead>\n",
       "    <tr style=\"text-align: right;\">\n",
       "      <th></th>\n",
       "      <th>message</th>\n",
       "      <th>intent</th>\n",
       "      <th>token</th>\n",
       "    </tr>\n",
       "  </thead>\n",
       "  <tbody>\n",
       "    <tr>\n",
       "      <th>0</th>\n",
       "      <td>không nên truyền máu nếu có quan hệ huyết thốn...</td>\n",
       "      <td>[(overview, 1.0), (prevention, 1.0)]</td>\n",
       "      <td>[thông tin, né]</td>\n",
       "    </tr>\n",
       "    <tr>\n",
       "      <th>1</th>\n",
       "      <td>Vậy bác sĩ cho tôi hỏi nên ăn hoa quả trước ha...</td>\n",
       "      <td>[(prevention, 1.0)]</td>\n",
       "      <td>[né]</td>\n",
       "    </tr>\n",
       "    <tr>\n",
       "      <th>2</th>\n",
       "      <td>Vậy Bác sỹ có thể cho tôi biết các dấu hiệu củ...</td>\n",
       "      <td>[(symptoms, 1.0), (treatment, 1.0)]</td>\n",
       "      <td>[dấu hiệu, điều trị]</td>\n",
       "    </tr>\n",
       "    <tr>\n",
       "      <th>3</th>\n",
       "      <td>Vào mùa này, trẻ thường dễ mắc những bện...</td>\n",
       "      <td>[(symptoms, 1.0), (risk_factor, 1.0)]</td>\n",
       "      <td>[biểu hiện, dễ mắc]</td>\n",
       "    </tr>\n",
       "    <tr>\n",
       "      <th>4</th>\n",
       "      <td>Cho E xin tư vấn về vi rút HPV, và có thể điều...</td>\n",
       "      <td>[(treatment, 1.0)]</td>\n",
       "      <td>[điều trị]</td>\n",
       "    </tr>\n",
       "    <tr>\n",
       "      <th>...</th>\n",
       "      <td>...</td>\n",
       "      <td>...</td>\n",
       "      <td>...</td>\n",
       "    </tr>\n",
       "    <tr>\n",
       "      <th>231</th>\n",
       "      <td>Chào TS! Bệnh về tiền liệt tuyến kiểm tra có d...</td>\n",
       "      <td>[(diag, 1.0), (treatment, 1.0)]</td>\n",
       "      <td>[kiểm tra, điều trị]</td>\n",
       "    </tr>\n",
       "    <tr>\n",
       "      <th>232</th>\n",
       "      <td>Nghe nhiều người nói cần chế độ kiêng khen rất...</td>\n",
       "      <td>[(prevention, 1.0)]</td>\n",
       "      <td>[phòng tránh]</td>\n",
       "    </tr>\n",
       "    <tr>\n",
       "      <th>233</th>\n",
       "      <td>Kính thưa Bác sỹ Tôi mới được các bác sỹ chẩn ...</td>\n",
       "      <td>[(diag, 1.0)]</td>\n",
       "      <td>[chẩn đoán]</td>\n",
       "    </tr>\n",
       "    <tr>\n",
       "      <th>234</th>\n",
       "      <td>Tôi bị bệnh tăng huyết áp nhiều năm nay, xin h...</td>\n",
       "      <td>[]</td>\n",
       "      <td>[]</td>\n",
       "    </tr>\n",
       "    <tr>\n",
       "      <th>235</th>\n",
       "      <td>Tôi bị bệnh tăng huyết áp nhiều năm nay, xin h...</td>\n",
       "      <td>[]</td>\n",
       "      <td>[]</td>\n",
       "    </tr>\n",
       "  </tbody>\n",
       "</table>\n",
       "<p>236 rows × 3 columns</p>\n",
       "</div>"
      ],
      "text/plain": [
       "                                               message  \\\n",
       "0    không nên truyền máu nếu có quan hệ huyết thốn...   \n",
       "1    Vậy bác sĩ cho tôi hỏi nên ăn hoa quả trước ha...   \n",
       "2    Vậy Bác sỹ có thể cho tôi biết các dấu hiệu củ...   \n",
       "3     Vào mùa này, trẻ thường dễ mắc những bện...   \n",
       "4    Cho E xin tư vấn về vi rút HPV, và có thể điều...   \n",
       "..                                                 ...   \n",
       "231  Chào TS! Bệnh về tiền liệt tuyến kiểm tra có d...   \n",
       "232  Nghe nhiều người nói cần chế độ kiêng khen rất...   \n",
       "233  Kính thưa Bác sỹ Tôi mới được các bác sỹ chẩn ...   \n",
       "234  Tôi bị bệnh tăng huyết áp nhiều năm nay, xin h...   \n",
       "235  Tôi bị bệnh tăng huyết áp nhiều năm nay, xin h...   \n",
       "\n",
       "                                    intent                 token  \n",
       "0     [(overview, 1.0), (prevention, 1.0)]       [thông tin, né]  \n",
       "1                      [(prevention, 1.0)]                  [né]  \n",
       "2      [(symptoms, 1.0), (treatment, 1.0)]  [dấu hiệu, điều trị]  \n",
       "3    [(symptoms, 1.0), (risk_factor, 1.0)]   [biểu hiện, dễ mắc]  \n",
       "4                       [(treatment, 1.0)]            [điều trị]  \n",
       "..                                     ...                   ...  \n",
       "231        [(diag, 1.0), (treatment, 1.0)]  [kiểm tra, điều trị]  \n",
       "232                    [(prevention, 1.0)]         [phòng tránh]  \n",
       "233                          [(diag, 1.0)]           [chẩn đoán]  \n",
       "234                                     []                    []  \n",
       "235                                     []                    []  \n",
       "\n",
       "[236 rows x 3 columns]"
      ]
     },
     "execution_count": 30,
     "metadata": {},
     "output_type": "execute_result"
    }
   ],
   "source": [
    "df_investigate = pd.DataFrame(list_investigate)\n",
    "df_investigate"
   ]
  },
  {
   "cell_type": "code",
   "execution_count": 26,
   "metadata": {},
   "outputs": [
    {
     "ename": "ValueError",
     "evalue": "Length of values (122) does not match length of index (236)",
     "output_type": "error",
     "traceback": [
      "\u001b[0;31m---------------------------------------------------------------------------\u001b[0m",
      "\u001b[0;31mValueError\u001b[0m                                Traceback (most recent call last)",
      "\u001b[0;32m<ipython-input-26-c90d9da10dac>\u001b[0m in \u001b[0;36m<module>\u001b[0;34m\u001b[0m\n\u001b[1;32m      1\u001b[0m \u001b[0mdf_investigate\u001b[0m\u001b[0;34m[\u001b[0m\u001b[0;34m'true_intent'\u001b[0m\u001b[0;34m]\u001b[0m \u001b[0;34m=\u001b[0m \u001b[0mlist_label\u001b[0m\u001b[0;34m\u001b[0m\u001b[0;34m\u001b[0m\u001b[0m\n\u001b[0;32m----> 2\u001b[0;31m \u001b[0mdf_investigate\u001b[0m\u001b[0;34m[\u001b[0m\u001b[0;34m'precision'\u001b[0m\u001b[0;34m]\u001b[0m \u001b[0;34m=\u001b[0m \u001b[0mlist_precision\u001b[0m\u001b[0;34m\u001b[0m\u001b[0;34m\u001b[0m\u001b[0m\n\u001b[0m",
      "\u001b[0;32m~/anaconda3/envs/thesis/lib/python3.6/site-packages/pandas/core/frame.py\u001b[0m in \u001b[0;36m__setitem__\u001b[0;34m(self, key, value)\u001b[0m\n\u001b[1;32m   3042\u001b[0m         \u001b[0;32melse\u001b[0m\u001b[0;34m:\u001b[0m\u001b[0;34m\u001b[0m\u001b[0;34m\u001b[0m\u001b[0m\n\u001b[1;32m   3043\u001b[0m             \u001b[0;31m# set column\u001b[0m\u001b[0;34m\u001b[0m\u001b[0;34m\u001b[0m\u001b[0;34m\u001b[0m\u001b[0m\n\u001b[0;32m-> 3044\u001b[0;31m             \u001b[0mself\u001b[0m\u001b[0;34m.\u001b[0m\u001b[0m_set_item\u001b[0m\u001b[0;34m(\u001b[0m\u001b[0mkey\u001b[0m\u001b[0;34m,\u001b[0m \u001b[0mvalue\u001b[0m\u001b[0;34m)\u001b[0m\u001b[0;34m\u001b[0m\u001b[0;34m\u001b[0m\u001b[0m\n\u001b[0m\u001b[1;32m   3045\u001b[0m \u001b[0;34m\u001b[0m\u001b[0m\n\u001b[1;32m   3046\u001b[0m     \u001b[0;32mdef\u001b[0m \u001b[0m_setitem_slice\u001b[0m\u001b[0;34m(\u001b[0m\u001b[0mself\u001b[0m\u001b[0;34m,\u001b[0m \u001b[0mkey\u001b[0m\u001b[0;34m:\u001b[0m \u001b[0mslice\u001b[0m\u001b[0;34m,\u001b[0m \u001b[0mvalue\u001b[0m\u001b[0;34m)\u001b[0m\u001b[0;34m:\u001b[0m\u001b[0;34m\u001b[0m\u001b[0;34m\u001b[0m\u001b[0m\n",
      "\u001b[0;32m~/anaconda3/envs/thesis/lib/python3.6/site-packages/pandas/core/frame.py\u001b[0m in \u001b[0;36m_set_item\u001b[0;34m(self, key, value)\u001b[0m\n\u001b[1;32m   3118\u001b[0m         \"\"\"\n\u001b[1;32m   3119\u001b[0m         \u001b[0mself\u001b[0m\u001b[0;34m.\u001b[0m\u001b[0m_ensure_valid_index\u001b[0m\u001b[0;34m(\u001b[0m\u001b[0mvalue\u001b[0m\u001b[0;34m)\u001b[0m\u001b[0;34m\u001b[0m\u001b[0;34m\u001b[0m\u001b[0m\n\u001b[0;32m-> 3120\u001b[0;31m         \u001b[0mvalue\u001b[0m \u001b[0;34m=\u001b[0m \u001b[0mself\u001b[0m\u001b[0;34m.\u001b[0m\u001b[0m_sanitize_column\u001b[0m\u001b[0;34m(\u001b[0m\u001b[0mkey\u001b[0m\u001b[0;34m,\u001b[0m \u001b[0mvalue\u001b[0m\u001b[0;34m)\u001b[0m\u001b[0;34m\u001b[0m\u001b[0;34m\u001b[0m\u001b[0m\n\u001b[0m\u001b[1;32m   3121\u001b[0m         \u001b[0mNDFrame\u001b[0m\u001b[0;34m.\u001b[0m\u001b[0m_set_item\u001b[0m\u001b[0;34m(\u001b[0m\u001b[0mself\u001b[0m\u001b[0;34m,\u001b[0m \u001b[0mkey\u001b[0m\u001b[0;34m,\u001b[0m \u001b[0mvalue\u001b[0m\u001b[0;34m)\u001b[0m\u001b[0;34m\u001b[0m\u001b[0;34m\u001b[0m\u001b[0m\n\u001b[1;32m   3122\u001b[0m \u001b[0;34m\u001b[0m\u001b[0m\n",
      "\u001b[0;32m~/anaconda3/envs/thesis/lib/python3.6/site-packages/pandas/core/frame.py\u001b[0m in \u001b[0;36m_sanitize_column\u001b[0;34m(self, key, value, broadcast)\u001b[0m\n\u001b[1;32m   3766\u001b[0m \u001b[0;34m\u001b[0m\u001b[0m\n\u001b[1;32m   3767\u001b[0m             \u001b[0;31m# turn me into an ndarray\u001b[0m\u001b[0;34m\u001b[0m\u001b[0;34m\u001b[0m\u001b[0;34m\u001b[0m\u001b[0m\n\u001b[0;32m-> 3768\u001b[0;31m             \u001b[0mvalue\u001b[0m \u001b[0;34m=\u001b[0m \u001b[0msanitize_index\u001b[0m\u001b[0;34m(\u001b[0m\u001b[0mvalue\u001b[0m\u001b[0;34m,\u001b[0m \u001b[0mself\u001b[0m\u001b[0;34m.\u001b[0m\u001b[0mindex\u001b[0m\u001b[0;34m)\u001b[0m\u001b[0;34m\u001b[0m\u001b[0;34m\u001b[0m\u001b[0m\n\u001b[0m\u001b[1;32m   3769\u001b[0m             \u001b[0;32mif\u001b[0m \u001b[0;32mnot\u001b[0m \u001b[0misinstance\u001b[0m\u001b[0;34m(\u001b[0m\u001b[0mvalue\u001b[0m\u001b[0;34m,\u001b[0m \u001b[0;34m(\u001b[0m\u001b[0mnp\u001b[0m\u001b[0;34m.\u001b[0m\u001b[0mndarray\u001b[0m\u001b[0;34m,\u001b[0m \u001b[0mIndex\u001b[0m\u001b[0;34m)\u001b[0m\u001b[0;34m)\u001b[0m\u001b[0;34m:\u001b[0m\u001b[0;34m\u001b[0m\u001b[0;34m\u001b[0m\u001b[0m\n\u001b[1;32m   3770\u001b[0m                 \u001b[0;32mif\u001b[0m \u001b[0misinstance\u001b[0m\u001b[0;34m(\u001b[0m\u001b[0mvalue\u001b[0m\u001b[0;34m,\u001b[0m \u001b[0mlist\u001b[0m\u001b[0;34m)\u001b[0m \u001b[0;32mand\u001b[0m \u001b[0mlen\u001b[0m\u001b[0;34m(\u001b[0m\u001b[0mvalue\u001b[0m\u001b[0;34m)\u001b[0m \u001b[0;34m>\u001b[0m \u001b[0;36m0\u001b[0m\u001b[0;34m:\u001b[0m\u001b[0;34m\u001b[0m\u001b[0;34m\u001b[0m\u001b[0m\n",
      "\u001b[0;32m~/anaconda3/envs/thesis/lib/python3.6/site-packages/pandas/core/internals/construction.py\u001b[0m in \u001b[0;36msanitize_index\u001b[0;34m(data, index)\u001b[0m\n\u001b[1;32m    746\u001b[0m     \u001b[0;32mif\u001b[0m \u001b[0mlen\u001b[0m\u001b[0;34m(\u001b[0m\u001b[0mdata\u001b[0m\u001b[0;34m)\u001b[0m \u001b[0;34m!=\u001b[0m \u001b[0mlen\u001b[0m\u001b[0;34m(\u001b[0m\u001b[0mindex\u001b[0m\u001b[0;34m)\u001b[0m\u001b[0;34m:\u001b[0m\u001b[0;34m\u001b[0m\u001b[0;34m\u001b[0m\u001b[0m\n\u001b[1;32m    747\u001b[0m         raise ValueError(\n\u001b[0;32m--> 748\u001b[0;31m             \u001b[0;34m\"Length of values \"\u001b[0m\u001b[0;34m\u001b[0m\u001b[0;34m\u001b[0m\u001b[0m\n\u001b[0m\u001b[1;32m    749\u001b[0m             \u001b[0;34mf\"({len(data)}) \"\u001b[0m\u001b[0;34m\u001b[0m\u001b[0;34m\u001b[0m\u001b[0m\n\u001b[1;32m    750\u001b[0m             \u001b[0;34m\"does not match length of index \"\u001b[0m\u001b[0;34m\u001b[0m\u001b[0;34m\u001b[0m\u001b[0m\n",
      "\u001b[0;31mValueError\u001b[0m: Length of values (122) does not match length of index (236)"
     ]
    }
   ],
   "source": [
    "df_investigate['true_intent'] = list_label\n",
    "df_investigate['precision'] = list_precision"
   ]
  },
  {
   "cell_type": "code",
   "execution_count": 24,
   "metadata": {},
   "outputs": [],
   "source": [
    "# df_investigate"
   ]
  },
  {
   "cell_type": "code",
   "execution_count": 25,
   "metadata": {},
   "outputs": [],
   "source": [
    "df_investigate.to_csv(os.path.join(_PATH_DATA,'test_b_investigate.csv'),header=True,index=False)"
   ]
  },
  {
   "cell_type": "code",
   "execution_count": 9,
   "metadata": {},
   "outputs": [
    {
     "data": {
      "text/plain": [
       "0.5122950819672131"
      ]
     },
     "execution_count": 9,
     "metadata": {},
     "output_type": "execute_result"
    }
   ],
   "source": [
    "np.mean(list_precision)"
   ]
  },
  {
   "cell_type": "code",
   "execution_count": 12,
   "metadata": {},
   "outputs": [],
   "source": [
    "list_label_flat = sum(list_label, [])\n",
    "# list_label_flat"
   ]
  },
  {
   "cell_type": "code",
   "execution_count": 13,
   "metadata": {},
   "outputs": [],
   "source": [
    "dict_invest_label = {}\n",
    "for item in list(dict_intent.keys()):\n",
    "    dict_invest_label[item] = list_label_flat.count(item)"
   ]
  },
  {
   "cell_type": "code",
   "execution_count": 14,
   "metadata": {},
   "outputs": [
    {
     "data": {
      "text/plain": [
       "{'overview': 3,\n",
       " 'symptoms': 1,\n",
       " 'main_type': 0,\n",
       " 'risk_factor': 1,\n",
       " 'severe': 3,\n",
       " 'prevention': 4,\n",
       " 'diag': 0,\n",
       " 'treatment': 61}"
      ]
     },
     "execution_count": 14,
     "metadata": {},
     "output_type": "execute_result"
    }
   ],
   "source": [
    "dict_invest"
   ]
  },
  {
   "cell_type": "code",
   "execution_count": 15,
   "metadata": {},
   "outputs": [
    {
     "data": {
      "text/plain": [
       "{'overview': 73,\n",
       " 'symptoms': 1,\n",
       " 'main_type': 2,\n",
       " 'risk_factor': 3,\n",
       " 'severe': 3,\n",
       " 'prevention': 5,\n",
       " 'diag': 1,\n",
       " 'treatment': 142}"
      ]
     },
     "execution_count": 15,
     "metadata": {},
     "output_type": "execute_result"
    }
   ],
   "source": [
    "dict_invest_label"
   ]
  },
  {
   "cell_type": "code",
   "execution_count": 16,
   "metadata": {},
   "outputs": [],
   "source": [
    "list_performance = []\n",
    "for item in list(dict_intent.keys()):\n",
    "    dict_performance = {}\n",
    "    dict_performance['class'] = item\n",
    "    if dict_invest_label[item] != 0:\n",
    "        dict_performance['precision'] = dict_invest[item]/dict_invest_label[item]\n",
    "#     else:\n",
    "#         dict_performance['precision'] = 0\n",
    "        dict_performance['support'] = dict_invest_label[item]\n",
    "        list_performance.append(dict_performance)"
   ]
  },
  {
   "cell_type": "code",
   "execution_count": 17,
   "metadata": {},
   "outputs": [],
   "source": [
    "df_invest = pd.DataFrame(list_performance)"
   ]
  },
  {
   "cell_type": "code",
   "execution_count": 18,
   "metadata": {},
   "outputs": [
    {
     "data": {
      "text/html": [
       "<div>\n",
       "<style scoped>\n",
       "    .dataframe tbody tr th:only-of-type {\n",
       "        vertical-align: middle;\n",
       "    }\n",
       "\n",
       "    .dataframe tbody tr th {\n",
       "        vertical-align: top;\n",
       "    }\n",
       "\n",
       "    .dataframe thead th {\n",
       "        text-align: right;\n",
       "    }\n",
       "</style>\n",
       "<table border=\"1\" class=\"dataframe\">\n",
       "  <thead>\n",
       "    <tr style=\"text-align: right;\">\n",
       "      <th></th>\n",
       "      <th>class</th>\n",
       "      <th>precision</th>\n",
       "      <th>support</th>\n",
       "    </tr>\n",
       "  </thead>\n",
       "  <tbody>\n",
       "    <tr>\n",
       "      <th>0</th>\n",
       "      <td>overview</td>\n",
       "      <td>0.041096</td>\n",
       "      <td>73</td>\n",
       "    </tr>\n",
       "    <tr>\n",
       "      <th>1</th>\n",
       "      <td>symptoms</td>\n",
       "      <td>1.000000</td>\n",
       "      <td>1</td>\n",
       "    </tr>\n",
       "    <tr>\n",
       "      <th>2</th>\n",
       "      <td>main_type</td>\n",
       "      <td>0.000000</td>\n",
       "      <td>2</td>\n",
       "    </tr>\n",
       "    <tr>\n",
       "      <th>3</th>\n",
       "      <td>risk_factor</td>\n",
       "      <td>0.333333</td>\n",
       "      <td>3</td>\n",
       "    </tr>\n",
       "    <tr>\n",
       "      <th>4</th>\n",
       "      <td>severe</td>\n",
       "      <td>1.000000</td>\n",
       "      <td>3</td>\n",
       "    </tr>\n",
       "    <tr>\n",
       "      <th>5</th>\n",
       "      <td>prevention</td>\n",
       "      <td>0.800000</td>\n",
       "      <td>5</td>\n",
       "    </tr>\n",
       "    <tr>\n",
       "      <th>6</th>\n",
       "      <td>diag</td>\n",
       "      <td>0.000000</td>\n",
       "      <td>1</td>\n",
       "    </tr>\n",
       "    <tr>\n",
       "      <th>7</th>\n",
       "      <td>treatment</td>\n",
       "      <td>0.429577</td>\n",
       "      <td>142</td>\n",
       "    </tr>\n",
       "  </tbody>\n",
       "</table>\n",
       "</div>"
      ],
      "text/plain": [
       "         class  precision  support\n",
       "0     overview   0.041096       73\n",
       "1     symptoms   1.000000        1\n",
       "2    main_type   0.000000        2\n",
       "3  risk_factor   0.333333        3\n",
       "4       severe   1.000000        3\n",
       "5   prevention   0.800000        5\n",
       "6         diag   0.000000        1\n",
       "7    treatment   0.429577      142"
      ]
     },
     "execution_count": 18,
     "metadata": {},
     "output_type": "execute_result"
    }
   ],
   "source": [
    "df_invest"
   ]
  },
  {
   "cell_type": "code",
   "execution_count": 19,
   "metadata": {},
   "outputs": [
    {
     "data": {
      "text/plain": [
       "0.45050083606662805"
      ]
     },
     "execution_count": 19,
     "metadata": {},
     "output_type": "execute_result"
    }
   ],
   "source": [
    "np.mean(list(df_invest['precision']))"
   ]
  },
  {
   "cell_type": "code",
   "execution_count": 20,
   "metadata": {},
   "outputs": [],
   "source": [
    "# count/len(df_test)"
   ]
  }
 ],
 "metadata": {
  "kernelspec": {
   "display_name": "thesis",
   "language": "python",
   "name": "thesis"
  },
  "language_info": {
   "codemirror_mode": {
    "name": "ipython",
    "version": 3
   },
   "file_extension": ".py",
   "mimetype": "text/x-python",
   "name": "python",
   "nbconvert_exporter": "python",
   "pygments_lexer": "ipython3",
   "version": "3.6.13"
  }
 },
 "nbformat": 4,
 "nbformat_minor": 4
}
