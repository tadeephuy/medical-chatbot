{
 "cells": [
  {
   "cell_type": "code",
   "execution_count": 1,
   "metadata": {},
   "outputs": [],
   "source": [
    "import itertools\n",
    "from map_fsm import map_order_entity\n",
    "import pandas as pd"
   ]
  },
  {
   "cell_type": "code",
   "execution_count": 2,
   "metadata": {},
   "outputs": [],
   "source": [
    "\n",
    "list_define_target = []\n",
    "\n",
    "for key in list(map_order_entity.keys()):\n",
    "\n",
    "    if key != 'all_slot':\n",
    "\n",
    "        list_slot = map_order_entity[key]\n",
    "        list_permute = list(itertools.permutations(list_slot))\n",
    "        list_permute_fix = [['initial',key] + list(item) for item in list_permute]\n",
    "        \n",
    "        for sublist_permute in list_permute_fix:\n",
    "            \n",
    "            for idx, slot in enumerate(sublist_permute):\n",
    "                dict_target = {}\n",
    "                if idx < len(sublist_permute) - 2:\n",
    "                    dict_target['request'] = key\n",
    "                    dict_target['input'] = sublist_permute[idx:idx+2]\n",
    "                    dict_target['target'] = sublist_permute[idx+2]\n",
    "\n",
    "                    if dict_target not in list_define_target:\n",
    "                        list_define_target.append(dict_target)"
   ]
  },
  {
   "cell_type": "code",
   "execution_count": 3,
   "metadata": {},
   "outputs": [
    {
     "data": {
      "text/html": [
       "<div>\n",
       "<style scoped>\n",
       "    .dataframe tbody tr th:only-of-type {\n",
       "        vertical-align: middle;\n",
       "    }\n",
       "\n",
       "    .dataframe tbody tr th {\n",
       "        vertical-align: top;\n",
       "    }\n",
       "\n",
       "    .dataframe thead th {\n",
       "        text-align: right;\n",
       "    }\n",
       "</style>\n",
       "<table border=\"1\" class=\"dataframe\">\n",
       "  <thead>\n",
       "    <tr style=\"text-align: right;\">\n",
       "      <th></th>\n",
       "      <th>request</th>\n",
       "      <th>input</th>\n",
       "      <th>target</th>\n",
       "    </tr>\n",
       "  </thead>\n",
       "  <tbody>\n",
       "    <tr>\n",
       "      <th>0</th>\n",
       "      <td>major_name</td>\n",
       "      <td>[initial, major_name]</td>\n",
       "      <td>point</td>\n",
       "    </tr>\n",
       "    <tr>\n",
       "      <th>1</th>\n",
       "      <td>major_name</td>\n",
       "      <td>[major_name, point]</td>\n",
       "      <td>subject_group</td>\n",
       "    </tr>\n",
       "    <tr>\n",
       "      <th>2</th>\n",
       "      <td>major_name</td>\n",
       "      <td>[initial, major_name]</td>\n",
       "      <td>subject_group</td>\n",
       "    </tr>\n",
       "    <tr>\n",
       "      <th>3</th>\n",
       "      <td>major_name</td>\n",
       "      <td>[major_name, subject_group]</td>\n",
       "      <td>point</td>\n",
       "    </tr>\n",
       "    <tr>\n",
       "      <th>4</th>\n",
       "      <td>major_code</td>\n",
       "      <td>[initial, major_code]</td>\n",
       "      <td>major_name</td>\n",
       "    </tr>\n",
       "    <tr>\n",
       "      <th>...</th>\n",
       "      <td>...</td>\n",
       "      <td>...</td>\n",
       "      <td>...</td>\n",
       "    </tr>\n",
       "    <tr>\n",
       "      <th>174</th>\n",
       "      <td>case</td>\n",
       "      <td>[initial, case]</td>\n",
       "      <td>major_name</td>\n",
       "    </tr>\n",
       "    <tr>\n",
       "      <th>175</th>\n",
       "      <td>case</td>\n",
       "      <td>[case, major_name]</td>\n",
       "      <td>type_edu</td>\n",
       "    </tr>\n",
       "    <tr>\n",
       "      <th>176</th>\n",
       "      <td>case</td>\n",
       "      <td>[initial, case]</td>\n",
       "      <td>type_edu</td>\n",
       "    </tr>\n",
       "    <tr>\n",
       "      <th>177</th>\n",
       "      <td>case</td>\n",
       "      <td>[case, type_edu]</td>\n",
       "      <td>major_name</td>\n",
       "    </tr>\n",
       "    <tr>\n",
       "      <th>178</th>\n",
       "      <td>career</td>\n",
       "      <td>[initial, career]</td>\n",
       "      <td>major_name</td>\n",
       "    </tr>\n",
       "  </tbody>\n",
       "</table>\n",
       "<p>179 rows × 3 columns</p>\n",
       "</div>"
      ],
      "text/plain": [
       "        request                        input         target\n",
       "0    major_name        [initial, major_name]          point\n",
       "1    major_name          [major_name, point]  subject_group\n",
       "2    major_name        [initial, major_name]  subject_group\n",
       "3    major_name  [major_name, subject_group]          point\n",
       "4    major_code        [initial, major_code]     major_name\n",
       "..          ...                          ...            ...\n",
       "174        case              [initial, case]     major_name\n",
       "175        case           [case, major_name]       type_edu\n",
       "176        case              [initial, case]       type_edu\n",
       "177        case             [case, type_edu]     major_name\n",
       "178      career            [initial, career]     major_name\n",
       "\n",
       "[179 rows x 3 columns]"
      ]
     },
     "execution_count": 3,
     "metadata": {},
     "output_type": "execute_result"
    }
   ],
   "source": [
    "df_define_target = pd.DataFrame(list_define_target)\n",
    "df_define_target"
   ]
  },
  {
   "cell_type": "code",
   "execution_count": 4,
   "metadata": {},
   "outputs": [],
   "source": [
    "list_request = list(df_define_target['request'])\n",
    "list_input = list(df_define_target['input'])\n",
    "list_target = list(df_define_target['target'])"
   ]
  },
  {
   "cell_type": "code",
   "execution_count": 15,
   "metadata": {},
   "outputs": [],
   "source": [
    "request_slot = ['major_name']\n",
    "inform_slot = ['point', 'subject_group']\n",
    "all_slot = request_slot + inform_slot\n",
    "pattern_target = all_slot + map_order_entity[request_slot[0]].copy()"
   ]
  },
  {
   "cell_type": "code",
   "execution_count": 16,
   "metadata": {},
   "outputs": [],
   "source": [
    "## update state tracker\n",
    "\n",
    "list_state_tracker = ['initial']\n",
    "list_state_tracker += all_slot\n",
    "\n",
    "\n",
    "def recursion_find_best_way(list_state_tracker,pattern_target,request_slot):\n",
    "    \n",
    "    ## last state is \n",
    "#     last_state = list_state_tracker[-1]\n",
    "    \n",
    "    ## remove last state --> sucess rate\n",
    "    print('update list state tracker',list_state_tracker)\n",
    "    for item in list_state_tracker:\n",
    "        if item != 'initial' and item in pattern_target:\n",
    "#             if last_state in pattern_target:\n",
    "            pattern_target.remove(item)\n",
    "    \n",
    "        \n",
    "    if len(pattern_target) == 0:\n",
    "        print('sucess')\n",
    "        return True\n",
    "    \n",
    "    for idx in range(len(list_state_tracker)):\n",
    "        if idx < len(list_state_tracker) - 1:\n",
    "            window = list_state_tracker[idx:idx+2]\n",
    "#             window = list_state_tracker[-2:]\n",
    "\n",
    "            for idx, sublist in enumerate(list_input):\n",
    "                if 'initial' not in window:\n",
    "                    if sorted(window) == sorted(sublist) and request_slot[0] == list_request[idx]:\n",
    "\n",
    "                        target_match = list_target[idx]\n",
    "                        ## update state tracker\n",
    "                        if target_match not in list_state_tracker:\n",
    "                            list_state_tracker.append(target_match)\n",
    "                            break\n",
    "                else:\n",
    "                    if window == sublist and request_slot[0] == list_request[idx]:\n",
    "                        target_match = list_target[idx]\n",
    "                        ## update state tracker\n",
    "                        if target_match not in list_state_tracker:\n",
    "                            list_state_tracker.append(target_match)\n",
    "                            break\n",
    "                    \n",
    "    ## recursion\n",
    "    recursion_find_best_way(list_state_tracker,pattern_target,request_slot)\n"
   ]
  },
  {
   "cell_type": "code",
   "execution_count": 17,
   "metadata": {
    "scrolled": true
   },
   "outputs": [
    {
     "name": "stdout",
     "output_type": "stream",
     "text": [
      "update list state tracker ['initial', 'major_name', 'point', 'subject_group']\n",
      "update list state tracker ['initial', 'major_name', 'point', 'subject_group']\n",
      "sucess\n"
     ]
    }
   ],
   "source": [
    "recursion_find_best_way(list_state_tracker,pattern_target,request_slot)"
   ]
  },
  {
   "cell_type": "code",
   "execution_count": 18,
   "metadata": {},
   "outputs": [
    {
     "data": {
      "text/plain": [
       "['initial', 'major_name', 'point', 'subject_group']"
      ]
     },
     "execution_count": 18,
     "metadata": {},
     "output_type": "execute_result"
    }
   ],
   "source": [
    "list_state_tracker"
   ]
  }
 ],
 "metadata": {
  "kernelspec": {
   "display_name": "fsm",
   "language": "python",
   "name": "fsm"
  },
  "language_info": {
   "codemirror_mode": {
    "name": "ipython",
    "version": 3
   },
   "file_extension": ".py",
   "mimetype": "text/x-python",
   "name": "python",
   "nbconvert_exporter": "python",
   "pygments_lexer": "ipython3",
   "version": "3.7.10"
  }
 },
 "nbformat": 4,
 "nbformat_minor": 4
}
