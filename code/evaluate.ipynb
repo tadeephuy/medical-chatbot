{
 "cells": [
  {
   "cell_type": "code",
   "execution_count": 1,
   "metadata": {},
   "outputs": [],
   "source": [
    "from intent_matching import matching\n",
    "import pandas as pd\n",
    "import os\n",
    "import json\n",
    "import numpy as np\n",
    "import matplotlib.pyplot as plt\n",
    "from tqdm import tqdm"
   ]
  },
  {
   "cell_type": "code",
   "execution_count": 2,
   "metadata": {},
   "outputs": [],
   "source": [
    "_PATH_DATA = '../data'\n",
    "_PATH_TEST_B = os.path.join(_PATH_DATA,'test_b.csv')\n",
    "_PATH_TEST_A = os.path.join(_PATH_DATA,'test_a.csv')\n",
    "_PATH_INTENT = os.path.join(_PATH_DATA,'intent.json')"
   ]
  },
  {
   "cell_type": "code",
   "execution_count": 3,
   "metadata": {},
   "outputs": [
    {
     "data": {
      "text/plain": [
       "dict_keys(['overview', 'symptoms', 'main_type', 'risk_factor', 'severe', 'prevention', 'diag', 'treatment'])"
      ]
     },
     "execution_count": 3,
     "metadata": {},
     "output_type": "execute_result"
    }
   ],
   "source": [
    "dict_intent = json.load(open(_PATH_INTENT,'r'))\n",
    "dict_intent.keys()"
   ]
  },
  {
   "cell_type": "code",
   "execution_count": 4,
   "metadata": {},
   "outputs": [
    {
     "data": {
      "text/html": [
       "<div>\n",
       "<style scoped>\n",
       "    .dataframe tbody tr th:only-of-type {\n",
       "        vertical-align: middle;\n",
       "    }\n",
       "\n",
       "    .dataframe tbody tr th {\n",
       "        vertical-align: top;\n",
       "    }\n",
       "\n",
       "    .dataframe thead th {\n",
       "        text-align: right;\n",
       "    }\n",
       "</style>\n",
       "<table border=\"1\" class=\"dataframe\">\n",
       "  <thead>\n",
       "    <tr style=\"text-align: right;\">\n",
       "      <th></th>\n",
       "      <th>question</th>\n",
       "      <th>intent</th>\n",
       "      <th>annotate</th>\n",
       "    </tr>\n",
       "  </thead>\n",
       "  <tbody>\n",
       "    <tr>\n",
       "      <th>0</th>\n",
       "      <td>Chào bác sĩ ạ, gần đây em có đọc được một thôn...</td>\n",
       "      <td>overview</td>\n",
       "      <td>không nên truyền máu nếu có quan hệ huyết thốn...</td>\n",
       "    </tr>\n",
       "    <tr>\n",
       "      <th>1</th>\n",
       "      <td>Thưa bác sĩ, gần đây trên mạng xã hội có truyề...</td>\n",
       "      <td>overview</td>\n",
       "      <td>Vậy bác sĩ cho tôi hỏi nên ăn hoa quả trước ha...</td>\n",
       "    </tr>\n",
       "    <tr>\n",
       "      <th>2</th>\n",
       "      <td>Thưa Bác sỹ, theo tôi được biết hiện tại đang ...</td>\n",
       "      <td>symptom, treatment</td>\n",
       "      <td>Vậy Bác sỹ có thể cho tôi biết các dấu hiệu củ...</td>\n",
       "    </tr>\n",
       "    <tr>\n",
       "      <th>3</th>\n",
       "      <td>Thưa bác sĩ, thời tiết đang chuyển sang mù...</td>\n",
       "      <td>risk_factor, symptom</td>\n",
       "      <td>Vào mùa này, trẻ thường dễ mắc những bện...</td>\n",
       "    </tr>\n",
       "    <tr>\n",
       "      <th>4</th>\n",
       "      <td>Cho E xin tư vấn về vi rút HPV, và có thể điều...</td>\n",
       "      <td>overview, treatment</td>\n",
       "      <td>Cho E xin tư vấn về vi rút HPV, và có thể điều...</td>\n",
       "    </tr>\n",
       "  </tbody>\n",
       "</table>\n",
       "</div>"
      ],
      "text/plain": [
       "                                            question                intent  \\\n",
       "0  Chào bác sĩ ạ, gần đây em có đọc được một thôn...              overview   \n",
       "1  Thưa bác sĩ, gần đây trên mạng xã hội có truyề...              overview   \n",
       "2  Thưa Bác sỹ, theo tôi được biết hiện tại đang ...    symptom, treatment   \n",
       "3  Thưa bác sĩ, thời tiết đang chuyển sang mù...  risk_factor, symptom   \n",
       "4  Cho E xin tư vấn về vi rút HPV, và có thể điều...   overview, treatment   \n",
       "\n",
       "                                            annotate  \n",
       "0  không nên truyền máu nếu có quan hệ huyết thốn...  \n",
       "1  Vậy bác sĩ cho tôi hỏi nên ăn hoa quả trước ha...  \n",
       "2  Vậy Bác sỹ có thể cho tôi biết các dấu hiệu củ...  \n",
       "3   Vào mùa này, trẻ thường dễ mắc những bện...  \n",
       "4  Cho E xin tư vấn về vi rút HPV, và có thể điều...  "
      ]
     },
     "execution_count": 4,
     "metadata": {},
     "output_type": "execute_result"
    }
   ],
   "source": [
    "df_test = pd.read_csv(_PATH_TEST_B)\n",
    "df_test.head()"
   ]
  },
  {
   "cell_type": "code",
   "execution_count": 5,
   "metadata": {},
   "outputs": [],
   "source": [
    "def intersection(lst1, lst2):\n",
    "    lst3 = [value for value in lst1 if value in lst2]\n",
    "    return lst3"
   ]
  },
  {
   "cell_type": "code",
   "execution_count": 6,
   "metadata": {},
   "outputs": [],
   "source": [
    "dict_invest = {}\n",
    "## init dict_invest\n",
    "for k in list(dict_intent.keys()):\n",
    "    dict_invest[k] = 0\n"
   ]
  },
  {
   "cell_type": "code",
   "execution_count": 7,
   "metadata": {},
   "outputs": [],
   "source": [
    "list_sentence = list(df_test['annotate'])\n",
    "list_label = list(df_test['intent'])\n",
    "list_label = [item.split(',') for item in list_label]"
   ]
  },
  {
   "cell_type": "code",
   "execution_count": 8,
   "metadata": {},
   "outputs": [],
   "source": [
    "list_threshold = np.arange(0.5,1, 0.05).tolist()\n",
    "# list_threshold\n",
    "list_f1 = []"
   ]
  },
  {
   "cell_type": "code",
   "execution_count": 9,
   "metadata": {},
   "outputs": [],
   "source": [
    "## config type calculate edit distance\n",
    "\n",
    "type_dist = 'token_set'"
   ]
  },
  {
   "cell_type": "code",
   "execution_count": 10,
   "metadata": {},
   "outputs": [
    {
     "name": "stderr",
     "output_type": "stream",
     "text": [
      "100%|██████████| 236/236 [00:08<00:00, 27.90it/s]\n",
      "100%|██████████| 236/236 [00:08<00:00, 27.94it/s]\n",
      "100%|██████████| 236/236 [00:08<00:00, 26.79it/s]\n",
      "100%|██████████| 236/236 [00:10<00:00, 22.09it/s]\n",
      "100%|██████████| 236/236 [00:10<00:00, 21.65it/s]\n",
      "100%|██████████| 236/236 [00:08<00:00, 28.13it/s]\n",
      "100%|██████████| 236/236 [00:08<00:00, 28.72it/s]\n",
      "100%|██████████| 236/236 [00:07<00:00, 30.19it/s]\n",
      "100%|██████████| 236/236 [00:07<00:00, 30.69it/s]\n",
      "100%|██████████| 236/236 [00:07<00:00, 30.77it/s]\n"
     ]
    }
   ],
   "source": [
    "for threshold in list_threshold:\n",
    "\n",
    "    list_matching = []\n",
    "    # count = 0\n",
    "    list_investigate = []\n",
    "    list_precision = []\n",
    "    list_recall = []\n",
    "    for idx, sent in tqdm(enumerate(list_sentence), total = len(list_sentence)):\n",
    "\n",
    "        ## investigate threshold\n",
    "\n",
    "        dict_matching = matching(str(sent),threshold,type_dist)\n",
    "        list_res_match = dict_matching['intent']\n",
    "        list_investigate.append(dict_matching)\n",
    "        res_match = [item[0] for item in list_res_match]\n",
    "\n",
    "        list_labeling = [l.replace(':','') for l in list_label[idx]]\n",
    "\n",
    "        intersect = intersection(res_match,list_labeling)\n",
    "\n",
    "        ## define TP,FP,FN\n",
    "        TP = len(intersect)\n",
    "\n",
    "        FP = len(list(set(res_match) - set(list_labeling)))\n",
    "        precision = TP/(TP+FP)\n",
    "        list_precision.append(precision)\n",
    "\n",
    "        FN = len(list(set(list_labeling) - set(res_match)))\n",
    "        recall = TP/(TP+FN)\n",
    "        list_recall.append(recall)\n",
    "\n",
    "\n",
    "        precision_mean = np.mean(list_precision)\n",
    "        recall_mean = np.mean(list_recall)\n",
    "        f1_score = 2*(precision_mean*recall_mean)/(precision_mean+recall_mean)\n",
    "    list_f1.append(f1_score)"
   ]
  },
  {
   "cell_type": "code",
   "execution_count": 11,
   "metadata": {},
   "outputs": [
    {
     "data": {
      "image/png": "[encoded data removed]",
      "text/plain": [
       "<Figure size 432x288 with 1 Axes>"
      ]
     },
     "metadata": {
      "needs_background": "light"
     },
     "output_type": "display_data"
    }
   ],
   "source": [
    "plt.plot(list_threshold,list_f1)\n",
    "\n",
    "plt.xlabel('threshold')\n",
    "plt.ylabel('f1_score')\n",
    "plt.show()"
   ]
  },
  {
   "cell_type": "code",
   "execution_count": 12,
   "metadata": {},
   "outputs": [],
   "source": [
    "# list_f1"
   ]
  },
  {
   "cell_type": "code",
   "execution_count": 13,
   "metadata": {},
   "outputs": [],
   "source": [
    "# df_investigate = pd.DataFrame(list_investigate)\n",
    "# df_investigate"
   ]
  },
  {
   "cell_type": "code",
   "execution_count": 14,
   "metadata": {},
   "outputs": [],
   "source": [
    "# df_investigate['true_intent'] = list_label\n",
    "# df_investigate['precision'] = list_precision\n",
    "# df_investigate['recall'] = list_recall"
   ]
  },
  {
   "cell_type": "code",
   "execution_count": 15,
   "metadata": {},
   "outputs": [],
   "source": [
    "# df_investigate"
   ]
  },
  {
   "cell_type": "code",
   "execution_count": 16,
   "metadata": {},
   "outputs": [],
   "source": [
    "# list_fine_precision = []\n",
    "# for item in list_precision:\n",
    "#     if item != 'none':\n",
    "#         list_fine_precision.append(item)"
   ]
  },
  {
   "cell_type": "code",
   "execution_count": 17,
   "metadata": {},
   "outputs": [
    {
     "ename": "NameError",
     "evalue": "name 'df_investigate' is not defined",
     "output_type": "error",
     "traceback": [
      "\u001b[0;31m---------------------------------------------------------------------------\u001b[0m",
      "\u001b[0;31mNameError\u001b[0m                                 Traceback (most recent call last)",
      "\u001b[0;32m<ipython-input-17-dfcd143d9364>\u001b[0m in \u001b[0;36m<module>\u001b[0;34m\u001b[0m\n\u001b[0;32m----> 1\u001b[0;31m \u001b[0mdf_investigate\u001b[0m\u001b[0;34m.\u001b[0m\u001b[0mto_csv\u001b[0m\u001b[0;34m(\u001b[0m\u001b[0mos\u001b[0m\u001b[0;34m.\u001b[0m\u001b[0mpath\u001b[0m\u001b[0;34m.\u001b[0m\u001b[0mjoin\u001b[0m\u001b[0;34m(\u001b[0m\u001b[0m_PATH_DATA\u001b[0m\u001b[0;34m,\u001b[0m\u001b[0;34m'test_b_investigate.csv'\u001b[0m\u001b[0;34m)\u001b[0m\u001b[0;34m,\u001b[0m\u001b[0mheader\u001b[0m\u001b[0;34m=\u001b[0m\u001b[0;32mTrue\u001b[0m\u001b[0;34m,\u001b[0m\u001b[0mindex\u001b[0m\u001b[0;34m=\u001b[0m\u001b[0;32mFalse\u001b[0m\u001b[0;34m)\u001b[0m\u001b[0;34m\u001b[0m\u001b[0;34m\u001b[0m\u001b[0m\n\u001b[0m",
      "\u001b[0;31mNameError\u001b[0m: name 'df_investigate' is not defined"
     ]
    }
   ],
   "source": [
    "df_investigate.to_csv(os.path.join(_PATH_DATA,'test_b_investigate.csv'),header=True,index=False)"
   ]
  }
 ],
 "metadata": {
  "kernelspec": {
   "display_name": "thesis",
   "language": "python",
   "name": "thesis"
  },
  "language_info": {
   "codemirror_mode": {
    "name": "ipython",
    "version": 3
   },
   "file_extension": ".py",
   "mimetype": "text/x-python",
   "name": "python",
   "nbconvert_exporter": "python",
   "pygments_lexer": "ipython3",
   "version": "3.6.13"
  }
 },
 "nbformat": 4,
 "nbformat_minor": 4
}
