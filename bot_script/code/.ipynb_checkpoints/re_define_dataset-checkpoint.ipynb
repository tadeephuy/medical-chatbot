{
 "cells": [
  {
   "cell_type": "code",
   "execution_count": 1,
   "metadata": {},
   "outputs": [],
   "source": [
    "import pandas as pd"
   ]
  },
  {
   "cell_type": "code",
   "execution_count": 7,
   "metadata": {},
   "outputs": [
    {
     "data": {
      "text/html": [
       "<div>\n",
       "<style scoped>\n",
       "    .dataframe tbody tr th:only-of-type {\n",
       "        vertical-align: middle;\n",
       "    }\n",
       "\n",
       "    .dataframe tbody tr th {\n",
       "        vertical-align: top;\n",
       "    }\n",
       "\n",
       "    .dataframe thead th {\n",
       "        text-align: right;\n",
       "    }\n",
       "</style>\n",
       "<table border=\"1\" class=\"dataframe\">\n",
       "  <thead>\n",
       "    <tr style=\"text-align: right;\">\n",
       "      <th></th>\n",
       "      <th>_id</th>\n",
       "      <th>disease</th>\n",
       "      <th>overview</th>\n",
       "      <th>symptom</th>\n",
       "      <th>main_type</th>\n",
       "      <th>risk_factor</th>\n",
       "      <th>cause</th>\n",
       "      <th>severe</th>\n",
       "      <th>method_diagnosis</th>\n",
       "      <th>treatment</th>\n",
       "    </tr>\n",
       "  </thead>\n",
       "  <tbody>\n",
       "  </tbody>\n",
       "</table>\n",
       "</div>"
      ],
      "text/plain": [
       "Empty DataFrame\n",
       "Columns: [_id, disease, overview, symptom, main_type, risk_factor, cause, severe, method_diagnosis, treatment]\n",
       "Index: []"
      ]
     },
     "execution_count": 7,
     "metadata": {},
     "output_type": "execute_result"
    }
   ],
   "source": [
    "DF_PATTERN = pd.DataFrame(columns=['_id','disease','overview','symptom','main_type','risk_factor','cause','severe','method_diagnosis','treatment'])\n",
    "DF_PATTERN"
   ]
  },
  {
   "cell_type": "code",
   "execution_count": 8,
   "metadata": {},
   "outputs": [],
   "source": [
    "DF_PATTERN['_id'] = [0]\n",
    "DF_PATTERN['disease'] = ['thalass']\n",
    "DF_PATTERN['overview'] = [['Thalassemia is an inherited blood disorder']]\n",
    "DF_PATTERN['symptom'] = [['Fatigue','Weakness','Pale']]\n",
    "DF_PATTERN['main_type'] = [['alpha-thalass','beta-thalass']]\n",
    "DF_PATTERN['risk_factor'] = [['African Americans', 'people of Mediterranean']]\n",
    "DF_PATTERN['cause'] = [['from parent']]\n",
    "DF_PATTERN['severe'] = [['depend on type']]\n",
    "DF_PATTERN['method_diagnosis'] = [['blood testing']]\n",
    "DF_PATTERN['treatment'] = [['blood transfusions']]"
   ]
  },
  {
   "cell_type": "code",
   "execution_count": null,
   "metadata": {},
   "outputs": [],
   "source": [
    "DF_PATTERN"
   ]
  }
 ],
 "metadata": {
  "kernelspec": {
   "display_name": "disease",
   "language": "python",
   "name": "disease"
  },
  "language_info": {
   "codemirror_mode": {
    "name": "ipython",
    "version": 3
   },
   "file_extension": ".py",
   "mimetype": "text/x-python",
   "name": "python",
   "nbconvert_exporter": "python",
   "pygments_lexer": "ipython3",
   "version": "3.6.13"
  }
 },
 "nbformat": 4,
 "nbformat_minor": 4
}
