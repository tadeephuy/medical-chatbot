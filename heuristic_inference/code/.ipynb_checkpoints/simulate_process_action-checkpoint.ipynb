{
 "cells": [
  {
   "cell_type": "code",
   "execution_count": 13,
   "metadata": {},
   "outputs": [
    {
     "name": "stdout",
     "output_type": "stream",
     "text": [
      "The autoreload extension is already loaded. To reload it, use:\n",
      "  %reload_ext autoreload\n"
     ]
    }
   ],
   "source": [
    "%load_ext autoreload\n",
    "%autoreload 2\n",
    "\n",
    "import pymongo\n",
    "import os\n",
    "from process_action import update_agent_action, update_user_action\n",
    "from emc import gen_error_user_action\n",
    "from recursion_dm import dialogue_management\n",
    "import random\n",
    "from state_tracker import StateTracker\n",
    "\n",
    "from utils import gen_user_action"
   ]
  },
  {
   "cell_type": "code",
   "execution_count": null,
   "metadata": {},
   "outputs": [],
   "source": [
    "## check gen user's action from mess\n",
    "mess = 'mucoid_sputum ?'\n",
    "gen_user_action(mess)"
   ]
  },
  {
   "cell_type": "code",
   "execution_count": 3,
   "metadata": {},
   "outputs": [],
   "source": [
    "os.environ[\"MONGOLAB_URI\"] = 'mongodb://localhost:27017'\n",
    "client = pymongo.MongoClient(os.environ.get('MONGOLAB_URI'))\n",
    "database = client.vinbrain\n",
    "col_db = database.disease"
   ]
  },
  {
   "cell_type": "code",
   "execution_count": 4,
   "metadata": {},
   "outputs": [],
   "source": [
    "tracker = StateTracker(col_db)"
   ]
  },
  {
   "cell_type": "code",
   "execution_count": 5,
   "metadata": {},
   "outputs": [],
   "source": [
    "## init user's action\n",
    "user_action = {'inform_slots': {'Symptom': ['mucoid_sputum']}, 'intent': 'request', 'request_slots': {'Disease': 'unk'}}"
   ]
  },
  {
   "cell_type": "code",
   "execution_count": 6,
   "metadata": {},
   "outputs": [],
   "source": [
    "## update user's action\n",
    "tracker.update_user_action(user_action)"
   ]
  },
  {
   "cell_type": "code",
   "execution_count": 7,
   "metadata": {},
   "outputs": [
    {
     "data": {
      "text/plain": [
       "{'inform_slots': {'Symptom': ['mucoid_sputum']},\n",
       " 'request_slots': {'Disease': 'unk'}}"
      ]
     },
     "execution_count": 7,
     "metadata": {},
     "output_type": "execute_result"
    }
   ],
   "source": [
    "tracker.tracker_user_action"
   ]
  },
  {
   "cell_type": "code",
   "execution_count": 10,
   "metadata": {},
   "outputs": [],
   "source": [
    "## update agent's action\n",
    "agent_action,amount_record_match = tracker.update_agent_action()"
   ]
  },
  {
   "cell_type": "code",
   "execution_count": 11,
   "metadata": {},
   "outputs": [
    {
     "data": {
      "text/plain": [
       "1"
      ]
     },
     "execution_count": 11,
     "metadata": {},
     "output_type": "execute_result"
    }
   ],
   "source": [
    "amount_record_match"
   ]
  },
  {
   "cell_type": "code",
   "execution_count": 12,
   "metadata": {},
   "outputs": [
    {
     "data": {
      "text/plain": [
       "{'intent': 'match_found',\n",
       " 'inform_slots': {'Disease': ['Bronchial Asthma']},\n",
       " 'request_slots': {}}"
      ]
     },
     "execution_count": 12,
     "metadata": {},
     "output_type": "execute_result"
    }
   ],
   "source": [
    "agent_action"
   ]
  },
  {
   "cell_type": "markdown",
   "metadata": {},
   "source": [
    "## Testcase"
   ]
  },
  {
   "cell_type": "code",
   "execution_count": 3,
   "metadata": {},
   "outputs": [],
   "source": [
    "target_symptom =[ \n",
    "        \"mucoid_sputum\", \n",
    "        \"fatigue\", \n",
    "        \"breathlessness\", \n",
    "        \"high_fever\", \n",
    "        \"cough\", \n",
    "        \"family_history\"\n",
    "    ]"
   ]
  },
  {
   "cell_type": "code",
   "execution_count": 4,
   "metadata": {},
   "outputs": [],
   "source": [
    "# list_sympt_tracker = []"
   ]
  },
  {
   "cell_type": "code",
   "execution_count": 5,
   "metadata": {},
   "outputs": [],
   "source": [
    "# idx_init_sympt = random.randint(0,len(target_symptom)-1)"
   ]
  },
  {
   "cell_type": "code",
   "execution_count": 6,
   "metadata": {},
   "outputs": [],
   "source": [
    "# global user_action\n",
    "# user_action = {}\n",
    "# user_action['intent'] = 'request'\n",
    "# user_action['request_slots'] = {'Disease':'unk'}\n",
    "\n",
    "# user_action['inform_slots'] = {'Symptom':[target_symptom.pop(idx_init_sympt)]}\n",
    "\n",
    "done = False\n",
    "count = 0\n"
   ]
  },
  {
   "cell_type": "code",
   "execution_count": 7,
   "metadata": {},
   "outputs": [],
   "source": [
    "# user_action\n"
   ]
  },
  {
   "cell_type": "code",
   "execution_count": 1,
   "metadata": {
    "scrolled": false
   },
   "outputs": [],
   "source": [
    "# dialogue_management(target_symptom,col_db,count,done)"
   ]
  }
 ],
 "metadata": {
  "kernelspec": {
   "display_name": "disease",
   "language": "python",
   "name": "disease"
  },
  "language_info": {
   "codemirror_mode": {
    "name": "ipython",
    "version": 3
   },
   "file_extension": ".py",
   "mimetype": "text/x-python",
   "name": "python",
   "nbconvert_exporter": "python",
   "pygments_lexer": "ipython3",
   "version": "3.6.13"
  }
 },
 "nbformat": 4,
 "nbformat_minor": 4
}
